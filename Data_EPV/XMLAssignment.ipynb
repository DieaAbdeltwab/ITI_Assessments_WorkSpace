{
 "cells": [
  {
   "cell_type": "code",
   "execution_count": 54,
   "id": "a0753698",
   "metadata": {},
   "outputs": [],
   "source": [
    "import pandas as pd\n",
    "from lxml import etree\n",
    "import matplotlib.pyplot as plt\n"
   ]
  },
  {
   "cell_type": "code",
   "execution_count": null,
   "id": "9cc14e2f",
   "metadata": {},
   "outputs": [
    {
     "data": {
      "text/html": [
       "<div>\n",
       "<style scoped>\n",
       "    .dataframe tbody tr th:only-of-type {\n",
       "        vertical-align: middle;\n",
       "    }\n",
       "\n",
       "    .dataframe tbody tr th {\n",
       "        vertical-align: top;\n",
       "    }\n",
       "\n",
       "    .dataframe thead th {\n",
       "        text-align: right;\n",
       "    }\n",
       "</style>\n",
       "<table border=\"1\" class=\"dataframe\">\n",
       "  <thead>\n",
       "    <tr style=\"text-align: right;\">\n",
       "      <th></th>\n",
       "      <th>CustomerID</th>\n",
       "      <th>Name</th>\n",
       "      <th>Email</th>\n",
       "      <th>OrderID</th>\n",
       "      <th>OrderDate</th>\n",
       "      <th>ProductID</th>\n",
       "      <th>ProductName</th>\n",
       "      <th>Price</th>\n",
       "      <th>Quantity</th>\n",
       "    </tr>\n",
       "  </thead>\n",
       "  <tbody>\n",
       "    <tr>\n",
       "      <th>0</th>\n",
       "      <td>001</td>\n",
       "      <td>John Doe</td>\n",
       "      <td>johndoe@example.com</td>\n",
       "      <td>1001</td>\n",
       "      <td>2025-01-01</td>\n",
       "      <td>P001</td>\n",
       "      <td>Laptop</td>\n",
       "      <td>1200.0</td>\n",
       "      <td>1</td>\n",
       "    </tr>\n",
       "    <tr>\n",
       "      <th>1</th>\n",
       "      <td>001</td>\n",
       "      <td>John Doe</td>\n",
       "      <td>johndoe@example.com</td>\n",
       "      <td>1001</td>\n",
       "      <td>2025-01-01</td>\n",
       "      <td>P002</td>\n",
       "      <td>Mouse</td>\n",
       "      <td>25.0</td>\n",
       "      <td>2</td>\n",
       "    </tr>\n",
       "    <tr>\n",
       "      <th>2</th>\n",
       "      <td>001</td>\n",
       "      <td>John Doe</td>\n",
       "      <td>johndoe@example.com</td>\n",
       "      <td>1002</td>\n",
       "      <td>2025-01-05</td>\n",
       "      <td>P003</td>\n",
       "      <td>Monitor</td>\n",
       "      <td>300.0</td>\n",
       "      <td>1</td>\n",
       "    </tr>\n",
       "    <tr>\n",
       "      <th>3</th>\n",
       "      <td>002</td>\n",
       "      <td>Jane Smith</td>\n",
       "      <td>janesmith@example.com</td>\n",
       "      <td>1003</td>\n",
       "      <td>2025-01-07</td>\n",
       "      <td>P004</td>\n",
       "      <td>Tablet</td>\n",
       "      <td>500.0</td>\n",
       "      <td>1</td>\n",
       "    </tr>\n",
       "  </tbody>\n",
       "</table>\n",
       "</div>"
      ],
      "text/plain": [
       "  CustomerID        Name                  Email OrderID   OrderDate ProductID  \\\n",
       "0        001    John Doe    johndoe@example.com    1001  2025-01-01      P001   \n",
       "1        001    John Doe    johndoe@example.com    1001  2025-01-01      P002   \n",
       "2        001    John Doe    johndoe@example.com    1002  2025-01-05      P003   \n",
       "3        002  Jane Smith  janesmith@example.com    1003  2025-01-07      P004   \n",
       "\n",
       "  ProductName   Price  Quantity  \n",
       "0      Laptop  1200.0         1  \n",
       "1       Mouse    25.0         2  \n",
       "2     Monitor   300.0         1  \n",
       "3      Tablet   500.0         1  "
      ]
     },
     "execution_count": 55,
     "metadata": {},
     "output_type": "execute_result"
    }
   ],
   "source": [
    "# 1. Parse XML Data and Create a DataFrame (extracts customer, order, and item details)\n",
    "tree = etree.parse('Data/customers_orders.xml')\n",
    "items = tree.xpath('//Item')\n",
    "\n",
    "data = []\n",
    "for item in items:\n",
    "    data.append({\n",
    "        'CustomerID': item.xpath('ancestor::Customer/CustomerID/text()')[0],\n",
    "        'Name': item.xpath('ancestor::Customer/Name/text()')[0],\n",
    "        'Email': item.xpath('ancestor::Customer/Email/text()')[0],\n",
    "        'OrderID': item.xpath('ancestor::Order/OrderID/text()')[0],\n",
    "        'OrderDate': item.xpath('ancestor::Order/OrderDate/text()')[0],\n",
    "        'ProductID': item.find('ProductID').text,\n",
    "        'ProductName': item.find('ProductName').text,\n",
    "        'Price': float(item.find('Price').text),\n",
    "        'Quantity': int(item.find('Quantity').text)\n",
    "    })\n",
    "\n",
    "df = pd.DataFrame(data)\n",
    "df"
   ]
  },
  {
   "cell_type": "code",
   "execution_count": 56,
   "id": "f4d32748",
   "metadata": {},
   "outputs": [
    {
     "data": {
      "text/html": [
       "<div>\n",
       "<style scoped>\n",
       "    .dataframe tbody tr th:only-of-type {\n",
       "        vertical-align: middle;\n",
       "    }\n",
       "\n",
       "    .dataframe tbody tr th {\n",
       "        vertical-align: top;\n",
       "    }\n",
       "\n",
       "    .dataframe thead th {\n",
       "        text-align: right;\n",
       "    }\n",
       "</style>\n",
       "<table border=\"1\" class=\"dataframe\">\n",
       "  <thead>\n",
       "    <tr style=\"text-align: right;\">\n",
       "      <th></th>\n",
       "      <th>CustomerID</th>\n",
       "      <th>TotalRevenue</th>\n",
       "    </tr>\n",
       "  </thead>\n",
       "  <tbody>\n",
       "    <tr>\n",
       "      <th>0</th>\n",
       "      <td>001</td>\n",
       "      <td>1550.0</td>\n",
       "    </tr>\n",
       "    <tr>\n",
       "      <th>1</th>\n",
       "      <td>002</td>\n",
       "      <td>500.0</td>\n",
       "    </tr>\n",
       "  </tbody>\n",
       "</table>\n",
       "</div>"
      ],
      "text/plain": [
       "  CustomerID  TotalRevenue\n",
       "0        001        1550.0\n",
       "1        002         500.0"
      ]
     },
     "execution_count": 56,
     "metadata": {},
     "output_type": "execute_result"
    }
   ],
   "source": [
    "# 2. Calculate total revenue per customer\n",
    "revenue_per_customer = df.groupby('CustomerID').agg(TotalRevenue=('Price',lambda x : (x * df['Quantity'][x.index]).sum())).reset_index()\n",
    "revenue_per_customer"
   ]
  },
  {
   "cell_type": "code",
   "execution_count": 57,
   "id": "2501184c",
   "metadata": {},
   "outputs": [
    {
     "data": {
      "text/html": [
       "<div>\n",
       "<style scoped>\n",
       "    .dataframe tbody tr th:only-of-type {\n",
       "        vertical-align: middle;\n",
       "    }\n",
       "\n",
       "    .dataframe tbody tr th {\n",
       "        vertical-align: top;\n",
       "    }\n",
       "\n",
       "    .dataframe thead th {\n",
       "        text-align: right;\n",
       "    }\n",
       "</style>\n",
       "<table border=\"1\" class=\"dataframe\">\n",
       "  <thead>\n",
       "    <tr style=\"text-align: right;\">\n",
       "      <th></th>\n",
       "      <th>ProductName</th>\n",
       "      <th>TotalRevenue</th>\n",
       "    </tr>\n",
       "  </thead>\n",
       "  <tbody>\n",
       "    <tr>\n",
       "      <th>0</th>\n",
       "      <td>Laptop</td>\n",
       "      <td>1200.0</td>\n",
       "    </tr>\n",
       "    <tr>\n",
       "      <th>3</th>\n",
       "      <td>Tablet</td>\n",
       "      <td>500.0</td>\n",
       "    </tr>\n",
       "    <tr>\n",
       "      <th>1</th>\n",
       "      <td>Monitor</td>\n",
       "      <td>300.0</td>\n",
       "    </tr>\n",
       "  </tbody>\n",
       "</table>\n",
       "</div>"
      ],
      "text/plain": [
       "  ProductName  TotalRevenue\n",
       "0      Laptop        1200.0\n",
       "3      Tablet         500.0\n",
       "1     Monitor         300.0"
      ]
     },
     "execution_count": 57,
     "metadata": {},
     "output_type": "execute_result"
    }
   ],
   "source": [
    "# 3. Identify top products by total revenue\n",
    "top_products = df.groupby('ProductName').agg(TotalRevenue=('Price',lambda x : (x * df['Quantity'][x.index]).sum())\n",
    "                                                     ).reset_index().sort_values(by='TotalRevenue', ascending=False).head(3)\n",
    "top_products"
   ]
  },
  {
   "cell_type": "code",
   "execution_count": 58,
   "id": "55b528d4",
   "metadata": {},
   "outputs": [
    {
     "data": {
      "image/png": "[encoded data removed]",
      "text/plain": [
       "<Figure size 1000x600 with 1 Axes>"
      ]
     },
     "metadata": {},
     "output_type": "display_data"
    }
   ],
   "source": [
    "# 4. Visualize the top 3 products and their revenues using a bar chart.\n",
    "plt.figure(figsize=(10, 6))\n",
    "plt.bar(top_products['ProductName'], top_products['TotalRevenue'])\n",
    "plt.title('Top 3 Products by Total Revenue')\n",
    "plt.xlabel('Product Name')\n",
    "plt.ylabel('Total Revenue')\n",
    "plt.show()"
   ]
  }
 ],
 "metadata": {
  "kernelspec": {
   "display_name": "base",
   "language": "python",
   "name": "python3"
  },
  "language_info": {
   "codemirror_mode": {
    "name": "ipython",
    "version": 3
   },
   "file_extension": ".py",
   "mimetype": "text/x-python",
   "name": "python",
   "nbconvert_exporter": "python",
   "pygments_lexer": "ipython3",
   "version": "3.12.3"
  }
 },
 "nbformat": 4,
 "nbformat_minor": 5
}
