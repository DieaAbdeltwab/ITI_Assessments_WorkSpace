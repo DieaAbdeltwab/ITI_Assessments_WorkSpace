{
 "cells": [
  {
   "cell_type": "code",
   "execution_count": 1,
   "metadata": {},
   "outputs": [],
   "source": [
    "import numpy as np"
   ]
  },
  {
   "cell_type": "code",
   "execution_count": 2,
   "metadata": {},
   "outputs": [
    {
     "name": "stdout",
     "output_type": "stream",
     "text": [
      "[0. 0. 0. 0. 0. 0. 0. 0. 0. 0.]\n",
      "[1. 1. 1. 1. 1. 1. 1. 1. 1. 1.]\n",
      "[5 5 5 5 5 5 5 5 5 5]\n"
     ]
    }
   ],
   "source": [
    "#Q1\n",
    "array_10_zeros = np.zeros(10)\n",
    "print(array_10_zeros)\n",
    "\n",
    "array_10_ones = np.ones(10)\n",
    "print(array_10_ones)\n",
    "\n",
    "\n",
    "array_10_fives = np.full(10, 5)\n",
    "print(array_10_fives)\n",
    "\n",
    "\n",
    "\n"
   ]
  },
  {
   "cell_type": "code",
   "execution_count": 3,
   "metadata": {},
   "outputs": [
    {
     "name": "stdout",
     "output_type": "stream",
     "text": [
      "[30 32 34 36 38 40 42 44 46 48 50 52 54 56 58 60 62 64 66 68 70]\n"
     ]
    }
   ],
   "source": [
    "#Q2\n",
    "array_even_numbers = np.arange(30, 71, 2)\n",
    "print(array_even_numbers)\n",
    "\n"
   ]
  },
  {
   "cell_type": "code",
   "execution_count": 4,
   "metadata": {},
   "outputs": [
    {
     "name": "stdout",
     "output_type": "stream",
     "text": [
      "[[0. 0. 0. 0. 0. 0.]\n",
      " [0. 0. 0. 0. 0. 0.]\n",
      " [0. 0. 0. 0. 0. 0.]\n",
      " [0. 0. 0. 0. 0. 0.]\n",
      " [0. 0. 0. 0. 0. 0.]]\n"
     ]
    }
   ],
   "source": [
    "#Q3\n",
    "array_30_zeros = np.zeros((5,6))\n",
    "print(array_30_zeros)"
   ]
  },
  {
   "cell_type": "code",
   "execution_count": 5,
   "metadata": {},
   "outputs": [
    {
     "name": "stdout",
     "output_type": "stream",
     "text": [
      "[[0.55565919 0.21382653 0.58422585 0.84573711 0.14871461 0.24209275\n",
      "  0.33280945 0.4135666  0.22689208 0.93762492]\n",
      " [0.99831599 0.31787231 0.5279069  0.87839936 0.86324747 0.64090591\n",
      "  0.90498133 0.98439309 0.67064566 0.07411008]\n",
      " [0.69273902 0.52493507 0.43651321 0.71245985 0.43008303 0.5843432\n",
      "  0.31108235 0.2184437  0.8898951  0.15439053]\n",
      " [0.73921118 0.62625362 0.43354275 0.90677315 0.73162447 0.04869476\n",
      "  0.21161403 0.33957928 0.03825071 0.4601924 ]\n",
      " [0.42912888 0.52655773 0.94182848 0.7311113  0.28420948 0.05826876\n",
      "  0.50849995 0.33895435 0.72157099 0.88907273]\n",
      " [0.49094034 0.99091444 0.07845815 0.03221241 0.51234319 0.68673529\n",
      "  0.43276624 0.05225795 0.64860674 0.80060935]\n",
      " [0.51880175 0.96644408 0.47883261 0.82880519 0.73509792 0.98274444\n",
      "  0.92715641 0.08700223 0.26704527 0.3673103 ]\n",
      " [0.86216722 0.2843423  0.13840466 0.97032749 0.52436717 0.68145609\n",
      "  0.82503265 0.28427603 0.0229732  0.13142464]\n",
      " [0.5928757  0.36015234 0.4061417  0.28151611 0.17590652 0.56080475\n",
      "  0.9571037  0.1976205  0.71619997 0.73598606]\n",
      " [0.8594562  0.38986367 0.68599586 0.21068119 0.06824285 0.20849262\n",
      "  0.91646106 0.59875126 0.78123707 0.78018611]]\n",
      "Max: 0.9983159914885924\n",
      "Min: 0.02297319935027864\n",
      "Max: 0.9983159914885924\n",
      "Min: 0.02297319935027864\n"
     ]
    }
   ],
   "source": [
    "#Q4\n",
    "array_10_10_random_numbers = np.random.random(size=(10, 10))\n",
    "print(array_10_10_random_numbers)\n",
    "print(f\"Max: {array_10_10_random_numbers.max()}\")\n",
    "print(f\"Min: {array_10_10_random_numbers.min()}\")\n",
    "print(f\"Max: {np.max(array_10_10_random_numbers)}\")\n",
    "print(f\"Min: {np.min(array_10_10_random_numbers)}\")\n"
   ]
  },
  {
   "cell_type": "code",
   "execution_count": 6,
   "metadata": {},
   "outputs": [
    {
     "name": "stdout",
     "output_type": "stream",
     "text": [
      "[[8 4 4]\n",
      " [6 9 5]\n",
      " [5 3 7]]\n"
     ]
    }
   ],
   "source": [
    "#Q5\n",
    "array_3_3_random_numbers = np.random.randint(2, 10, size=(3, 3))\n",
    "print(array_3_3_random_numbers)\n"
   ]
  },
  {
   "cell_type": "code",
   "execution_count": 7,
   "metadata": {},
   "outputs": [
    {
     "name": "stdout",
     "output_type": "stream",
     "text": [
      "[ 0  1  2  3  4  5  6  7  8  9 10 11 12 13 14 15 16 17 18 19]\n",
      "[16 17 18 19]\n"
     ]
    }
   ],
   "source": [
    "#Q6\n",
    "array_20 = np.arange(20)\n",
    "print(array_20)\n",
    "print(array_20[array_20>15])\n"
   ]
  },
  {
   "cell_type": "code",
   "execution_count": 8,
   "metadata": {},
   "outputs": [
    {
     "name": "stdout",
     "output_type": "stream",
     "text": [
      "[[ 0  1  3  0  2  4]\n",
      " [ 5  7  9  6  8 10]]\n",
      "[[ 0  1  3]\n",
      " [ 5  7  9]\n",
      " [ 0  2  4]\n",
      " [ 6  8 10]]\n"
     ]
    }
   ],
   "source": [
    "#Q7\n",
    "array_1 = np.array([[0, 1, 3]\n",
    "                    , [5, 7, 9]])\n",
    "array_2 = np.array([[0, 2, 4]\n",
    "                    , [6, 8, 10]])\n",
    "array_horizontal = np.hstack((array_1, array_2))\n",
    "print(array_horizontal)\n",
    "array_vertical = np.vstack((array_1, array_2))\n",
    "print(array_vertical)\n"
   ]
  },
  {
   "cell_type": "code",
   "execution_count": 9,
   "metadata": {},
   "outputs": [
    {
     "name": "stdout",
     "output_type": "stream",
     "text": [
      "[1. 1. 1. 1. 1. 1. 1. 1. 1. 1.]\n",
      "[ 1.  1.  1.  1.  1. 11.  1.  1.  1.  1.]\n"
     ]
    }
   ],
   "source": [
    "#Q8\n",
    "array_10_ones = np.ones(10)\n",
    "print(array_10_ones)\n",
    "array_10_ones[5] = 11\n",
    "print(array_10_ones)\n",
    "\n"
   ]
  },
  {
   "cell_type": "code",
   "execution_count": 10,
   "metadata": {},
   "outputs": [
    {
     "name": "stdout",
     "output_type": "stream",
     "text": [
      "[ 1.  1.  1.  1.  1. 11.  1.  1.  1.  1. 11.]\n"
     ]
    }
   ],
   "source": [
    "#Q9\n",
    "array_10_ones = np.append(array_10_ones, 11)\n",
    "print(array_10_ones)\n",
    "\n"
   ]
  },
  {
   "cell_type": "code",
   "execution_count": 11,
   "metadata": {},
   "outputs": [
    {
     "name": "stdout",
     "output_type": "stream",
     "text": [
      "[0 1 2 3 4 5 6 7 8 9]\n",
      "[9 8 7 6 5 4 3 2 1 0]\n",
      "[0 1 2 3 4 5 6 7 8 9]\n",
      "[9 8 7 6 5 4 3 2 1 0]\n"
     ]
    }
   ],
   "source": [
    "#Q10\n",
    "array_10 = np.arange(10)\n",
    "print(array_10)\n",
    "array_10 = array_10 [::-1]\n",
    "print(array_10)\n",
    "array_10 = np.flip(array_10)\n",
    "print(array_10)\n",
    "array_10 = np.array(list(reversed(array_10)))\n",
    "print(array_10)\n",
    "\n",
    "\n"
   ]
  }
 ],
 "metadata": {
  "kernelspec": {
   "display_name": "base",
   "language": "python",
   "name": "python3"
  },
  "language_info": {
   "codemirror_mode": {
    "name": "ipython",
    "version": 3
   },
   "file_extension": ".py",
   "mimetype": "text/x-python",
   "name": "python",
   "nbconvert_exporter": "python",
   "pygments_lexer": "ipython3",
   "version": "3.12.7"
  }
 },
 "nbformat": 4,
 "nbformat_minor": 2
}
