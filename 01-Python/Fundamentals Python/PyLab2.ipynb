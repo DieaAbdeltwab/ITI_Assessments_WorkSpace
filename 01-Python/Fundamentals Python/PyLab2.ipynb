{
 "cells": [
  {
   "cell_type": "code",
   "execution_count": 17,
   "id": "16e0520f-984d-424c-a1eb-3019a05e64a7",
   "metadata": {},
   "outputs": [
    {
     "name": "stdin",
     "output_type": "stream",
     "text": [
      "Number 1:  1\n",
      "Number 2:  2\n",
      "Enter: Add, Sub, Mul, Div :: or q to Quit  sub\n"
     ]
    },
    {
     "name": "stdout",
     "output_type": "stream",
     "text": [
      "Invalid Operation\n"
     ]
    },
    {
     "name": "stdin",
     "output_type": "stream",
     "text": [
      "Number 1:  1\n",
      "Number 2:  2\n",
      "Enter: Add, Sub, Mul, Div :: or q to Quit  q\n"
     ]
    },
    {
     "name": "stdout",
     "output_type": "stream",
     "text": [
      "Exiting...\n"
     ]
    }
   ],
   "source": [
    "#1) Calculator\n",
    "while True:\n",
    "    num1 = int(input(\"Number 1: \"))\n",
    "    num2 = int(input(\"Number 2: \"))\n",
    "\n",
    "    opre_S = input(\"Enter: Add, Sub, Mul, Div :: or q to Quit \")\n",
    "\n",
    "    if opre_S == \"q\":\n",
    "        print(\"Exiting...\")\n",
    "        break\n",
    "\n",
    "    resul = 0 \n",
    "    opre  = \"\"  \n",
    "\n",
    "    if opre_S == \"Add\":\n",
    "        resul = num1 + num2\n",
    "        opre = \"+\"\n",
    "    elif opre_S == \"Sub\":\n",
    "        resul = num1 - num2\n",
    "        opre = \"-\"\n",
    "    elif opre_S == \"Mul\":\n",
    "        resul = num1 * num2\n",
    "        opre = \"*\"\n",
    "    elif opre_S == \"Div\":\n",
    "        if num2 == 0:\n",
    "            print(\"Error: Division by zero is not allowed!\")\n",
    "            continue\n",
    "        resul = num1 / num2\n",
    "        opre = \"/\"\n",
    "    else:\n",
    "        print(\"Invalid Operation\")\n",
    "        continue  \n",
    "\n",
    "    print(f\"Result: {num1} {opre} {num2} = {resul}\")\n"
   ]
  },
  {
   "cell_type": "code",
   "execution_count": 24,
   "id": "55cc4a97-2558-4d82-b704-8cbe7489333c",
   "metadata": {},
   "outputs": [
    {
     "name": "stdin",
     "output_type": "stream",
     "text": [
      "Hourly wage:   12.5\n",
      "Hours  worked:   10\n",
      "Day of the week:  Sunday\n"
     ]
    },
    {
     "name": "stdout",
     "output_type": "stream",
     "text": [
      "It's Sunday\n",
      "Daily wages: 250.0 euros\n"
     ]
    }
   ],
   "source": [
    "#2) Daily wages\n",
    "hourly_wage  = float(input(\"Hourly wage:  \"))\n",
    "hours_worked = float(input(\"Hours  worked:  \"))\n",
    "daily_wages = 0 \n",
    "day = input(\"Day of the week: \")\n",
    "if day == \"Sunday\":\n",
    "    print(\"It's Sunday\")\n",
    "    daily_wages = hourly_wage * hours_worked *2\n",
    "elif day in [\"Monday\", \"Tuesday\", \"Wednesday\", \"Thursday\", \"Friday\", \"Saturday\"]:\n",
    "    print(f\"It's {day}\")\n",
    "    daily_wages = hourly_wage * hours_worked\n",
    "else:\n",
    "    print(\"Invalid day entered.\")\n",
    "    \n",
    "print(f\"Daily wages: {daily_wages} euros\")\n"
   ]
  },
  {
   "cell_type": "code",
   "execution_count": 28,
   "id": "0bb5a41f-f1b0-4881-9772-329dbf3085f9",
   "metadata": {},
   "outputs": [
    {
     "name": "stdin",
     "output_type": "stream",
     "text": [
      "How many points are on your card?  100\n"
     ]
    },
    {
     "name": "stdout",
     "output_type": "stream",
     "text": [
      "Your bonus is 15 %\n",
      "You now have 114.99999999999999 points\n"
     ]
    }
   ],
   "source": [
    "# 3) Loyalty bonus\n",
    "                     ## Or by elif Or by continue\n",
    "points = int(input(\"How many points are on your card? \"))\n",
    "\n",
    "original_points = points  \n",
    "\n",
    "if original_points < 100:\n",
    "    points *= 1.1\n",
    "    print(\"Your bonus is 10 %\")\n",
    "    \n",
    "if original_points >= 100: \n",
    "    points *= 1.15\n",
    "    print(\"Your bonus is 15 %\")\n",
    "\n",
    "print(\"You now have\", points, \"points\")"
   ]
  },
  {
   "cell_type": "code",
   "execution_count": 33,
   "id": "acb44e44-76ac-4ef9-8359-80b69019654b",
   "metadata": {},
   "outputs": [
    {
     "name": "stdin",
     "output_type": "stream",
     "text": [
      "Number :  45\n"
     ]
    },
    {
     "name": "stdout",
     "output_type": "stream",
     "text": [
      "FizzBuzz\n"
     ]
    }
   ],
   "source": [
    "# 4) FizzBuzz\n",
    "\n",
    "num = int(input(\"Number : \"))\n",
    "\n",
    "if (num % 3 == 0 ) and (num % 5 == 0) :\n",
    "    print (\"FizzBuzz\")\n",
    "elif num % 3  == 0 :\n",
    "    print (\"Fizz\")\n",
    "elif num % 5  == 0 :\n",
    "    print (\"Buzz\")\n"
   ]
  },
  {
   "cell_type": "code",
   "execution_count": 3,
   "id": "7f1ae71a-9b42-40dd-ba18-f5d53bf06be1",
   "metadata": {},
   "outputs": [
    {
     "name": "stdin",
     "output_type": "stream",
     "text": [
      "PIN :  4321\n"
     ]
    },
    {
     "name": "stdout",
     "output_type": "stream",
     "text": [
      "Correct! It only took you one single attempt! \n"
     ]
    }
   ],
   "source": [
    "#5) PIN and number of attempts\n",
    "counter = 1 \n",
    "while True :\n",
    "    pin = int(input(\"PIN : \"))\n",
    "    if pin == 4321 :\n",
    "        if counter == 1 :\n",
    "            print ( \"Correct! It only took you one single attempt! \")\n",
    "        else :\n",
    "            print (f\"Correct! It took you {counter} attempts\")\n",
    "        break\n",
    "    else :\n",
    "        counter += 1 \n",
    "        print ( \"Wrong\")\n",
    " \n"
   ]
  },
  {
   "cell_type": "code",
   "execution_count": 2,
   "id": "5a997379-c726-4940-9834-588857bdcf90",
   "metadata": {},
   "outputs": [
    {
     "name": "stdout",
     "output_type": "stream",
     "text": [
      "-10\n",
      "-9\n",
      "-8\n",
      "-7\n",
      "-6\n",
      "-5\n",
      "-4\n",
      "-3\n",
      "-2\n",
      "-1\n"
     ]
    }
   ],
   "source": [
    "#6) Display numbers from -10 to -1\n",
    "for num in range(-10, 0):\n",
    "    print(num)\n",
    "    "
   ]
  },
  {
   "cell_type": "code",
   "execution_count": null,
   "id": "fcfa77b5-dd1f-4a50-b888-8ee156abf21d",
   "metadata": {},
   "outputs": [],
   "source": [
    "\n"
   ]
  },
  {
   "cell_type": "code",
   "execution_count": 2,
   "id": "cd63373b-f9af-4328-b337-50f886484ac0",
   "metadata": {},
   "outputs": [
    {
     "name": "stdin",
     "output_type": "stream",
     "text": [
      "Number :  12\n"
     ]
    },
    {
     "name": "stdout",
     "output_type": "stream",
     "text": [
      "number : 12 :: Reversenumber 21 \n"
     ]
    }
   ],
   "source": [
    "#7 Bonus: Reverse integer number\n",
    "\n",
    "num = int(input(\"Number : \")) \n",
    "orginal_num = num \n",
    "one = 0 \n",
    "Reversed_num = 0 \n",
    "while num != 0 : \n",
    "    one = num % 10 \n",
    "    num = num // 10\n",
    "\n",
    "    Reversed_num *= 10 \n",
    "    Reversed_num += one\n",
    "\n",
    "print (f\"number : {orginal_num} :: Reversenumber {Reversed_num} \")"
   ]
  },
  {
   "cell_type": "code",
   "execution_count": null,
   "id": "2216af3a-269c-425f-91d4-b62120bd7d50",
   "metadata": {},
   "outputs": [],
   "source": []
  }
 ],
 "metadata": {
  "kernelspec": {
   "display_name": "Python 3 (ipykernel)",
   "language": "python",
   "name": "python3"
  },
  "language_info": {
   "codemirror_mode": {
    "name": "ipython",
    "version": 3
   },
   "file_extension": ".py",
   "mimetype": "text/x-python",
   "name": "python",
   "nbconvert_exporter": "python",
   "pygments_lexer": "ipython3",
   "version": "3.12.9"
  }
 },
 "nbformat": 4,
 "nbformat_minor": 5
}
