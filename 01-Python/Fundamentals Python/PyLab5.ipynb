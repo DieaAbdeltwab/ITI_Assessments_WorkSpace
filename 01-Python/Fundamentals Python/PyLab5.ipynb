{
 "cells": [
  {
   "cell_type": "code",
   "execution_count": 316,
   "id": "d40914f9",
   "metadata": {},
   "outputs": [],
   "source": [
    "from pathlib import Path\n",
    "import json\n",
    "from json import JSONDecodeError\n",
    "import re"
   ]
  },
  {
   "cell_type": "code",
   "execution_count": 359,
   "id": "3eb6fa76",
   "metadata": {},
   "outputs": [
    {
     "name": "stdin",
     "output_type": "stream",
     "text": [
      "Enter file name:  a.txt\n"
     ]
    },
    {
     "name": "stdout",
     "output_type": "stream",
     "text": [
      "\"fdsa\"\n"
     ]
    }
   ],
   "source": [
    "# Problem 1: File Reader with Exception Handling\n",
    "#================================Functions================================================= \n",
    "\n",
    "def file_reader(file_path_name  ):\n",
    "    path = Path(file_path_name) \n",
    "    file_content_report = \"\"\n",
    "    try :\n",
    "        file_content_report = path.read_text()\n",
    "    except FileNotFoundError : # if file not found  \n",
    "        print(f\"Error: File '{file_path_name}' not found.\")\n",
    "        yes_no = input(\"Would you like to try again? (yes/no)\")\n",
    "        if yes_no == \"yes\" :\n",
    "            file_path = input(\"Enter file name: \")\n",
    "            file_content_report = file_reader(file_path)\n",
    "        elif yes_no == \"no\"  :\n",
    "            file_content_report =  f\"Error: File '{file_path_name}' not found and you not like to try again\"\n",
    "        else :\n",
    "            file_content_report  = f\"Non Validation input , you should enter (yes/no) ,Stop playing !!\"\n",
    "    except IsADirectoryError : # if you try to read directory\n",
    "        file_content_report = f\"except : This Is a directory : {file_path_name} !! , i raed files \"\n",
    "    return file_content_report\n",
    "\n",
    "#==========================================================================================\n",
    "\n",
    "file_path = input(\"Enter file name: \")\n",
    "print(file_reader(file_path))\n"
   ]
  },
  {
   "cell_type": "code",
   "execution_count": 360,
   "id": "92e5c752",
   "metadata": {},
   "outputs": [
    {
     "name": "stdin",
     "output_type": "stream",
     "text": [
      "Enter file name:  a.txt\n",
      "Enter text to save:  Diea\n"
     ]
    },
    {
     "name": "stdout",
     "output_type": "stream",
     "text": [
      "\n",
      "Data saved successfully to a.txt\n",
      "Contents of a.txt\n",
      "Diea\n"
     ]
    }
   ],
   "source": [
    "# Problem 2: Write Data to a File\n",
    "#================================Functions================================================= \n",
    "\n",
    "def file_write(file_path_name , text_file ):\n",
    "    path = Path(file_path_name) \n",
    "    report_action = \"\"\n",
    "    try :\n",
    "        path.write_text(text_file)\n",
    "    except PermissionError : # if you dont have Permission to write in this file \n",
    "        report_action  = f\"except : Error: Permission denied to write to {file_path_name}\"\n",
    "    except FileNotFoundError :  # if file not found  \n",
    "        report_action  = f\"\\nexcept : No such directory by this name : {file_path_name}\\n\"\n",
    "        report_action += f\"except :  .write_text() method can creat file but can't creat directory \"\n",
    "    except IsADirectoryError : # if you try to write directory\n",
    "        report_action = f\"\\nexcept : This Is a directory : {file_path_name} !! , i write in files\"\n",
    "\n",
    "    else :\n",
    "        report_action  = f\"\\nData saved successfully to {file_path_name}\\n\"\n",
    "        report_action += f\"Contents of {file_path_name}\\n\"\n",
    "        report_action += path.read_text()\n",
    "        #report_action += file_reader(file_path_name))\n",
    "    return report_action\n",
    "#==========================================================================================\n",
    "\n",
    "file_path = input(\"Enter file name: \")\n",
    "save_text = input(\"Enter text to save: \")\n",
    "print(file_write(file_path ,save_text))"
   ]
  },
  {
   "cell_type": "code",
   "execution_count": 371,
   "id": "96ad0235",
   "metadata": {},
   "outputs": [
    {
     "name": "stdout",
     "output_type": "stream",
     "text": [
      "============================================================================\n",
      "UPdating Done Successfully\n",
      "{'name': 'Diea', 'age': 30, 'city': 'Cairo'}\n",
      "============================================================================\n",
      "\n",
      "Data saved successfully to a.txt\n",
      "Contents of a.txt\n",
      "{\"name\": \"Diea\", \"age\": 30, \"city\": \"Cairo\"}\n",
      "============================================================================\n",
      "{'name': 'Diea', 'age': 30, 'city': 'Cairo'}\n",
      "============================================================================\n"
     ]
    }
   ],
   "source": [
    "#Problem 3: Store Data in JSON Format\n",
    "#================================Functions================================================= \n",
    "\n",
    "def file_write_json(file_path_name , data_json ):\n",
    "    try :\n",
    "        data_json_temp = json.dumps(data_json)\n",
    "        report_action  = file_write(file_path_name ,data_json_temp )\n",
    "    except IOError : #genaral for Input/Output Error , Python 3: merge OSError\n",
    "        report_action = \"except : Input/Output Error !!\" \n",
    "    return report_action\n",
    "        \n",
    "def file_reader_json (file_path_name ):\n",
    "    try :\n",
    "        file_content_report = json.loads(file_reader(file_path_name))\n",
    "    except IOError : #genaral for Input/Output Error , Python 3: merge OSError\n",
    "        file_content_report = \"except : Input/Output Error !!\" \n",
    "    except JSONDecodeError : # Error in decode , any file should i write in it as Json file befor i read it as a Json\n",
    "        file_content_report = \"except : Sorry !! , i have problem in decode !\" \n",
    "    return file_content_report\n",
    "\n",
    "\n",
    "def input_dictionary ( dictionary , name, age ,city ) :\n",
    "    dictionary_report = \"\"\n",
    "    try :\n",
    "        if  (not name.isalpha()) or  (name.strip() == \"\") or (age <= 0) or (not age.is_integer()) or \\\n",
    "        (city.strip() == \"\") or (not city.isalpha()) :\n",
    "            \n",
    "            if (not name.isalpha()) or  (name.strip() == \"\"):\n",
    "                dictionary_report += \"your First name should be Alphanumeric and non-empty string \\n\"\n",
    "            if (age <= 0) or (not age.is_integer())  :\n",
    "                dictionary_report += \"your age should more than 0 and Integar Number not Float \\n\"\n",
    "            if (city.strip() == \"\") or (not city.isalpha()) :\n",
    "                dictionary_report += \"your City is a non-empty string and should be Alphanumeric \\n\"\n",
    "        else :\n",
    "            dictionary[\"name\"]= name\n",
    "            dictionary[\"age\"]= age\n",
    "            dictionary[\"city\"]=city\n",
    "            dictionary_report = \"UPdating Done Successfully\"\n",
    "    except AttributeError :  # if is not isalpha , because .isalpha() method work with Strings  \n",
    "        dictionary_report += \"except : your First name and your city should be Alphanumeric \"\n",
    "    except TypeError : # if i compare two types not in same type ( string > int , string > float  )\n",
    "        dictionary_report += \"except : your age should be Number \"\n",
    "            \n",
    "    return dictionary_report \n",
    "\n",
    "#==========================================================================================\n",
    "\n",
    "data = {}\n",
    "\n",
    "report = input_dictionary(data ,\"Diea\",30,\"Cairo\")\n",
    "print(\"============================================================================\")\n",
    "print(report)\n",
    "print(data)\n",
    "if data :\n",
    "    print(\"============================================================================\")\n",
    "    print(file_write_json('a.txt',data))\n",
    "    print(\"============================================================================\")\n",
    "    print(file_reader_json('a.txt'))\n",
    "    print(\"============================================================================\")\n",
    "\n",
    "\n"
   ]
  },
  {
   "cell_type": "code",
   "execution_count": 365,
   "id": "2320e26f",
   "metadata": {},
   "outputs": [
    {
     "name": "stdin",
     "output_type": "stream",
     "text": [
      "\n",
      "Main Menu:\n",
      " 1. Read a file\n",
      " 2. Write to a file\n",
      " 3. Save data to JSON\n",
      " 4. Exit\n",
      "Choose an option: 4\n"
     ]
    },
    {
     "name": "stdout",
     "output_type": "stream",
     "text": [
      "\n",
      "Goodbye..\n",
      "\n"
     ]
    }
   ],
   "source": [
    "#Problem 4: Complete Workflow\n",
    "#================================Functions================================================= \n",
    "file_path = \"\"\n",
    "save_text = \"\"\n",
    "def switching_inputs_menu (switch_menu) : \n",
    "    global file_path , save_text\n",
    "    if key_menu   == 1 :     \n",
    "        file_path = input(\"Enter file name: \")\n",
    "        print(file_reader(file_path))\n",
    "    elif key_menu == 2 :\n",
    "        file_path = input(\"Enter file name: \")\n",
    "        save_text = input(\"Enter text to save: \")\n",
    "        print(file_write(file_path ,save_text))\n",
    "    elif key_menu == 3 :\n",
    "        json_file_path = input(\"Enter file name: \")\n",
    "        if json_file_path == file_path : \n",
    "            save_text = input(\"Enter text to save: \")\n",
    "        print(file_write_json(json_file_path,save_text))\n",
    "\n",
    "#==========================================================================================\n",
    "while True :\n",
    "    try : \n",
    "        key_menu = int(input (\"\\nMain Menu:\\n 1. Read a file\\n 2. Write to a file\\n 3. Save data to JSON\\n 4. Exit\\nChoose an option:\"))\n",
    "    except ValueError : # if you try to cast a type cant casting in int type  \n",
    "        print(\"\\nexcept : Enter a Numerical Value \\n\")\n",
    "    else : \n",
    "        if key_menu == 4 :\n",
    "            print(\"\\nGoodbye..\\n\")\n",
    "            break\n",
    "        elif key_menu > 4 or key_menu <= 0 :\n",
    "            print(\"\\nEnter value from menu ( 1 , 2 , 3 , 4 )!!\\n\")\n",
    "        else :\n",
    "            switching_inputs_menu(key_menu)"
   ]
  },
  {
   "cell_type": "code",
   "execution_count": 372,
   "id": "12e5d52e",
   "metadata": {},
   "outputs": [
    {
     "name": "stdout",
     "output_type": "stream",
     "text": [
      "Age must be a positive integer\n",
      "Name must only contain alphabetic characters and spaces\n",
      "except : Email must follow a standard email format (e.g., contain \"@\" and \".\").\n",
      "\n"
     ]
    }
   ],
   "source": [
    "#Problem 5: Validate User Inputs\n",
    "#================================Functions================================================= \n",
    "\n",
    "def validate_user_inputs (name , age , email ) :\n",
    "    dictionary_report = \"\"\n",
    "    pattern = r\"[a-zA-Z0-9._]+@[a-zA-Z0-9.]+\\.[a-zA-Z]\"\n",
    "    try :\n",
    "        name_temp = name.replace(\" \", \"\")\n",
    "        age = int(age)\n",
    "        if (age < 0) or (not name_temp.isalpha()) or not (re.match(pattern, email)):\n",
    "            if age< 0 :\n",
    "                dictionary_report += \"Age must be a positive integer\\n\"\n",
    "            if not name_temp.isalpha() : \n",
    "                dictionary_report += \"Name must only contain alphabetic characters and spaces\\n\"\n",
    "            if not re.match(pattern, email) :\n",
    "                dictionary_report += 'Email must follow a standard email format (e.g., contain \"@\" and \".\").\\n'\n",
    "        else :\n",
    "            dictionary_report  = \"Validated Data:\\n\"\n",
    "            dictionary_report += f\"Name  : {name}\\n\"\n",
    "            dictionary_report += f\"Age   : {age}\\n\"\n",
    "            dictionary_report += f\"Email : {email}\\n\"\n",
    "\n",
    "    except AttributeError :  # .replace() method work with string \n",
    "        dictionary_report += \"except : Name must only contain alphabetic characters and spaces\\n\"\n",
    "    except ValueError : # if you try to cast a type cant casting in int type  \n",
    "        dictionary_report += \"except : Age must be a integer number\\n\"\n",
    "    except TypeError : # .match(pattern, string, flags=0) , second attribute should be string \n",
    "        dictionary_report += 'except : Email must follow a standard email format (e.g., contain \"@\" and \".\").\\n'\n",
    "    return dictionary_report\n",
    "\n",
    "    \n",
    "#==========================================================================================\n",
    "\n",
    "\n",
    "#name = input(\"Enter your name: \")\n",
    "#age = input(\"Enter your age: \")\n",
    "#email = input(\"Enter your email: \")\n",
    "print(validate_user_inputs (\"Die0a\",-2,2))\n",
    "\n",
    "\n",
    "\n"
   ]
  }
 ],
 "metadata": {
  "kernelspec": {
   "display_name": "Python 3 (ipykernel)",
   "language": "python",
   "name": "python3"
  },
  "language_info": {
   "codemirror_mode": {
    "name": "ipython",
    "version": 3
   },
   "file_extension": ".py",
   "mimetype": "text/x-python",
   "name": "python",
   "nbconvert_exporter": "python",
   "pygments_lexer": "ipython3",
   "version": "3.12.9"
  }
 },
 "nbformat": 4,
 "nbformat_minor": 5
}
