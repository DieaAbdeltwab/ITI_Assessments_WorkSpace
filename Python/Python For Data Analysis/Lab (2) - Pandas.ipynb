{
 "cells": [
  {
   "cell_type": "markdown",
   "metadata": {},
   "source": [
    "# **Pandas LAB** "
   ]
  },
  {
   "cell_type": "markdown",
   "metadata": {},
   "source": [
    "### Step 1. Import the necessary libraries"
   ]
  },
  {
   "cell_type": "code",
   "execution_count": 26,
   "metadata": {
    "collapsed": false,
    "jupyter": {
     "outputs_hidden": false
    }
   },
   "outputs": [],
   "source": [
    "import pandas as pd\n",
    "import matplotlib.pyplot as plt\n"
   ]
  },
  {
   "cell_type": "markdown",
   "metadata": {},
   "source": [
    "### Step 2. Get the dataset from this [address](https://raw.githubusercontent.com/justmarkham/DAT8/master/data/u.user). "
   ]
  },
  {
   "cell_type": "code",
   "execution_count": 27,
   "metadata": {},
   "outputs": [
    {
     "name": "stdout",
     "output_type": "stream",
     "text": [
      "    user_id|age|gender|occupation|zip_code\n",
      "0                  1|24|M|technician|85711\n",
      "1                       2|53|F|other|94043\n",
      "2                      3|23|M|writer|32067\n",
      "3                  4|24|M|technician|43537\n",
      "4                       5|33|F|other|15213\n",
      "..                                     ...\n",
      "938                 939|26|F|student|33319\n",
      "939           940|32|M|administrator|02215\n",
      "940                 941|20|M|student|97229\n",
      "941               942|48|F|librarian|78209\n",
      "942                 943|22|M|student|77841\n",
      "\n",
      "[943 rows x 1 columns]\n"
     ]
    }
   ],
   "source": [
    "user_csv_data = pd.read_csv('https://raw.githubusercontent.com/justmarkham/DAT8/master/data/u.user')\n",
    "print (user_csv_data)"
   ]
  },
  {
   "cell_type": "markdown",
   "metadata": {},
   "source": [
    "### Step 3. Assign it to a variable called users and use the 'user_id' as index"
   ]
  },
  {
   "cell_type": "code",
   "execution_count": 28,
   "metadata": {},
   "outputs": [
    {
     "name": "stdout",
     "output_type": "stream",
     "text": [
      "         age gender     occupation zip_code\n",
      "user_id                                    \n",
      "1         24      M     technician    85711\n",
      "2         53      F          other    94043\n",
      "3         23      M         writer    32067\n",
      "4         24      M     technician    43537\n",
      "5         33      F          other    15213\n",
      "...      ...    ...            ...      ...\n",
      "939       26      F        student    33319\n",
      "940       32      M  administrator    02215\n",
      "941       20      M        student    97229\n",
      "942       48      F      librarian    78209\n",
      "943       22      M        student    77841\n",
      "\n",
      "[943 rows x 4 columns]\n"
     ]
    }
   ],
   "source": [
    "user_df_data = pd.read_csv('https://raw.githubusercontent.com/justmarkham/DAT8/master/data/u.user' , sep='|', index_col='user_id' )\n",
    "print (user_df_data)\n"
   ]
  },
  {
   "cell_type": "markdown",
   "metadata": {},
   "source": [
    "### Step 4. See the first 25 entries"
   ]
  },
  {
   "cell_type": "code",
   "execution_count": 29,
   "metadata": {
    "collapsed": false,
    "jupyter": {
     "outputs_hidden": false
    },
    "scrolled": true
   },
   "outputs": [
    {
     "data": {
      "text/html": [
       "<div>\n",
       "<style scoped>\n",
       "    .dataframe tbody tr th:only-of-type {\n",
       "        vertical-align: middle;\n",
       "    }\n",
       "\n",
       "    .dataframe tbody tr th {\n",
       "        vertical-align: top;\n",
       "    }\n",
       "\n",
       "    .dataframe thead th {\n",
       "        text-align: right;\n",
       "    }\n",
       "</style>\n",
       "<table border=\"1\" class=\"dataframe\">\n",
       "  <thead>\n",
       "    <tr style=\"text-align: right;\">\n",
       "      <th></th>\n",
       "      <th>age</th>\n",
       "      <th>gender</th>\n",
       "      <th>occupation</th>\n",
       "      <th>zip_code</th>\n",
       "    </tr>\n",
       "    <tr>\n",
       "      <th>user_id</th>\n",
       "      <th></th>\n",
       "      <th></th>\n",
       "      <th></th>\n",
       "      <th></th>\n",
       "    </tr>\n",
       "  </thead>\n",
       "  <tbody>\n",
       "    <tr>\n",
       "      <th>1</th>\n",
       "      <td>24</td>\n",
       "      <td>M</td>\n",
       "      <td>technician</td>\n",
       "      <td>85711</td>\n",
       "    </tr>\n",
       "    <tr>\n",
       "      <th>2</th>\n",
       "      <td>53</td>\n",
       "      <td>F</td>\n",
       "      <td>other</td>\n",
       "      <td>94043</td>\n",
       "    </tr>\n",
       "    <tr>\n",
       "      <th>3</th>\n",
       "      <td>23</td>\n",
       "      <td>M</td>\n",
       "      <td>writer</td>\n",
       "      <td>32067</td>\n",
       "    </tr>\n",
       "    <tr>\n",
       "      <th>4</th>\n",
       "      <td>24</td>\n",
       "      <td>M</td>\n",
       "      <td>technician</td>\n",
       "      <td>43537</td>\n",
       "    </tr>\n",
       "    <tr>\n",
       "      <th>5</th>\n",
       "      <td>33</td>\n",
       "      <td>F</td>\n",
       "      <td>other</td>\n",
       "      <td>15213</td>\n",
       "    </tr>\n",
       "    <tr>\n",
       "      <th>6</th>\n",
       "      <td>42</td>\n",
       "      <td>M</td>\n",
       "      <td>executive</td>\n",
       "      <td>98101</td>\n",
       "    </tr>\n",
       "    <tr>\n",
       "      <th>7</th>\n",
       "      <td>57</td>\n",
       "      <td>M</td>\n",
       "      <td>administrator</td>\n",
       "      <td>91344</td>\n",
       "    </tr>\n",
       "    <tr>\n",
       "      <th>8</th>\n",
       "      <td>36</td>\n",
       "      <td>M</td>\n",
       "      <td>administrator</td>\n",
       "      <td>05201</td>\n",
       "    </tr>\n",
       "    <tr>\n",
       "      <th>9</th>\n",
       "      <td>29</td>\n",
       "      <td>M</td>\n",
       "      <td>student</td>\n",
       "      <td>01002</td>\n",
       "    </tr>\n",
       "    <tr>\n",
       "      <th>10</th>\n",
       "      <td>53</td>\n",
       "      <td>M</td>\n",
       "      <td>lawyer</td>\n",
       "      <td>90703</td>\n",
       "    </tr>\n",
       "    <tr>\n",
       "      <th>11</th>\n",
       "      <td>39</td>\n",
       "      <td>F</td>\n",
       "      <td>other</td>\n",
       "      <td>30329</td>\n",
       "    </tr>\n",
       "    <tr>\n",
       "      <th>12</th>\n",
       "      <td>28</td>\n",
       "      <td>F</td>\n",
       "      <td>other</td>\n",
       "      <td>06405</td>\n",
       "    </tr>\n",
       "    <tr>\n",
       "      <th>13</th>\n",
       "      <td>47</td>\n",
       "      <td>M</td>\n",
       "      <td>educator</td>\n",
       "      <td>29206</td>\n",
       "    </tr>\n",
       "    <tr>\n",
       "      <th>14</th>\n",
       "      <td>45</td>\n",
       "      <td>M</td>\n",
       "      <td>scientist</td>\n",
       "      <td>55106</td>\n",
       "    </tr>\n",
       "    <tr>\n",
       "      <th>15</th>\n",
       "      <td>49</td>\n",
       "      <td>F</td>\n",
       "      <td>educator</td>\n",
       "      <td>97301</td>\n",
       "    </tr>\n",
       "    <tr>\n",
       "      <th>16</th>\n",
       "      <td>21</td>\n",
       "      <td>M</td>\n",
       "      <td>entertainment</td>\n",
       "      <td>10309</td>\n",
       "    </tr>\n",
       "    <tr>\n",
       "      <th>17</th>\n",
       "      <td>30</td>\n",
       "      <td>M</td>\n",
       "      <td>programmer</td>\n",
       "      <td>06355</td>\n",
       "    </tr>\n",
       "    <tr>\n",
       "      <th>18</th>\n",
       "      <td>35</td>\n",
       "      <td>F</td>\n",
       "      <td>other</td>\n",
       "      <td>37212</td>\n",
       "    </tr>\n",
       "    <tr>\n",
       "      <th>19</th>\n",
       "      <td>40</td>\n",
       "      <td>M</td>\n",
       "      <td>librarian</td>\n",
       "      <td>02138</td>\n",
       "    </tr>\n",
       "    <tr>\n",
       "      <th>20</th>\n",
       "      <td>42</td>\n",
       "      <td>F</td>\n",
       "      <td>homemaker</td>\n",
       "      <td>95660</td>\n",
       "    </tr>\n",
       "    <tr>\n",
       "      <th>21</th>\n",
       "      <td>26</td>\n",
       "      <td>M</td>\n",
       "      <td>writer</td>\n",
       "      <td>30068</td>\n",
       "    </tr>\n",
       "    <tr>\n",
       "      <th>22</th>\n",
       "      <td>25</td>\n",
       "      <td>M</td>\n",
       "      <td>writer</td>\n",
       "      <td>40206</td>\n",
       "    </tr>\n",
       "    <tr>\n",
       "      <th>23</th>\n",
       "      <td>30</td>\n",
       "      <td>F</td>\n",
       "      <td>artist</td>\n",
       "      <td>48197</td>\n",
       "    </tr>\n",
       "    <tr>\n",
       "      <th>24</th>\n",
       "      <td>21</td>\n",
       "      <td>F</td>\n",
       "      <td>artist</td>\n",
       "      <td>94533</td>\n",
       "    </tr>\n",
       "    <tr>\n",
       "      <th>25</th>\n",
       "      <td>39</td>\n",
       "      <td>M</td>\n",
       "      <td>engineer</td>\n",
       "      <td>55107</td>\n",
       "    </tr>\n",
       "  </tbody>\n",
       "</table>\n",
       "</div>"
      ],
      "text/plain": [
       "         age gender     occupation zip_code\n",
       "user_id                                    \n",
       "1         24      M     technician    85711\n",
       "2         53      F          other    94043\n",
       "3         23      M         writer    32067\n",
       "4         24      M     technician    43537\n",
       "5         33      F          other    15213\n",
       "6         42      M      executive    98101\n",
       "7         57      M  administrator    91344\n",
       "8         36      M  administrator    05201\n",
       "9         29      M        student    01002\n",
       "10        53      M         lawyer    90703\n",
       "11        39      F          other    30329\n",
       "12        28      F          other    06405\n",
       "13        47      M       educator    29206\n",
       "14        45      M      scientist    55106\n",
       "15        49      F       educator    97301\n",
       "16        21      M  entertainment    10309\n",
       "17        30      M     programmer    06355\n",
       "18        35      F          other    37212\n",
       "19        40      M      librarian    02138\n",
       "20        42      F      homemaker    95660\n",
       "21        26      M         writer    30068\n",
       "22        25      M         writer    40206\n",
       "23        30      F         artist    48197\n",
       "24        21      F         artist    94533\n",
       "25        39      M       engineer    55107"
      ]
     },
     "execution_count": 29,
     "metadata": {},
     "output_type": "execute_result"
    }
   ],
   "source": [
    "user_df_data.head(25)"
   ]
  },
  {
   "cell_type": "markdown",
   "metadata": {},
   "source": [
    "### Step 5. See the last 10 entries"
   ]
  },
  {
   "cell_type": "code",
   "execution_count": 30,
   "metadata": {
    "collapsed": false,
    "jupyter": {
     "outputs_hidden": false
    },
    "scrolled": true
   },
   "outputs": [
    {
     "data": {
      "text/html": [
       "<div>\n",
       "<style scoped>\n",
       "    .dataframe tbody tr th:only-of-type {\n",
       "        vertical-align: middle;\n",
       "    }\n",
       "\n",
       "    .dataframe tbody tr th {\n",
       "        vertical-align: top;\n",
       "    }\n",
       "\n",
       "    .dataframe thead th {\n",
       "        text-align: right;\n",
       "    }\n",
       "</style>\n",
       "<table border=\"1\" class=\"dataframe\">\n",
       "  <thead>\n",
       "    <tr style=\"text-align: right;\">\n",
       "      <th></th>\n",
       "      <th>age</th>\n",
       "      <th>gender</th>\n",
       "      <th>occupation</th>\n",
       "      <th>zip_code</th>\n",
       "    </tr>\n",
       "    <tr>\n",
       "      <th>user_id</th>\n",
       "      <th></th>\n",
       "      <th></th>\n",
       "      <th></th>\n",
       "      <th></th>\n",
       "    </tr>\n",
       "  </thead>\n",
       "  <tbody>\n",
       "    <tr>\n",
       "      <th>934</th>\n",
       "      <td>61</td>\n",
       "      <td>M</td>\n",
       "      <td>engineer</td>\n",
       "      <td>22902</td>\n",
       "    </tr>\n",
       "    <tr>\n",
       "      <th>935</th>\n",
       "      <td>42</td>\n",
       "      <td>M</td>\n",
       "      <td>doctor</td>\n",
       "      <td>66221</td>\n",
       "    </tr>\n",
       "    <tr>\n",
       "      <th>936</th>\n",
       "      <td>24</td>\n",
       "      <td>M</td>\n",
       "      <td>other</td>\n",
       "      <td>32789</td>\n",
       "    </tr>\n",
       "    <tr>\n",
       "      <th>937</th>\n",
       "      <td>48</td>\n",
       "      <td>M</td>\n",
       "      <td>educator</td>\n",
       "      <td>98072</td>\n",
       "    </tr>\n",
       "    <tr>\n",
       "      <th>938</th>\n",
       "      <td>38</td>\n",
       "      <td>F</td>\n",
       "      <td>technician</td>\n",
       "      <td>55038</td>\n",
       "    </tr>\n",
       "    <tr>\n",
       "      <th>939</th>\n",
       "      <td>26</td>\n",
       "      <td>F</td>\n",
       "      <td>student</td>\n",
       "      <td>33319</td>\n",
       "    </tr>\n",
       "    <tr>\n",
       "      <th>940</th>\n",
       "      <td>32</td>\n",
       "      <td>M</td>\n",
       "      <td>administrator</td>\n",
       "      <td>02215</td>\n",
       "    </tr>\n",
       "    <tr>\n",
       "      <th>941</th>\n",
       "      <td>20</td>\n",
       "      <td>M</td>\n",
       "      <td>student</td>\n",
       "      <td>97229</td>\n",
       "    </tr>\n",
       "    <tr>\n",
       "      <th>942</th>\n",
       "      <td>48</td>\n",
       "      <td>F</td>\n",
       "      <td>librarian</td>\n",
       "      <td>78209</td>\n",
       "    </tr>\n",
       "    <tr>\n",
       "      <th>943</th>\n",
       "      <td>22</td>\n",
       "      <td>M</td>\n",
       "      <td>student</td>\n",
       "      <td>77841</td>\n",
       "    </tr>\n",
       "  </tbody>\n",
       "</table>\n",
       "</div>"
      ],
      "text/plain": [
       "         age gender     occupation zip_code\n",
       "user_id                                    \n",
       "934       61      M       engineer    22902\n",
       "935       42      M         doctor    66221\n",
       "936       24      M          other    32789\n",
       "937       48      M       educator    98072\n",
       "938       38      F     technician    55038\n",
       "939       26      F        student    33319\n",
       "940       32      M  administrator    02215\n",
       "941       20      M        student    97229\n",
       "942       48      F      librarian    78209\n",
       "943       22      M        student    77841"
      ]
     },
     "execution_count": 30,
     "metadata": {},
     "output_type": "execute_result"
    }
   ],
   "source": [
    "user_df_data.tail(10)"
   ]
  },
  {
   "cell_type": "markdown",
   "metadata": {},
   "source": [
    "### Step 6. What is the number of observations in the dataset?"
   ]
  },
  {
   "cell_type": "code",
   "execution_count": 31,
   "metadata": {
    "collapsed": false,
    "jupyter": {
     "outputs_hidden": false
    }
   },
   "outputs": [
    {
     "name": "stdout",
     "output_type": "stream",
     "text": [
      "Number of observations: 943\n",
      "==========================================> OR <=========================================\n",
      "Number of observations: 943\n"
     ]
    }
   ],
   "source": [
    "num_observations = len(user_df_data)\n",
    "print(f\"Number of observations: {num_observations}\")\n",
    "\n",
    "print(\"==========================================> OR <=========================================\")\n",
    "\n",
    "num_observations = user_df_data.index.size # or len(user_df_data.index)\n",
    "print(f\"Number of observations: {num_observations}\")\n",
    "\n"
   ]
  },
  {
   "cell_type": "markdown",
   "metadata": {},
   "source": [
    "### Step 7. What is the number of columns in the dataset?"
   ]
  },
  {
   "cell_type": "code",
   "execution_count": 32,
   "metadata": {
    "collapsed": false,
    "jupyter": {
     "outputs_hidden": false
    }
   },
   "outputs": [
    {
     "name": "stdout",
     "output_type": "stream",
     "text": [
      "Number of columns: 4\n"
     ]
    }
   ],
   "source": [
    "num_columns = len(user_df_data.columns) # or user_df_data.columns.size\n",
    "\n",
    "print(f\"Number of columns: {num_columns}\")\n"
   ]
  },
  {
   "cell_type": "markdown",
   "metadata": {},
   "source": [
    "### Step 8. Print the name of all the columns."
   ]
  },
  {
   "cell_type": "code",
   "execution_count": 33,
   "metadata": {
    "collapsed": false,
    "jupyter": {
     "outputs_hidden": false
    }
   },
   "outputs": [
    {
     "name": "stdout",
     "output_type": "stream",
     "text": [
      "Index(['age', 'gender', 'occupation', 'zip_code'], dtype='object')\n",
      "==========================================> OR <=========================================\n",
      "Columns :0 --> age\n",
      "Columns :1 --> gender\n",
      "Columns :2 --> occupation\n",
      "Columns :3 --> zip_code\n"
     ]
    }
   ],
   "source": [
    "print(user_df_data.columns)\n",
    "print(\"==========================================> OR <=========================================\")\n",
    "for counter in range(0,len(user_df_data.columns)) :\n",
    "    print (f\"Columns :{counter} --> {user_df_data.columns[counter]}\")"
   ]
  },
  {
   "cell_type": "markdown",
   "metadata": {},
   "source": [
    "### Step 9. How is the dataset indexed?"
   ]
  },
  {
   "cell_type": "code",
   "execution_count": 34,
   "metadata": {
    "collapsed": false,
    "jupyter": {
     "outputs_hidden": false
    }
   },
   "outputs": [
    {
     "name": "stdout",
     "output_type": "stream",
     "text": [
      "Index([  1,   2,   3,   4,   5,   6,   7,   8,   9,  10,\n",
      "       ...\n",
      "       934, 935, 936, 937, 938, 939, 940, 941, 942, 943],\n",
      "      dtype='int64', name='user_id', length=943)\n"
     ]
    }
   ],
   "source": [
    "print(user_df_data.index)"
   ]
  },
  {
   "cell_type": "markdown",
   "metadata": {},
   "source": [
    "### Step 10. What is the data type of each column?"
   ]
  },
  {
   "cell_type": "code",
   "execution_count": 35,
   "metadata": {
    "collapsed": false,
    "jupyter": {
     "outputs_hidden": false
    }
   },
   "outputs": [
    {
     "name": "stdout",
     "output_type": "stream",
     "text": [
      "Columns :0 --> age        : type --> <class 'numpy.int64'>\n",
      "Columns :1 --> gender     : type --> <class 'str'>\n",
      "Columns :2 --> occupation : type --> <class 'str'>\n",
      "Columns :3 --> zip_code   : type --> <class 'str'>\n",
      "==========================================> OR <=========================================\n",
      "age            int64\n",
      "gender        object\n",
      "occupation    object\n",
      "zip_code      object\n",
      "dtype: object\n"
     ]
    }
   ],
   "source": [
    "\n",
    "user_df_data_row = user_df_data.iloc[0]\n",
    "for counter in range(0,len(user_df_data.columns)) :\n",
    "    print (f\"Columns :{counter} --> {user_df_data.columns[counter]:10} : type --> {type(user_df_data_row[user_df_data.columns[counter]])}\")\n",
    "\n",
    "print(\"==========================================> OR <=========================================\")\n",
    "print(user_df_data.dtypes)\n"
   ]
  },
  {
   "cell_type": "markdown",
   "metadata": {},
   "source": [
    "### Step 11. Print only the occupation column"
   ]
  },
  {
   "cell_type": "code",
   "execution_count": 36,
   "metadata": {
    "collapsed": false,
    "jupyter": {
     "outputs_hidden": false
    }
   },
   "outputs": [
    {
     "name": "stdout",
     "output_type": "stream",
     "text": [
      "            occupation\n",
      "user_id               \n",
      "1           technician\n",
      "2                other\n",
      "3               writer\n",
      "4           technician\n",
      "5                other\n",
      "...                ...\n",
      "939            student\n",
      "940      administrator\n",
      "941            student\n",
      "942          librarian\n",
      "943            student\n",
      "\n",
      "[943 rows x 1 columns]\n",
      "==========================================> OR <=========================================\n",
      "user_id\n",
      "1         technician\n",
      "2              other\n",
      "3             writer\n",
      "4         technician\n",
      "5              other\n",
      "           ...      \n",
      "939          student\n",
      "940    administrator\n",
      "941          student\n",
      "942        librarian\n",
      "943          student\n",
      "Name: occupation, Length: 943, dtype: object\n"
     ]
    }
   ],
   "source": [
    "print(user_df_data[['occupation']]) # user_df_data.loc[:, ['occupation']]  <== type :  DataFrame\n",
    "\n",
    "print(\"==========================================> OR <=========================================\")\n",
    "\n",
    "print(user_df_data['occupation']) # <==  type : Series\n",
    "\n",
    "\n"
   ]
  },
  {
   "cell_type": "markdown",
   "metadata": {},
   "source": [
    "### Step 12. How many different occupations are in this dataset?"
   ]
  },
  {
   "cell_type": "code",
   "execution_count": 37,
   "metadata": {
    "collapsed": false,
    "jupyter": {
     "outputs_hidden": false
    }
   },
   "outputs": [
    {
     "name": "stdout",
     "output_type": "stream",
     "text": [
      "Number of different occupations: 21\n",
      "==========================================> OR <=========================================\n",
      "Number of different occupations: 21\n"
     ]
    }
   ],
   "source": [
    "\n",
    "print(f\"Number of different occupations: {user_df_data['occupation'].value_counts().size}\")\n",
    "\n",
    "print(\"==========================================> OR <=========================================\")\n",
    "\n",
    "series_occupations = user_df_data['occupation']\n",
    "unique_occupations = series_occupations[~series_occupations.duplicated()]\n",
    "print(f\"Number of different occupations: {unique_occupations.size}\") # or len(unique_occupations)\n",
    "\n",
    "\n"
   ]
  },
  {
   "cell_type": "markdown",
   "metadata": {},
   "source": [
    "### Step 13. What is the most frequent occupation?"
   ]
  },
  {
   "cell_type": "code",
   "execution_count": 38,
   "metadata": {
    "collapsed": false,
    "jupyter": {
     "outputs_hidden": false
    }
   },
   "outputs": [
    {
     "name": "stdout",
     "output_type": "stream",
     "text": [
      "The most frequent occupation is: student\n"
     ]
    }
   ],
   "source": [
    "value_counts_sort_occupation = user_df_data['occupation'].value_counts().sort_values( ascending=False)\n",
    "most_frequent_occupation=value_counts_sort_occupation.index[0] # or head(1)\n",
    "print(f\"The most frequent occupation is: {most_frequent_occupation}\")\n"
   ]
  },
  {
   "cell_type": "markdown",
   "metadata": {},
   "source": [
    "### Step 14. Summarize the DataFrame."
   ]
  },
  {
   "cell_type": "code",
   "execution_count": 39,
   "metadata": {
    "collapsed": false,
    "jupyter": {
     "outputs_hidden": false
    }
   },
   "outputs": [
    {
     "name": "stdout",
     "output_type": "stream",
     "text": [
      "<class 'pandas.core.frame.DataFrame'>\n",
      "Index: 943 entries, 1 to 943\n",
      "Data columns (total 4 columns):\n",
      " #   Column      Non-Null Count  Dtype \n",
      "---  ------      --------------  ----- \n",
      " 0   age         943 non-null    int64 \n",
      " 1   gender      943 non-null    object\n",
      " 2   occupation  943 non-null    object\n",
      " 3   zip_code    943 non-null    object\n",
      "dtypes: int64(1), object(3)\n",
      "memory usage: 36.8+ KB\n",
      "None\n",
      "==============================================================\n",
      "              age\n",
      "count  943.000000\n",
      "mean    34.051962\n",
      "std     12.192740\n",
      "min      7.000000\n",
      "25%     25.000000\n",
      "50%     31.000000\n",
      "75%     43.000000\n",
      "max     73.000000\n"
     ]
    }
   ],
   "source": [
    "print(user_df_data.info())\n",
    "print(\"==============================================================\")\n",
    "print(user_df_data.describe())\n"
   ]
  },
  {
   "cell_type": "markdown",
   "metadata": {},
   "source": [
    "## **Group by Operations**"
   ]
  },
  {
   "cell_type": "markdown",
   "metadata": {},
   "source": [
    "### Count the number of users in each occupation."
   ]
  },
  {
   "cell_type": "code",
   "execution_count": 40,
   "metadata": {},
   "outputs": [
    {
     "name": "stdout",
     "output_type": "stream",
     "text": [
      "occupation\n",
      "administrator     79\n",
      "artist            28\n",
      "doctor             7\n",
      "educator          95\n",
      "engineer          67\n",
      "entertainment     18\n",
      "executive         32\n",
      "healthcare        16\n",
      "homemaker          7\n",
      "lawyer            12\n",
      "librarian         51\n",
      "marketing         26\n",
      "none               9\n",
      "other            105\n",
      "programmer        66\n",
      "retired           14\n",
      "salesman          12\n",
      "scientist         31\n",
      "student          196\n",
      "technician        27\n",
      "writer            45\n",
      "dtype: int64\n"
     ]
    }
   ],
   "source": [
    "\n",
    "ccupation_counts = user_df_data.groupby('occupation').size()\n",
    "print(ccupation_counts)\n"
   ]
  },
  {
   "cell_type": "markdown",
   "metadata": {},
   "source": [
    "### Calculate the average age of users by gender."
   ]
  },
  {
   "cell_type": "code",
   "execution_count": 41,
   "metadata": {},
   "outputs": [
    {
     "name": "stdout",
     "output_type": "stream",
     "text": [
      "gender\n",
      "F    33.813187\n",
      "M    34.149254\n",
      "Name: age, dtype: float64\n"
     ]
    }
   ],
   "source": [
    "avg_age_gender = user_df_data.groupby('gender')['age'].mean()\n",
    "print(avg_age_gender)"
   ]
  },
  {
   "cell_type": "markdown",
   "metadata": {},
   "source": [
    "### Find the minimum, maximum, and average age for each occupation."
   ]
  },
  {
   "cell_type": "code",
   "execution_count": 42,
   "metadata": {},
   "outputs": [
    {
     "name": "stdout",
     "output_type": "stream",
     "text": [
      "               min  max       mean\n",
      "occupation                        \n",
      "administrator   21   70  38.746835\n",
      "artist          19   48  31.392857\n",
      "doctor          28   64  43.571429\n",
      "educator        23   63  42.010526\n",
      "engineer        22   70  36.388060\n",
      "entertainment   15   50  29.222222\n",
      "executive       22   69  38.718750\n",
      "healthcare      22   62  41.562500\n",
      "homemaker       20   50  32.571429\n",
      "lawyer          21   53  36.750000\n",
      "librarian       23   69  40.000000\n",
      "marketing       24   55  37.615385\n",
      "none            11   55  26.555556\n",
      "other           13   64  34.523810\n",
      "programmer      20   63  33.121212\n",
      "retired         51   73  63.071429\n",
      "salesman        18   66  35.666667\n",
      "scientist       23   55  35.548387\n",
      "student          7   42  22.081633\n",
      "technician      21   55  33.148148\n",
      "writer          18   60  36.311111\n",
      "==========================================> OR <=========================================\n",
      "               min  max       mean\n",
      "occupation                        \n",
      "administrator   21   70  38.746835\n",
      "artist          19   48  31.392857\n",
      "doctor          28   64  43.571429\n",
      "educator        23   63  42.010526\n",
      "engineer        22   70  36.388060\n",
      "entertainment   15   50  29.222222\n",
      "executive       22   69  38.718750\n",
      "healthcare      22   62  41.562500\n",
      "homemaker       20   50  32.571429\n",
      "lawyer          21   53  36.750000\n",
      "librarian       23   69  40.000000\n",
      "marketing       24   55  37.615385\n",
      "none            11   55  26.555556\n",
      "other           13   64  34.523810\n",
      "programmer      20   63  33.121212\n",
      "retired         51   73  63.071429\n",
      "salesman        18   66  35.666667\n",
      "scientist       23   55  35.548387\n",
      "student          7   42  22.081633\n",
      "technician      21   55  33.148148\n",
      "writer          18   60  36.311111\n"
     ]
    }
   ],
   "source": [
    "\n",
    "age_stats_occupation = user_df_data.groupby('occupation')['age'].agg(['min', 'max', 'mean'])\n",
    "print(age_stats_occupation)\n",
    "\n",
    "print(\"==========================================> OR <=========================================\")\n",
    "age_min_occupation = user_df_data.groupby('occupation')['age'].min()\n",
    "age_max_occupation = user_df_data.groupby('occupation')['age'].max()\n",
    "age_mean_occupation = user_df_data.groupby('occupation')['age'].mean()\n",
    "\n",
    "age_stats_occupation = pd.concat([age_min_occupation, age_max_occupation, age_mean_occupation], axis=1)\n",
    "age_stats_occupation.columns = ['min', 'max', 'mean']\n",
    "print(age_stats_occupation)\n",
    "\n"
   ]
  },
  {
   "cell_type": "markdown",
   "metadata": {},
   "source": [
    "### For each occupation, calculate the percentage of users who are male."
   ]
  },
  {
   "cell_type": "code",
   "execution_count": 43,
   "metadata": {},
   "outputs": [
    {
     "name": "stdout",
     "output_type": "stream",
     "text": [
      "occupation\n",
      "administrator     54.430380\n",
      "artist            53.571429\n",
      "doctor           100.000000\n",
      "educator          72.631579\n",
      "engineer          97.014925\n",
      "entertainment     88.888889\n",
      "executive         90.625000\n",
      "healthcare        31.250000\n",
      "homemaker         14.285714\n",
      "lawyer            83.333333\n",
      "librarian         43.137255\n",
      "marketing         61.538462\n",
      "none              55.555556\n",
      "other             65.714286\n",
      "programmer        90.909091\n",
      "retired           92.857143\n",
      "salesman          75.000000\n",
      "scientist         90.322581\n",
      "student           69.387755\n",
      "technician        96.296296\n",
      "writer            57.777778\n",
      "Name: gender, dtype: float64\n"
     ]
    }
   ],
   "source": [
    "\n",
    "male_percentage_occupation = user_df_data.groupby('occupation')['gender'].apply(lambda x: (x == 'M').mean() * 100)\n",
    "print(male_percentage_occupation)"
   ]
  },
  {
   "cell_type": "markdown",
   "metadata": {},
   "source": [
    "## **Filtering**"
   ]
  },
  {
   "cell_type": "markdown",
   "metadata": {},
   "source": [
    "### Filter the dataset to show only female users."
   ]
  },
  {
   "cell_type": "code",
   "execution_count": 44,
   "metadata": {},
   "outputs": [
    {
     "name": "stdout",
     "output_type": "stream",
     "text": [
      "         age gender  occupation zip_code\n",
      "user_id                                 \n",
      "2         53      F       other    94043\n",
      "5         33      F       other    15213\n",
      "11        39      F       other    30329\n",
      "12        28      F       other    06405\n",
      "15        49      F    educator    97301\n",
      "...      ...    ...         ...      ...\n",
      "925       18      F    salesman    49036\n",
      "930       28      F   scientist    07310\n",
      "938       38      F  technician    55038\n",
      "939       26      F     student    33319\n",
      "942       48      F   librarian    78209\n",
      "\n",
      "[273 rows x 4 columns]\n"
     ]
    }
   ],
   "source": [
    "female_users = user_df_data[user_df_data['gender'] == 'F']\n",
    "print(female_users)"
   ]
  },
  {
   "cell_type": "markdown",
   "metadata": {},
   "source": [
    "### Filter the dataset to show users who are either students or educators."
   ]
  },
  {
   "cell_type": "code",
   "execution_count": 45,
   "metadata": {},
   "outputs": [
    {
     "name": "stdout",
     "output_type": "stream",
     "text": [
      "         age gender occupation zip_code\n",
      "user_id                                \n",
      "9         29      M    student    01002\n",
      "13        47      M   educator    29206\n",
      "15        49      F   educator    97301\n",
      "30         7      M    student    55436\n",
      "32        28      F    student    78741\n",
      "...      ...    ...        ...      ...\n",
      "933       28      M    student    48105\n",
      "937       48      M   educator    98072\n",
      "939       26      F    student    33319\n",
      "941       20      M    student    97229\n",
      "943       22      M    student    77841\n",
      "\n",
      "[291 rows x 4 columns]\n"
     ]
    }
   ],
   "source": [
    "students_educators_mask = user_df_data['occupation'].isin(['student', 'educator'])\n",
    "students_educators = user_df_data[students_educators_mask]\n",
    "print(students_educators)"
   ]
  },
  {
   "cell_type": "markdown",
   "metadata": {},
   "source": [
    "### Filter the dataset to show female users who are in their 20s (20-29)."
   ]
  },
  {
   "cell_type": "code",
   "execution_count": 46,
   "metadata": {},
   "outputs": [
    {
     "name": "stdout",
     "output_type": "stream",
     "text": [
      "         age gender     occupation zip_code\n",
      "user_id                                    \n",
      "12        28      F          other    06405\n",
      "24        21      F         artist    94533\n",
      "32        28      F        student    78741\n",
      "35        20      F      homemaker    42459\n",
      "38        28      F          other    54467\n",
      "...      ...    ...            ...      ...\n",
      "917       22      F        student    20006\n",
      "921       20      F        student    98801\n",
      "922       29      F  administrator    21114\n",
      "930       28      F      scientist    07310\n",
      "939       26      F        student    33319\n",
      "\n",
      "[85 rows x 4 columns]\n"
     ]
    }
   ],
   "source": [
    "female_users_20s_mask = (user_df_data['gender'] == 'F') & (user_df_data['age'] >= 20) & (user_df_data['age'] <= 29)\n",
    "female_users_20s = user_df_data[female_users_20s_mask]\n",
    "print(female_users_20s)\n"
   ]
  },
  {
   "cell_type": "markdown",
   "metadata": {},
   "source": [
    "### Filter the dataset to find users from California (zip codes starting with '9')"
   ]
  },
  {
   "cell_type": "code",
   "execution_count": 47,
   "metadata": {},
   "outputs": [
    {
     "name": "stdout",
     "output_type": "stream",
     "text": [
      "         age gender     occupation zip_code\n",
      "user_id                                    \n",
      "2         53      F          other    94043\n",
      "6         42      M      executive    98101\n",
      "7         57      M  administrator    91344\n",
      "10        53      M         lawyer    90703\n",
      "15        49      F       educator    97301\n",
      "...      ...    ...            ...      ...\n",
      "902       45      F         artist    97203\n",
      "920       30      F         artist    90008\n",
      "921       20      F        student    98801\n",
      "937       48      M       educator    98072\n",
      "941       20      M        student    97229\n",
      "\n",
      "[170 rows x 4 columns]\n"
     ]
    }
   ],
   "source": [
    "california_users_mask = user_df_data['zip_code'].str.startswith('9')\n",
    "california_users = user_df_data[california_users_mask]\n",
    "print(california_users)"
   ]
  },
  {
   "cell_type": "markdown",
   "metadata": {},
   "source": [
    "# **Complex Analysis**"
   ]
  },
  {
   "cell_type": "markdown",
   "metadata": {},
   "source": [
    "### Create a pivot table showing the count of users by occupation and age decade.\n",
    "#### age decade: 27 years old --> 20s decade"
   ]
  },
  {
   "cell_type": "code",
   "execution_count": 48,
   "metadata": {},
   "outputs": [
    {
     "name": "stdout",
     "output_type": "stream",
     "text": [
      "age_decade     0   10   20  30  40  50  60  70\n",
      "occupation                                    \n",
      "administrator   0   0   19  26  20  12   1   1\n",
      "artist          0   1   12   9   6   0   0   0\n",
      "doctor          0   0    2   0   3   1   1   0\n",
      "educator        0   0   12  30  25  23   5   0\n",
      "engineer        0   0   23  22  14   5   2   1\n",
      "entertainment   0   2    8   5   2   1   0   0\n",
      "executive       0   0    7  11  11   2   1   0\n",
      "healthcare      0   0    4   1   7   3   1   0\n",
      "homemaker       0   0    3   2   1   1   0   0\n",
      "lawyer          0   0    4   4   1   3   0   0\n",
      "librarian       0   0   11  15  13  11   1   0\n",
      "marketing       0   0    5  12   4   5   0   0\n",
      "none            0   3    2   3   0   1   0   0\n",
      "other           0   4   38  29  22  11   1   0\n",
      "programmer      0   0   30  21  10   3   2   0\n",
      "retired         0   0    0   0   0   2  10   2\n",
      "salesman        0   1    2   6   1   1   1   0\n",
      "scientist       0   0    8  14   8   1   0   0\n",
      "student         1  63  116  14   2   0   0   0\n",
      "technician      0   0   12   8   5   2   0   0\n",
      "writer          0   2   14   9  13   6   1   0\n"
     ]
    }
   ],
   "source": [
    "user_df_data['age_decade'] = (user_df_data['age'] // 10) * 10\n",
    "pivot_table = pd.pivot_table(user_df_data,index='occupation',columns='age_decade',values='age',aggfunc='count',fill_value=0)\n",
    "print(pivot_table)"
   ]
  },
  {
   "cell_type": "code",
   "execution_count": 49,
   "metadata": {},
   "outputs": [],
   "source": [
    "#1280. Students and Examinations\n",
    "\n",
    "def students_and_examinations(students: pd.DataFrame, subjects: pd.DataFrame, examinations: pd.DataFrame) -> pd.DataFrame:\n",
    "    students['key'] =1 \n",
    "    subjects['key'] =1 \n",
    "\n",
    "    students_cross_subjects = pd.merge(students,subjects , on='key' ).drop('key' , axis=1).sort_values(by=[\"student_id\", \"subject_name\"])\n",
    "\n",
    "\n",
    "    attended_exams_examinations = examinations.groupby(['student_id','subject_name']).agg(attended_exams = ('subject_name','count')).reset_index()\n",
    "\n",
    "\n",
    "    students_cross_subjects_examinations = pd.merge(students_cross_subjects,attended_exams_examinations , on=['student_id','subject_name'] , how='left' )\n",
    "    students_cross_subjects_examinations['attended_exams'] = students_cross_subjects_examinations['attended_exams'].fillna(0)\n",
    "    return students_cross_subjects_examinations\n",
    "\n",
    "#=============================================================================================================================================================\n",
    "#=============================================================================================================================================================\n",
    "#=============================================================================================================================================================\n",
    "\n",
    "#607. Sales Person\n",
    "def sales_person(sales_person: pd.DataFrame, company: pd.DataFrame, orders: pd.DataFrame) -> pd.DataFrame:\n",
    "    temp = pd.merge (company , orders , on = 'com_id' ) \n",
    "    temp = temp[temp['name'] == 'RED']['sales_id'].unique()\n",
    "\n",
    "    result = sales_person[~sales_person['sales_id'].isin(temp) ][['name']]\n",
    "    return result"
   ]
  }
 ],
 "metadata": {
  "anaconda-cloud": {},
  "kernelspec": {
   "display_name": "base",
   "language": "python",
   "name": "python3"
  },
  "language_info": {
   "codemirror_mode": {
    "name": "ipython",
    "version": 3
   },
   "file_extension": ".py",
   "mimetype": "text/x-python",
   "name": "python",
   "nbconvert_exporter": "python",
   "pygments_lexer": "ipython3",
   "version": "3.12.7"
  }
 },
 "nbformat": 4,
 "nbformat_minor": 4
}
