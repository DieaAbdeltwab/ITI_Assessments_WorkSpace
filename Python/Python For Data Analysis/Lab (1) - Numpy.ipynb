{
 "cells": [
  {
   "cell_type": "code",
   "execution_count": 2,
   "metadata": {},
   "outputs": [],
   "source": [
    "import numpy as np"
   ]
  },
  {
   "cell_type": "code",
   "execution_count": 3,
   "metadata": {},
   "outputs": [
    {
     "name": "stdout",
     "output_type": "stream",
     "text": [
      "[0. 0. 0. 0. 0. 0. 0. 0. 0. 0.]\n",
      "[1. 1. 1. 1. 1. 1. 1. 1. 1. 1.]\n",
      "[5 5 5 5 5 5 5 5 5 5]\n"
     ]
    }
   ],
   "source": [
    "#Q1\n",
    "array_10_zeros = np.zeros(10)\n",
    "print(array_10_zeros)\n",
    "\n",
    "array_10_ones = np.ones(10)\n",
    "print(array_10_ones)\n",
    "\n",
    "\n",
    "array_10_fives = np.full(10, 5)\n",
    "print(array_10_fives)\n",
    "\n",
    "\n",
    "\n"
   ]
  },
  {
   "cell_type": "code",
   "execution_count": 4,
   "metadata": {},
   "outputs": [
    {
     "name": "stdout",
     "output_type": "stream",
     "text": [
      "[30 32 34 36 38 40 42 44 46 48 50 52 54 56 58 60 62 64 66 68 70]\n"
     ]
    }
   ],
   "source": [
    "#Q2\n",
    "array_even_numbers = np.arange(30, 71, 2)\n",
    "print(array_even_numbers)\n",
    "\n"
   ]
  },
  {
   "cell_type": "code",
   "execution_count": 5,
   "metadata": {},
   "outputs": [
    {
     "name": "stdout",
     "output_type": "stream",
     "text": [
      "[[0. 0. 0. 0. 0. 0.]\n",
      " [0. 0. 0. 0. 0. 0.]\n",
      " [0. 0. 0. 0. 0. 0.]\n",
      " [0. 0. 0. 0. 0. 0.]\n",
      " [0. 0. 0. 0. 0. 0.]]\n"
     ]
    }
   ],
   "source": [
    "#Q3\n",
    "array_30_zeros = np.zeros((5,6))\n",
    "print(array_30_zeros)"
   ]
  },
  {
   "cell_type": "code",
   "execution_count": 6,
   "metadata": {},
   "outputs": [
    {
     "name": "stdout",
     "output_type": "stream",
     "text": [
      "[[0.61402383 0.62470203 0.04654182 0.25997439 0.12829779 0.19480961\n",
      "  0.56758767 0.86745501 0.82897019 0.21877209]\n",
      " [0.54442803 0.34873072 0.4815961  0.13253598 0.47814933 0.64914138\n",
      "  0.27860493 0.78610024 0.88469156 0.50160463]\n",
      " [0.7333733  0.67431837 0.76514652 0.91233766 0.34993634 0.97649045\n",
      "  0.87318944 0.18133035 0.83702307 0.45043197]\n",
      " [0.60733497 0.93438462 0.41959801 0.64928211 0.37727922 0.73111433\n",
      "  0.83702241 0.32394591 0.57421977 0.25893816]\n",
      " [0.8461627  0.90626933 0.49639311 0.91476803 0.95270641 0.0331402\n",
      "  0.48210418 0.84328448 0.92836928 0.011134  ]\n",
      " [0.668557   0.8184929  0.90650005 0.85722114 0.26297827 0.58684394\n",
      "  0.44562225 0.02640899 0.7696588  0.23621703]\n",
      " [0.30755611 0.78183887 0.64881769 0.17877164 0.08154918 0.4395355\n",
      "  0.5676246  0.22689111 0.44831726 0.53619894]\n",
      " [0.63882423 0.56341597 0.22839081 0.47553462 0.34063064 0.48902866\n",
      "  0.36201466 0.80330819 0.63096935 0.74102449]\n",
      " [0.51475728 0.57344703 0.80753626 0.32866256 0.20759158 0.59462922\n",
      "  0.26059912 0.67067882 0.56866836 0.31653709]\n",
      " [0.05242614 0.69199463 0.72100998 0.82962834 0.99733824 0.30652269\n",
      "  0.80333586 0.33557833 0.2386514  0.59929662]]\n",
      "Max: 0.9973382411849109\n",
      "Min: 0.011133999418061813\n",
      "Max: 0.9973382411849109\n",
      "Min: 0.011133999418061813\n"
     ]
    }
   ],
   "source": [
    "#Q4\n",
    "array_10_10_random_numbers = np.random.random(size=(10, 10))\n",
    "print(array_10_10_random_numbers)\n",
    "print(f\"Max: {array_10_10_random_numbers.max()}\")\n",
    "print(f\"Min: {array_10_10_random_numbers.min()}\")\n",
    "print(f\"Max: {np.max(array_10_10_random_numbers)}\")\n",
    "print(f\"Min: {np.min(array_10_10_random_numbers)}\")\n"
   ]
  },
  {
   "cell_type": "code",
   "execution_count": 7,
   "metadata": {},
   "outputs": [
    {
     "name": "stdout",
     "output_type": "stream",
     "text": [
      "[[5 7 5]\n",
      " [2 7 4]\n",
      " [2 8 9]]\n"
     ]
    }
   ],
   "source": [
    "#Q5\n",
    "array_3_3_random_numbers = np.random.randint(2, 10, size=(3, 3))\n",
    "print(array_3_3_random_numbers)\n"
   ]
  },
  {
   "cell_type": "code",
   "execution_count": 8,
   "metadata": {},
   "outputs": [
    {
     "name": "stdout",
     "output_type": "stream",
     "text": [
      "[ 0  1  2  3  4  5  6  7  8  9 10 11 12 13 14 15 16 17 18 19]\n",
      "[16 17 18 19]\n"
     ]
    }
   ],
   "source": [
    "#Q6\n",
    "array_20 = np.arange(20)\n",
    "print(array_20)\n",
    "print(array_20[array_20>15])\n"
   ]
  },
  {
   "cell_type": "code",
   "execution_count": 9,
   "metadata": {},
   "outputs": [
    {
     "name": "stdout",
     "output_type": "stream",
     "text": [
      "[[ 0  1  3  0  2  4]\n",
      " [ 5  7  9  6  8 10]]\n",
      "[[ 0  1  3]\n",
      " [ 5  7  9]\n",
      " [ 0  2  4]\n",
      " [ 6  8 10]]\n"
     ]
    }
   ],
   "source": [
    "#Q7\n",
    "array_1 = np.array([[0, 1, 3]\n",
    "                    , [5, 7, 9]])\n",
    "array_2 = np.array([[0, 2, 4]\n",
    "                    , [6, 8, 10]])\n",
    "array_horizontal = np.hstack((array_1, array_2))\n",
    "print(array_horizontal)\n",
    "array_vertical = np.vstack((array_1, array_2))\n",
    "print(array_vertical)\n"
   ]
  },
  {
   "cell_type": "code",
   "execution_count": 10,
   "metadata": {},
   "outputs": [
    {
     "name": "stdout",
     "output_type": "stream",
     "text": [
      "[1. 1. 1. 1. 1. 1. 1. 1. 1. 1.]\n",
      "[ 1.  1.  1.  1.  1. 11.  1.  1.  1.  1.]\n"
     ]
    }
   ],
   "source": [
    "#Q8\n",
    "array_10_ones = np.ones(10)\n",
    "print(array_10_ones)\n",
    "array_10_ones[5] = 11\n",
    "print(array_10_ones)\n",
    "\n"
   ]
  },
  {
   "cell_type": "code",
   "execution_count": 11,
   "metadata": {},
   "outputs": [
    {
     "name": "stdout",
     "output_type": "stream",
     "text": [
      "[ 1.  1.  1.  1.  1. 11.  1.  1.  1.  1. 11.]\n"
     ]
    }
   ],
   "source": [
    "#Q9\n",
    "array_10_ones = np.append(array_10_ones, 11)\n",
    "print(array_10_ones)\n",
    "\n"
   ]
  },
  {
   "cell_type": "code",
   "execution_count": 12,
   "metadata": {},
   "outputs": [
    {
     "name": "stdout",
     "output_type": "stream",
     "text": [
      "[0 1 2 3 4 5 6 7 8 9]\n",
      "[9 8 7 6 5 4 3 2 1 0]\n",
      "[0 1 2 3 4 5 6 7 8 9]\n",
      "[9 8 7 6 5 4 3 2 1 0]\n"
     ]
    }
   ],
   "source": [
    "#Q10\n",
    "array_10 = np.arange(10)\n",
    "print(array_10)\n",
    "array_10 = array_10 [::-1]\n",
    "print(array_10)\n",
    "array_10 = np.flip(array_10)\n",
    "print(array_10)\n",
    "array_10 = np.array(list(reversed(array_10)))\n",
    "print(array_10)\n",
    "\n",
    "\n"
   ]
  }
 ],
 "metadata": {
  "kernelspec": {
   "display_name": "base",
   "language": "python",
   "name": "python3"
  },
  "language_info": {
   "codemirror_mode": {
    "name": "ipython",
    "version": 3
   },
   "file_extension": ".py",
   "mimetype": "text/x-python",
   "name": "python",
   "nbconvert_exporter": "python",
   "pygments_lexer": "ipython3",
   "version": "3.12.9"
  }
 },
 "nbformat": 4,
 "nbformat_minor": 2
}
