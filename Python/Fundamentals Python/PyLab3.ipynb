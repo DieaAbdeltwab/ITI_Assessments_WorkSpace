{
 "cells": [
  {
   "cell_type": "code",
   "execution_count": 65,
   "id": "4b38c04f-7bf6-4e3c-bdf2-8048bc2764c1",
   "metadata": {},
   "outputs": [],
   "source": [
    "#Question 1\n",
    "def triangle(num):\n",
    "    for n in range(1,num+1):\n",
    "        print(n*\"#\")\n",
    "        "
   ]
  },
  {
   "cell_type": "code",
   "execution_count": 83,
   "id": "7ab3bd41-e894-4399-9219-9f94fe541a03",
   "metadata": {},
   "outputs": [
    {
     "name": "stdout",
     "output_type": "stream",
     "text": [
      "#\n",
      "##\n",
      "###\n"
     ]
    }
   ],
   "source": [
    "triangle(3)"
   ]
  },
  {
   "cell_type": "code",
   "execution_count": 73,
   "id": "8ab51370-a48d-4026-bb32-7daeff74c9bb",
   "metadata": {},
   "outputs": [],
   "source": [
    "#Question 2\n",
    "def greatest_number1(num1, num2, num3):\n",
    "    if num1 >= num2 and num1 >= num3:\n",
    "        return num1\n",
    "    elif num2 >= num1 and num2 >= num3:\n",
    "        return num2\n",
    "    else:\n",
    "        return num3\n",
    "#======================================================        \n",
    "def greatest_number2(num1, num2, num3):\n",
    "    greatest = num1\n",
    "    if num2 > greatest:\n",
    "        greatest = num2\n",
    "    if num3 > greatest:\n",
    "        greatest = num3\n",
    "    return greatest"
   ]
  },
  {
   "cell_type": "code",
   "execution_count": 74,
   "id": "1c018c40-b016-497b-95f9-392eca1e48cd",
   "metadata": {},
   "outputs": [
    {
     "name": "stdout",
     "output_type": "stream",
     "text": [
      "4\n",
      "99\n",
      "0\n",
      "===================================\n",
      "4\n",
      "99\n",
      "0\n"
     ]
    }
   ],
   "source": [
    "print(greatest_number1(3, 4, 1))   # 4\n",
    "print(greatest_number1(99, -4, 7)) # 99\n",
    "print(greatest_number1(0, 0, 0))   # 0\n",
    "print(\"===================================\")\n",
    "print(greatest_number2(3, 4, 1))   # 4\n",
    "print(greatest_number2(99, -4, 7)) # 99\n",
    "print(greatest_number2(0, 0, 0))   # 0"
   ]
  },
  {
   "cell_type": "code",
   "execution_count": 76,
   "id": "ce10894b-4c0f-4365-b767-d740ca56693c",
   "metadata": {},
   "outputs": [],
   "source": [
    "#Question 3\n",
    "def sum_series(n):\n",
    "    total = 0\n",
    "    for i in range(1, n + 1):\n",
    "        if i % 2 == 0:\n",
    "            total -= i\n",
    "        else:\n",
    "            total += i\n",
    "    return total\n"
   ]
  },
  {
   "cell_type": "code",
   "execution_count": 77,
   "id": "a712101b-7381-454d-8495-aff212b30b15",
   "metadata": {},
   "outputs": [
    {
     "name": "stdout",
     "output_type": "stream",
     "text": [
      "-2\n",
      "3\n",
      "-3\n"
     ]
    }
   ],
   "source": [
    "print(sum_series(4))  # 1 - 2 + 3 - 4  = -2\n",
    "print(sum_series(5))  # 1 - 2 + 3 - 4 + 5 = 3\n",
    "print(sum_series(6))  # 1 - 2 + 3 - 4 + 5 - 6 = -3"
   ]
  },
  {
   "cell_type": "code",
   "execution_count": 56,
   "id": "436f2ac7-1db7-4a40-922f-4ef20664aa8c",
   "metadata": {},
   "outputs": [],
   "source": [
    "#Question 4\n",
    "def factorial(n):\n",
    "    if n < 0:\n",
    "        return \"Factorial is not defined for negative numbers\"\n",
    "    #---\n",
    "    result = 1\n",
    "    for i in range(2, n + 1):\n",
    "        result *= i\n",
    "    return result"
   ]
  },
  {
   "cell_type": "code",
   "execution_count": 58,
   "id": "511995b1-d675-4639-a8f9-10598606ccc4",
   "metadata": {},
   "outputs": [
    {
     "name": "stdout",
     "output_type": "stream",
     "text": [
      "6\n"
     ]
    }
   ],
   "source": [
    "print(factorial(3))  \n"
   ]
  },
  {
   "cell_type": "code",
   "execution_count": 81,
   "id": "54ddc115-e675-4189-8c64-f67897bfbc61",
   "metadata": {},
   "outputs": [],
   "source": [
    "#Question 5\n",
    "# aya    ,    abcba ,  abccba --> abc cba\n",
    "\n",
    "def is_palindrome(word):\n",
    "    length = len(word)\n",
    "    for i in range(length // 2):   # abcba --> ab c ba\n",
    "        if word[i] != word[length - i - 1]:\n",
    "            return False\n",
    "    return True\n"
   ]
  },
  {
   "cell_type": "code",
   "execution_count": 82,
   "id": "20e66a9f-d68f-4a52-814b-7d3e8ab4f5bc",
   "metadata": {},
   "outputs": [
    {
     "name": "stdout",
     "output_type": "stream",
     "text": [
      "True\n",
      "False\n",
      "True\n"
     ]
    }
   ],
   "source": [
    "print(is_palindrome(\"abtba\"))   \n",
    "print(is_palindrome(\"abcd\"))  \n",
    "print(is_palindrome(\"aya\"))   \n"
   ]
  }
 ],
 "metadata": {
  "kernelspec": {
   "display_name": "Python 3 (ipykernel)",
   "language": "python",
   "name": "python3"
  },
  "language_info": {
   "codemirror_mode": {
    "name": "ipython",
    "version": 3
   },
   "file_extension": ".py",
   "mimetype": "text/x-python",
   "name": "python",
   "nbconvert_exporter": "python",
   "pygments_lexer": "ipython3",
   "version": "3.12.7"
  }
 },
 "nbformat": 4,
 "nbformat_minor": 5
}
