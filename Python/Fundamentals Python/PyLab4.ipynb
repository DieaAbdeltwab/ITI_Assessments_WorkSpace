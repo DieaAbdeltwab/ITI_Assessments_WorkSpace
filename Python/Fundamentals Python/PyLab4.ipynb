{
 "cells": [
  {
   "cell_type": "code",
   "execution_count": 47,
   "id": "579872ed-945a-4570-98a2-e6e8bd8e24c6",
   "metadata": {},
   "outputs": [
    {
     "name": "stdout",
     "output_type": "stream",
     "text": [
      "First element: 1 Last element: 10\n",
      "list [1, 2, 3, 4, 5, 6, 7, 8, 9, 10] Reversed list: [10, 9, 8, 7, 6, 5, 4, 3, 2, 1] \n",
      "list [1, 2, 3, 4, 5, 6, 7, 8, 9, 10] Reversed list: [10, 9, 8, 7, 6, 5, 4, 3, 2, 1] \n",
      "Sum of all elements: 55\n"
     ]
    }
   ],
   "source": [
    "######################################### **Warm-Up: Basic Operations**\n",
    "#1. **Lists:**\n",
    "\n",
    "# Create list from 1 to 10 ===============================================================\n",
    "numbers = list(range(1, 11))\n",
    "# numbers = [ x for x in range(1, 11) ]\n",
    "\n",
    "# Print the first and last elements\n",
    "print(\"First element:\", numbers[0] , \"Last element:\", numbers[-1] )\n",
    "\n",
    "# Reverse the list ===============================================================\n",
    "reversed_numbers = numbers[::-1]\n",
    "print(f\"list {numbers} Reversed list: {reversed_numbers} \")\n",
    "#or \n",
    "original_numbers = numbers[:] \n",
    "numbers.reverse()\n",
    "print(f\"list {original_numbers} Reversed list: {numbers} \")\n",
    "\n",
    "# Find the sum of all elements ===============================================================\n",
    "total_sum = sum(numbers)\n",
    "print(\"Sum of all elements:\", total_sum)\n"
   ]
  },
  {
   "cell_type": "code",
   "execution_count": 48,
   "id": "3d90f4fa-c818-4d9e-816f-15334a62ffbd",
   "metadata": {},
   "outputs": [
    {
     "name": "stdout",
     "output_type": "stream",
     "text": [
      "{1: 1, 2: 4, 3: 9, 4: 16, 5: 25}\n",
      "\n",
      "Key -> 1  :  value -> 1\n",
      "Key -> 2  :  value -> 4\n",
      "Key -> 3  :  value -> 9\n",
      "Key -> 4  :  value -> 16\n",
      "Key -> 5  :  value -> 25\n",
      "\n",
      "{1: 1, 2: 4, 3: 9, 4: 16, 5: 25, 6: 36}\n",
      "\n",
      "True\n"
     ]
    }
   ],
   "source": [
    "# 2. **Dictionaries:**\n",
    "#================================Functions=================================================    \n",
    "\n",
    "def print_dictionary_element (dictionary) : \n",
    "    for key, value in dictionary.items():\n",
    "        print(f\"Key -> {key}  :  value -> {value}\")\n",
    "\n",
    "def add_dictionary_element (dictionary , key , value ):\n",
    "    squares[key] = value\n",
    "\n",
    "def is_specific_key_found (dictionary , key ):\n",
    "    if key in dictionary.keys() :\n",
    "        return True \n",
    "    else: \n",
    "        return False\n",
    "    # return key in dictionary.keys() \n",
    "#==========================================================================================    \n",
    "# Create dictionary: keys = 1 to 5, values = their squares\n",
    "squares = { x : x**2 for x in range(1,6) }\n",
    "print   (f\"{squares}\\n\")\n",
    "\n",
    "# Print all keys and their respective values\n",
    "print_dictionary_element(squares)\n",
    "\n",
    "# Add new key-value pair\n",
    "add_dictionary_element(squares , 6 , 6**2 )\n",
    "print   (f\"\\n{squares}\")\n",
    "\n",
    "# Check if key 4 exists\n",
    "print   (f\"\\n{is_specific_key_found (squares , 4 )}\")\n",
    "\n"
   ]
  },
  {
   "cell_type": "code",
   "execution_count": 49,
   "id": "08d8a681-6ab4-48b6-83be-414c9734c08d",
   "metadata": {},
   "outputs": [
    {
     "name": "stdout",
     "output_type": "stream",
     "text": [
      "Average grade for each student   : {'Alice': 20.0, 'Bob': 40.0, 'Charlie': 90.0, 'Diana': 90.0}\n",
      "Student with the highest average : {'Charlie': 90.0, 'Diana': 90.0}\n"
     ]
    }
   ],
   "source": [
    "################################ **Problem-Solving: Real-World Scenarios**\n",
    "# 1. **Student Grades:**\n",
    "#================================Functions=================================================    \n",
    "\n",
    "def average_grade(students_dictionary) :\n",
    "    temp_dictionary = {}\n",
    "    for key, value in  students_dictionary.items():\n",
    "        temp_dictionary[key] = sum(students_dictionary[key]) / len(students_dictionary[key])\n",
    "    return temp_dictionary\n",
    "\n",
    "def highest_average(students_average_dictionary ):\n",
    "    max_grades = max(students_average_dictionary.values())\n",
    "    highest_average_dictionary = {}\n",
    "    for kay , value in students_average_dictionary.items():\n",
    "        if value == max_grades : \n",
    "            highest_average_dictionary[kay] = value\n",
    "    return highest_average_dictionary\n",
    "#==========================================================================================\n",
    "# Dictionary with student names as keys and list of grades as values\n",
    "students_grades = {\n",
    "    \"Alice\": [10, 20, 30],\n",
    "    \"Bob\": [30, 40, 50],\n",
    "    \"Charlie\": [80, 90, 100],\n",
    "    \"Diana\": [80, 90, 100]\n",
    "}\n",
    "print (f\"Average grade for each student   : {average_grade(students_grades)}\")\n",
    "print (f\"Student with the highest average : {highest_average(average_grade(students_grades))}\")"
   ]
  },
  {
   "cell_type": "code",
   "execution_count": 50,
   "id": "7c070880-97d6-4960-b641-e74e40f3259b",
   "metadata": {},
   "outputs": [
    {
     "name": "stdout",
     "output_type": "stream",
     "text": [
      "{}\n",
      "{'Apples': 2, 'Bread': 3, 'Milk': 5.5, 'Eggs': 4.5}\n",
      "the total price of items in the cart : 15.0\n"
     ]
    }
   ],
   "source": [
    "# 2. **Shopping Cart:**\n",
    "#================================Functions=================================================    \n",
    "def add_items_cart( dictionary , key , value  ) :\n",
    "    dictionary[key]=value\n",
    "    \n",
    "def total_price_items(dictionary):\n",
    "    #total_temp = 0.0\n",
    "    #for value in dictionary.values() :\n",
    "        #total_temp += float(value)\n",
    "    #return total_temp\n",
    "    return sum(dictionary.values())\n",
    "        \n",
    "#==========================================================================================\n",
    "# Shopping cart: product names as keys, prices as values\n",
    "shopping_cart = {}\n",
    "print(shopping_cart)\n",
    "add_items_cart(shopping_cart,\"Apples\",2)\n",
    "add_items_cart(shopping_cart,\"Bread\" ,3)\n",
    "add_items_cart(shopping_cart,\"Milk\"  ,5.5)\n",
    "add_items_cart(shopping_cart,\"Eggs\"  ,4.5)\n",
    "print(shopping_cart)\n",
    "\n",
    "print(f\"the total price of items in the cart : {total_price_items(shopping_cart)}\")"
   ]
  },
  {
   "cell_type": "code",
   "execution_count": 51,
   "id": "3cfa6889-321c-4fa6-aef1-c7184cbd1595",
   "metadata": {},
   "outputs": [
    {
     "name": "stdout",
     "output_type": "stream",
     "text": [
      "Filter employees by a specific department : ['Alice', 'Charlie']\n",
      "Find the average age of employees         : 30.0\n"
     ]
    }
   ],
   "source": [
    "# 3. **Employee Database:**\n",
    "#================================Functions=================================================   \n",
    "def employees_specific_department(employees_list_dictionary, department):\n",
    "    employees_list_department = []\n",
    "    for employees_dictionary in employees_list_dictionary :\n",
    "        if employees_dictionary[\"department\"] == department :\n",
    "            employees_list_department.append(employees_dictionary[\"name\"])\n",
    "    return employees_list_department\n",
    "\n",
    "def average_age_employees(employees_list_dictionary ):\n",
    "    total_temp = 0 \n",
    "    for employees_dictionary in employees_list_dictionary :\n",
    "        total_temp +=  employees_dictionary[\"age\"]\n",
    "    return total_temp / len(employees_list_dictionary)\n",
    "\n",
    "#==========================================================================================\n",
    "# List of employee dictionaries\n",
    "employees = [\n",
    "    {\"name\": \"Alice\", \"age\": 25, \"department\": \"HR\"},\n",
    "    {\"name\": \"Bob\", \"age\": 25, \"department\": \"Engineering\"},\n",
    "    {\"name\": \"Charlie\", \"age\": 35, \"department\": \"HR\"},\n",
    "    {\"name\": \"Diana\", \"age\": 35, \"department\": \"Finance\"}\n",
    "]\n",
    "print(f\"Filter employees by a specific department : {employees_specific_department(employees,\"HR\")}\")\n",
    "print(f\"Find the average age of employees         : {average_age_employees(employees)}\")\n"
   ]
  },
  {
   "cell_type": "code",
   "execution_count": 52,
   "id": "3278c8fc-ef7a-4e68-9795-2ccc41dcead0",
   "metadata": {},
   "outputs": [
    {
     "name": "stdout",
     "output_type": "stream",
     "text": [
      "{'apple': 3, 'banana': 2, 'orange': 1}\n"
     ]
    }
   ],
   "source": [
    "################################################### **Challenge Section**\n",
    "# 1. **Word Frequency Counter:**\n",
    "#================================Functions================================================= \n",
    "\"\"\"\n",
    "def word_frequency_counter( given_string ):\n",
    "    given_string_list = given_string.split()\n",
    "    given_string_list_copy = given_string_list.copy()\n",
    "    dictionary = {}\n",
    "    for word in given_string_list_copy :\n",
    "        counter = 0 \n",
    "        if word not in dictionary.keys() : \n",
    "            while word in given_string_list :\n",
    "                counter +=1\n",
    "                given_string_list.remove(word)\n",
    "            dictionary[word] = counter\n",
    "    return dictionary\n",
    "\"\"\"    \n",
    "def word_frequency_counter(given_string):\n",
    "    given_string_list = given_string.split(' ')\n",
    "    dictionary = {}\n",
    "    for word in given_string_list :\n",
    "        if word in dictionary.keys():\n",
    "            dictionary[word] += 1\n",
    "        else:\n",
    "            dictionary[word] = 1\n",
    "    return dictionary\n",
    "#==========================================================================================\n",
    "print(word_frequency_counter(\"apple banana apple orange banana apple\"))"
   ]
  },
  {
   "cell_type": "code",
   "execution_count": 53,
   "id": "8cc41e72-38bb-491f-88fa-9e610b0a52e0",
   "metadata": {},
   "outputs": [
    {
     "name": "stdout",
     "output_type": "stream",
     "text": [
      "{'Apples': {'price': 3.0, 'quantity': 10}, 'Bread': {'price': 2.5, 'quantity': 5}, 'Milk': {'price': 2.75, 'quantity': 8}}\n",
      "{'Apples': {'price': 3.0, 'quantity': 5}, 'Bread': {'price': 2.5, 'quantity': 5}, 'Milk': {'price': 2.75, 'quantity': 8}}\n",
      "you not have a Stock : you just have 5 of  Apples \n",
      "{'Apples': {'price': 3.0, 'quantity': 5}, 'Bread': {'price': 2.5, 'quantity': 5}, 'Milk': {'price': 2.75, 'quantity': 18}}\n"
     ]
    }
   ],
   "source": [
    "# 2. **Inventory Management:**\n",
    "#================================Functions================================================= \n",
    "\n",
    "\n",
    "def update_stock_sale ( dictionary , item , number_of_sold ) :\n",
    "    if item not in dictionary.keys() :\n",
    "        print(f\"{item} Not Found \")\n",
    "    elif number_of_sold > dictionary[item][\"quantity\"] :\n",
    "        print(f\"you not have a Stock : you just have {dictionary[item][\"quantity\"]} of  {item} \")\n",
    "    else : \n",
    "        dictionary[item][\"quantity\"] -= number_of_sold\n",
    "\n",
    "def restock_items ( dictionary , item , number_quantity ) :\n",
    "    if item not in dictionary.keys() :\n",
    "        print(f\"{item} Not Found \")\n",
    "    else : \n",
    "        dictionary[item][\"quantity\"] += number_quantity\n",
    "\n",
    "\n",
    "#==========================================================================================\n",
    "# Inventory dictionary\n",
    "inventory = {\n",
    "    \"Apples\": {\"price\": 3.00, \"quantity\": 10},\n",
    "    \"Bread\": {\"price\": 2.50, \"quantity\": 5},\n",
    "    \"Milk\": {\"price\": 2.75, \"quantity\": 8},\n",
    "}\n",
    "\n",
    "print (inventory)\n",
    "update_stock_sale(inventory,\"Apples\",5)\n",
    "print (inventory)\n",
    "update_stock_sale(inventory,\"Apples\",10)\n",
    "\n",
    "restock_items(inventory,\"Milk\",10)\n",
    "print (inventory)\n"
   ]
  },
  {
   "cell_type": "code",
   "execution_count": 54,
   "id": "5fb9050d-90c3-41cc-9063-13330908d340",
   "metadata": {},
   "outputs": [
    {
     "name": "stdout",
     "output_type": "stream",
     "text": [
      "['To Kill a Mockingbird', '1984']\n",
      "Books in Fiction genre :\n",
      "\t\t\tTo Kill a Mockingbird\n",
      "\t\t\t1984\n",
      "\t\t\tThe Great Gatsby\n",
      "Books in History genre :\n",
      "\t\t\tSapiens\n",
      "\t\t\tGuns, Germs, and Steel\n"
     ]
    }
   ],
   "source": [
    "# 3. **Nested Data Manipulation:**\n",
    "#================================Functions================================================= \n",
    "def add_newbook_genre(dictionary , genre , new_book ):\n",
    "    if genre not in dictionary.keys():\n",
    "        dictionary[genre]=[new_book]\n",
    "    else :    \n",
    "        dictionary[genre].append(new_book)\n",
    "def list_books_genre(dictionary , genre ) :\n",
    "    print (f\"Books in {genre} genre :\")\n",
    "    for book in dictionary[genre] :\n",
    "        print (f\"\\t\\t\\t{book}\")\n",
    "#==========================================================================================\n",
    "\n",
    "# Library dictionary\n",
    "library = {\n",
    "    \"Fiction\": [\"To Kill a Mockingbird\", \"1984\"],\n",
    "    \"Science\": [\"A Brief History of Time\", \"The Selfish Gene\"],\n",
    "    \"Fantasy\": [\"Harry Potter\", \"The Hobbit\", \"The Name of the Wind\"]\n",
    "}\n",
    "\n",
    "print(library[\"Fiction\"])\n",
    "add_newbook_genre(library ,\"Fiction\" , \"The Great Gatsby\" )\n",
    "list_books_genre (library,\"Fiction\")\n",
    "\n",
    "add_newbook_genre(library ,\"History\" , \"Sapiens\" )\n",
    "add_newbook_genre(library ,\"History\" , \"Guns, Germs, and Steel\" )\n",
    "list_books_genre (library ,\"History\")\n"
   ]
  },
  {
   "cell_type": "code",
   "execution_count": 55,
   "id": "a7a37d7e-8a9c-4442-95ce-ff6d410a2a52",
   "metadata": {},
   "outputs": [
    {
     "name": "stdout",
     "output_type": "stream",
     "text": [
      "True\n",
      "True\n",
      "False\n"
     ]
    }
   ],
   "source": [
    "# 4. **Anagram Checker:**\n",
    "#================================Functions================================================= \n",
    "\"\"\"\n",
    "def anagram_checker(string1 , string2 ):\n",
    "    list1 = list(string1)\n",
    "    list2 = list(string2)\n",
    "    if sorted(list1) == sorted(list2) :\n",
    "        return True\n",
    "    else : \n",
    "        return False\n",
    "\"\"\"\n",
    "def anagram_checker(string1 , string2 ):\n",
    "    if sorted(string1) == sorted(string2) :\n",
    "        return True\n",
    "    else : \n",
    "        return False\n",
    "#==========================================================================================\n",
    "print(anagram_checker(\"listen\",\"silent\"))\n",
    "print(anagram_checker(\"diea\",\"idea\"))\n",
    "print(anagram_checker(\"diea\",\"aaaa\"))\n",
    "\n"
   ]
  },
  {
   "cell_type": "code",
   "execution_count": 57,
   "id": "04b1c0c9-8966-474c-b431-d9364fa09935",
   "metadata": {},
   "outputs": [
    {
     "name": "stdout",
     "output_type": "stream",
     "text": [
      "1 8\n",
      "0 7\n",
      "===================================================================\n",
      "2 7\n",
      "1 6\n",
      "===================================================================\n",
      "3 6\n",
      "2 5\n",
      "===================================================================\n",
      "4 5\n",
      "3 4\n",
      "===================================================================\n",
      "Target 9 : [[0, 7], [1, 6], [2, 5], [3, 4]]\n"
     ]
    }
   ],
   "source": [
    "# 5. **Two-Sum Problem:**\n",
    "#================================Functions================================================= \n",
    "def two_sum (list_num , given_num):\n",
    "    list_temp = []\n",
    "    for num_1 in list_num :\n",
    "        for num_2 in list_num :\n",
    "            if given_num ==  num_1 + num_2 :\n",
    "                if [list_num.index(num_2) ,list_num.index(num_1) ] not in list_temp :\n",
    "                    print (num_1 , num_2 )\n",
    "                    print (list_num.index(num_1) ,list_num.index(num_2) )\n",
    "                    print(\"===================================================================\")\n",
    "                    list_temp.append([list_num.index(num_1) ,list_num.index(num_2) ])\n",
    "    return list_temp\n",
    "\n",
    "#==========================================================================================\n",
    "nums = [1,2,3,4,5,6,7,8,9,10,11, 15]\n",
    "target = 9\n",
    "print (f\"Target {target} : {two_sum(nums, target )}\")\n"
   ]
  }
 ],
 "metadata": {
  "kernelspec": {
   "display_name": "Python 3 (ipykernel)",
   "language": "python",
   "name": "python3"
  },
  "language_info": {
   "codemirror_mode": {
    "name": "ipython",
    "version": 3
   },
   "file_extension": ".py",
   "mimetype": "text/x-python",
   "name": "python",
   "nbconvert_exporter": "python",
   "pygments_lexer": "ipython3",
   "version": "3.12.9"
  }
 },
 "nbformat": 4,
 "nbformat_minor": 5
}
