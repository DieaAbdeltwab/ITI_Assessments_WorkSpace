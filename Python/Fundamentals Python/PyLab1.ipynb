{
 "cells": [
  {
   "cell_type": "code",
   "execution_count": 3,
   "id": "41c8beb6-d555-4919-b2c1-27eb4339b328",
   "metadata": {},
   "outputs": [
    {
     "name": "stdout",
     "output_type": "stream",
     "text": [
      " Hello , Python \n"
     ]
    }
   ],
   "source": [
    "# Question 2\n",
    "message = \" Hello , Python \"\n",
    "print  (message)"
   ]
  },
  {
   "cell_type": "code",
   "execution_count": 13,
   "id": "b3d4b15b-5e65-4554-bacc-52dc69806dbe",
   "metadata": {},
   "outputs": [
    {
     "name": "stdout",
     "output_type": "stream",
     "text": [
      " My favorite number : 3 \n"
     ]
    }
   ],
   "source": [
    "# Question 3\n",
    "my_fav_num = 3 \n",
    "message    = f\" My favorite number : {my_fav_num} \"\n",
    "print (message)"
   ]
  },
  {
   "cell_type": "code",
   "execution_count": 14,
   "id": "003a14a6-daf3-42ab-8b27-63507e514256",
   "metadata": {},
   "outputs": [
    {
     "name": "stdout",
     "output_type": "stream",
     "text": [
      " The volume of a sphere with radius r = 5 cm is volume = 523.5987755982989 cm³ \n"
     ]
    }
   ],
   "source": [
    "# Question 4\n",
    "import math\n",
    "r = 5    # r is radius by centimeters \n",
    "volume_sphere =  (4/3) * math.pi * r**3 # volume in cubic centimeters.\n",
    "print (f\" The volume of a sphere with radius r = {r} cm is volume = {volume_sphere} cm³ \")"
   ]
  },
  {
   "cell_type": "code",
   "execution_count": 16,
   "id": "261adbf1-24e7-4ddb-9ff2-e092002d98ea",
   "metadata": {},
   "outputs": [
    {
     "name": "stdout",
     "output_type": "stream",
     "text": [
      "sum : 27 + 15 = 42\n",
      "sub : 27 - 15 = 12\n",
      "mul : 27 * 15 = 405\n",
      "div : 27 / 15 = 1.8\n"
     ]
    }
   ],
   "source": [
    "# Question 5\n",
    "x = 27\n",
    "y = 15\n",
    "\n",
    "\n",
    "print(f\"sum : {x} + {y} = {x + y}\")\n",
    "print(f\"sub : {x} - {y} = {x - y}\")\n",
    "print(f\"mul : {x} * {y} = {x * y}\")\n",
    "print(f\"div : {x} / {y} = {x / y}\")\n"
   ]
  },
  {
   "cell_type": "code",
   "execution_count": 17,
   "id": "bbebf3cf-f9f4-4eae-8a2c-c263527fece9",
   "metadata": {},
   "outputs": [
    {
     "name": "stdin",
     "output_type": "stream",
     "text": [
      "How many days? 1\n"
     ]
    },
    {
     "name": "stdout",
     "output_type": "stream",
     "text": [
      "Seconds in 1 days: 86400\n"
     ]
    }
   ],
   "source": [
    "# Question 6\n",
    "\n",
    "num_day = int(input(\"How many days?\"))\n",
    "print (f\"Seconds in {num_day} days: {num_day *24*60*60 }\")"
   ]
  },
  {
   "cell_type": "code",
   "execution_count": 35,
   "id": "68376bad-9608-480f-b329-48ab10bd647e",
   "metadata": {},
   "outputs": [
    {
     "name": "stdin",
     "output_type": "stream",
     "text": [
      "How many students on the course? 11\n",
      "Desired group size? 3\n"
     ]
    },
    {
     "name": "stdout",
     "output_type": "stream",
     "text": [
      "True\n",
      "Number of groups formed: 4\n"
     ]
    }
   ],
   "source": [
    "# Question 7\n",
    "num_students = int(input(\"How many students on the course?\"))\n",
    "desired_group = int(input(\"Desired group size?\"))\n",
    "groups = (num_students // desired_group) + bool(num_students % desired_group)\n",
    "print (bool(num_students % desired_group))\n",
    "print (f\"Number of groups formed: {groups}\")"
   ]
  },
  {
   "cell_type": "code",
   "execution_count": null,
   "id": "141125e5-0c07-45da-8879-f3f025132ccc",
   "metadata": {},
   "outputs": [],
   "source": []
  }
 ],
 "metadata": {
  "kernelspec": {
   "display_name": "Python 3 (ipykernel)",
   "language": "python",
   "name": "python3"
  },
  "language_info": {
   "codemirror_mode": {
    "name": "ipython",
    "version": 3
   },
   "file_extension": ".py",
   "mimetype": "text/x-python",
   "name": "python",
   "nbconvert_exporter": "python",
   "pygments_lexer": "ipython3",
   "version": "3.13.2"
  }
 },
 "nbformat": 4,
 "nbformat_minor": 5
}
