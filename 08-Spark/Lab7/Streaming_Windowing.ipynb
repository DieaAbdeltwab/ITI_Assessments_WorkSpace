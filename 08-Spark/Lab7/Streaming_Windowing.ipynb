{
 "cells": [
  {
   "cell_type": "code",
   "execution_count": 1,
   "id": "670e9038-0b6b-4e0c-9724-9d6d6d688399",
   "metadata": {},
   "outputs": [],
   "source": [
    "from pyspark.sql import SparkSession"
   ]
  },
  {
   "cell_type": "code",
   "execution_count": 2,
   "id": "576f573b-551f-4109-b949-b21c92f299f1",
   "metadata": {},
   "outputs": [
    {
     "name": "stderr",
     "output_type": "stream",
     "text": [
      "25/07/11 10:23:25 WARN SparkSession: Using an existing Spark session; only runtime SQL configurations will take effect.\n"
     ]
    }
   ],
   "source": [
    "spark = SparkSession.builder.appName(\"Windowing\").getOrCreate()"
   ]
  },
  {
   "cell_type": "code",
   "execution_count": 3,
   "id": "beaf0020-bc29-45ce-97de-e345e01c3dd1",
   "metadata": {},
   "outputs": [
    {
     "data": {
      "text/html": [
       "\n",
       "            <div>\n",
       "                <p><b>SparkSession - hive</b></p>\n",
       "                \n",
       "        <div>\n",
       "            <p><b>SparkContext</b></p>\n",
       "\n",
       "            <p><a href=\"http://d02fd00d962a:4040\">Spark UI</a></p>\n",
       "\n",
       "            <dl>\n",
       "              <dt>Version</dt>\n",
       "                <dd><code>v3.5.5</code></dd>\n",
       "              <dt>Master</dt>\n",
       "                <dd><code>local[*]</code></dd>\n",
       "              <dt>AppName</dt>\n",
       "                <dd><code>PySparkShell</code></dd>\n",
       "            </dl>\n",
       "        </div>\n",
       "        \n",
       "            </div>\n",
       "        "
      ],
      "text/plain": [
       "<pyspark.sql.session.SparkSession at 0x7f2b3011fa40>"
      ]
     },
     "execution_count": 3,
     "metadata": {},
     "output_type": "execute_result"
    }
   ],
   "source": [
    "spark"
   ]
  },
  {
   "cell_type": "code",
   "execution_count": 4,
   "id": "86175c8b-b13d-42b5-acb0-209fbca36cd2",
   "metadata": {},
   "outputs": [],
   "source": [
    "df_kafka = spark.readStream.format('kafka')\\\n",
    "            .option('kafka.bootstrap.servers','kafka:9092')\\\n",
    "            .option('subscribe', 'windowFunctions')\\\n",
    "            .option('startingOffsets', 'latest')\\\n",
    "            .load()"
   ]
  },
  {
   "cell_type": "code",
   "execution_count": 5,
   "id": "80d19fc8-7cfe-46b8-9230-87d6afc3e1d3",
   "metadata": {},
   "outputs": [
    {
     "name": "stdout",
     "output_type": "stream",
     "text": [
      "root\n",
      " |-- key: binary (nullable = true)\n",
      " |-- value: binary (nullable = true)\n",
      " |-- topic: string (nullable = true)\n",
      " |-- partition: integer (nullable = true)\n",
      " |-- offset: long (nullable = true)\n",
      " |-- timestamp: timestamp (nullable = true)\n",
      " |-- timestampType: integer (nullable = true)\n",
      "\n"
     ]
    }
   ],
   "source": [
    "df_kafka.printSchema()"
   ]
  },
  {
   "cell_type": "code",
   "execution_count": 6,
   "id": "45d6b0d2-624d-4ad1-a52e-6ef02dc1b576",
   "metadata": {},
   "outputs": [],
   "source": [
    "from pyspark.sql.functions import col, cast, from_json"
   ]
  },
  {
   "cell_type": "code",
   "execution_count": 7,
   "id": "4ec7e1b3-56e2-4f14-83fe-9cfad316ecb3",
   "metadata": {},
   "outputs": [],
   "source": [
    "\n",
    "s = \"event_time STRING, data STRING\"\n",
    "\n",
    "df = df_kafka.select(col('value').cast('STRING').alias('JSON'))\\\n",
    "    .select(from_json(col('JSON'),s).alias('values'))\\\n",
    "    .select('values.*')"
   ]
  },
  {
   "cell_type": "code",
   "execution_count": 8,
   "id": "e257a738-6da3-4598-8f60-3390e360e4ec",
   "metadata": {},
   "outputs": [
    {
     "name": "stdout",
     "output_type": "stream",
     "text": [
      "root\n",
      " |-- event_time: string (nullable = true)\n",
      " |-- data: string (nullable = true)\n",
      "\n"
     ]
    }
   ],
   "source": [
    "df.printSchema()"
   ]
  },
  {
   "cell_type": "code",
   "execution_count": 9,
   "id": "17e62d41-977b-4f21-9011-aa3ec108c809",
   "metadata": {},
   "outputs": [],
   "source": [
    "from pyspark.sql.functions import split, explode\n",
    "\n",
    "df_words = df.withColumn('words', split('data', ' '))\\\n",
    "            .withColumn('word', explode('words')).drop('words','data')\\\n",
    "            .withColumn('event_time', col('event_time').cast('TIMESTAMP'))"
   ]
  },
  {
   "cell_type": "code",
   "execution_count": 10,
   "id": "e356ff64-18ca-41c3-8023-3140226cfa87",
   "metadata": {},
   "outputs": [
    {
     "name": "stdout",
     "output_type": "stream",
     "text": [
      "root\n",
      " |-- event_time: timestamp (nullable = true)\n",
      " |-- word: string (nullable = false)\n",
      "\n"
     ]
    }
   ],
   "source": [
    "df_words.printSchema()"
   ]
  },
  {
   "cell_type": "code",
   "execution_count": 11,
   "id": "1cb6dc28-3e9c-47c2-87f9-332176c8358c",
   "metadata": {},
   "outputs": [],
   "source": [
    "from pyspark.sql.functions import window, lit\n",
    "import pyspark.sql.functions as F\n",
    "df_agg = df_words.withWatermark(\"event_time\",\"10 minutes\")\\\n",
    "                .groupBy(window(\"event_time\",\"10 minutes\"),'word')\\\n",
    "                .agg(F.sum(lit(1)).alias('cnt'))"
   ]
  },
  {
   "cell_type": "code",
   "execution_count": 12,
   "id": "35867b84-0145-4375-b63f-ce40e196ad4c",
   "metadata": {},
   "outputs": [
    {
     "name": "stdout",
     "output_type": "stream",
     "text": [
      "root\n",
      " |-- window: struct (nullable = false)\n",
      " |    |-- start: timestamp (nullable = true)\n",
      " |    |-- end: timestamp (nullable = true)\n",
      " |-- word: string (nullable = false)\n",
      " |-- cnt: long (nullable = true)\n",
      "\n"
     ]
    }
   ],
   "source": [
    "df_agg.printSchema()"
   ]
  },
  {
   "cell_type": "code",
   "execution_count": 13,
   "id": "a77ee24c-c343-4ca9-a17e-b9f245cefef0",
   "metadata": {},
   "outputs": [],
   "source": [
    "df_final = df_agg.select(col('window.start').alias('start_window')\\\n",
    "                        ,col('window.end').alias('end_window'),'word','cnt')"
   ]
  },
  {
   "cell_type": "code",
   "execution_count": 14,
   "id": "e14a69ce-076f-4a4f-99fa-a4ab38cd6b50",
   "metadata": {},
   "outputs": [
    {
     "name": "stdout",
     "output_type": "stream",
     "text": [
      "root\n",
      " |-- start_window: timestamp (nullable = true)\n",
      " |-- end_window: timestamp (nullable = true)\n",
      " |-- word: string (nullable = false)\n",
      " |-- cnt: long (nullable = true)\n",
      "\n"
     ]
    }
   ],
   "source": [
    "df_final.printSchema()"
   ]
  },
  {
   "cell_type": "code",
   "execution_count": 15,
   "id": "7bbc608b-e4c3-4639-8c3b-635331ae5b63",
   "metadata": {},
   "outputs": [],
   "source": [
    "df_writer_complete = df_final.writeStream.format('console')\\\n",
    "            .outputMode('complete')\\\n",
    "            .trigger(processingTime = '20 seconds')"
   ]
  },
  {
   "cell_type": "code",
   "execution_count": 16,
   "id": "b2b6e972-1dbd-48cc-9007-d9e838e3e7d8",
   "metadata": {},
   "outputs": [],
   "source": [
    "df_writer_update = df_final.writeStream.format('console')\\\n",
    "            .outputMode('update')\\\n",
    "            .trigger(processingTime = '20 seconds')"
   ]
  },
  {
   "cell_type": "code",
   "execution_count": 17,
   "id": "82ff7c89-c6e3-4aba-b85b-d003eb0355b4",
   "metadata": {},
   "outputs": [
    {
     "name": "stderr",
     "output_type": "stream",
     "text": [
      "25/07/11 10:23:33 WARN ResolveWriteToStream: Temporary checkpoint location created which is deleted normally when the query didn't fail: /tmp/temporary-3f41e405-417d-41f7-9353-b1748fd1138b. If it's required to delete it under any circumstances, please set spark.sql.streaming.forceDeleteTempCheckpointLocation to true. Important to know deleting temp checkpoint folder is best effort.\n",
      "25/07/11 10:23:33 WARN ResolveWriteToStream: spark.sql.adaptive.enabled is not supported in streaming DataFrames/Datasets and will be disabled.\n",
      "25/07/11 10:23:33 WARN ResolveWriteToStream: Temporary checkpoint location created which is deleted normally when the query didn't fail: /tmp/temporary-351404e9-b5e3-4f1b-bb21-19945e04de85. If it's required to delete it under any circumstances, please set spark.sql.streaming.forceDeleteTempCheckpointLocation to true. Important to know deleting temp checkpoint folder is best effort.\n",
      "25/07/11 10:23:33 WARN ResolveWriteToStream: spark.sql.adaptive.enabled is not supported in streaming DataFrames/Datasets and will be disabled.\n",
      "25/07/11 10:23:33 WARN AdminClientConfig: The configuration 'key.deserializer' was supplied but isn't a known config.\n",
      "25/07/11 10:23:33 WARN AdminClientConfig: The configuration 'key.deserializer' was supplied but isn't a known config.\n",
      "25/07/11 10:23:33 WARN AdminClientConfig: The configuration 'value.deserializer' was supplied but isn't a known config.\n",
      "25/07/11 10:23:33 WARN AdminClientConfig: The configuration 'enable.auto.commit' was supplied but isn't a known config.\n",
      "25/07/11 10:23:33 WARN AdminClientConfig: The configuration 'value.deserializer' was supplied but isn't a known config.\n",
      "25/07/11 10:23:33 WARN AdminClientConfig: The configuration 'max.poll.records' was supplied but isn't a known config.\n",
      "25/07/11 10:23:33 WARN AdminClientConfig: The configuration 'enable.auto.commit' was supplied but isn't a known config.\n",
      "25/07/11 10:23:33 WARN AdminClientConfig: The configuration 'auto.offset.reset' was supplied but isn't a known config.\n",
      "25/07/11 10:23:33 WARN AdminClientConfig: The configuration 'max.poll.records' was supplied but isn't a known config.\n",
      "25/07/11 10:23:33 WARN AdminClientConfig: The configuration 'auto.offset.reset' was supplied but isn't a known config.\n",
      "                                                                                "
     ]
    },
    {
     "name": "stdout",
     "output_type": "stream",
     "text": [
      "-------------------------------------------\n",
      "Batch: 0\n",
      "-------------------------------------------\n",
      "+------------+----------+----+---+\n",
      "|start_window|end_window|word|cnt|\n",
      "+------------+----------+----+---+\n",
      "+------------+----------+----+---+\n",
      "\n"
     ]
    },
    {
     "name": "stderr",
     "output_type": "stream",
     "text": [
      "                                                                                "
     ]
    },
    {
     "name": "stdout",
     "output_type": "stream",
     "text": [
      "-------------------------------------------\n",
      "Batch: 0\n",
      "-------------------------------------------\n",
      "+------------+----------+----+---+\n",
      "|start_window|end_window|word|cnt|\n",
      "+------------+----------+----+---+\n",
      "+------------+----------+----+---+\n",
      "\n"
     ]
    },
    {
     "name": "stderr",
     "output_type": "stream",
     "text": [
      "                                                                                "
     ]
    },
    {
     "name": "stdout",
     "output_type": "stream",
     "text": [
      "-------------------------------------------\n",
      "Batch: 1\n",
      "-------------------------------------------\n"
     ]
    },
    {
     "name": "stderr",
     "output_type": "stream",
     "text": [
      "                                                                                "
     ]
    },
    {
     "name": "stdout",
     "output_type": "stream",
     "text": [
      "+-------------------+-------------------+----+---+\n",
      "|       start_window|         end_window|word|cnt|\n",
      "+-------------------+-------------------+----+---+\n",
      "|2024-04-09 12:00:00|2024-04-09 12:10:00| dog|  1|\n",
      "|2024-04-09 12:00:00|2024-04-09 12:10:00| owl|  2|\n",
      "+-------------------+-------------------+----+---+\n",
      "\n",
      "-------------------------------------------\n",
      "Batch: 1\n",
      "-------------------------------------------\n",
      "+-------------------+-------------------+----+---+\n",
      "|       start_window|         end_window|word|cnt|\n",
      "+-------------------+-------------------+----+---+\n",
      "|2024-04-09 12:00:00|2024-04-09 12:10:00| dog|  1|\n",
      "|2024-04-09 12:00:00|2024-04-09 12:10:00| owl|  2|\n",
      "+-------------------+-------------------+----+---+\n",
      "\n"
     ]
    },
    {
     "name": "stderr",
     "output_type": "stream",
     "text": [
      "                                                                                "
     ]
    },
    {
     "name": "stdout",
     "output_type": "stream",
     "text": [
      "-------------------------------------------\n",
      "Batch: 2\n",
      "-------------------------------------------\n",
      "+-------------------+-------------------+----+---+\n",
      "|       start_window|         end_window|word|cnt|\n",
      "+-------------------+-------------------+----+---+\n",
      "|2024-04-09 12:00:00|2024-04-09 12:10:00| dog|  1|\n",
      "|2024-04-09 12:00:00|2024-04-09 12:10:00| owl|  3|\n",
      "+-------------------+-------------------+----+---+\n",
      "\n"
     ]
    },
    {
     "name": "stderr",
     "output_type": "stream",
     "text": [
      "                                                                                "
     ]
    },
    {
     "name": "stdout",
     "output_type": "stream",
     "text": [
      "-------------------------------------------\n",
      "Batch: 2\n",
      "-------------------------------------------\n",
      "+-------------------+-------------------+----+---+\n",
      "|       start_window|         end_window|word|cnt|\n",
      "+-------------------+-------------------+----+---+\n",
      "|2024-04-09 12:00:00|2024-04-09 12:10:00| owl|  3|\n",
      "+-------------------+-------------------+----+---+\n",
      "\n"
     ]
    },
    {
     "name": "stderr",
     "output_type": "stream",
     "text": [
      "                                                                                "
     ]
    },
    {
     "name": "stdout",
     "output_type": "stream",
     "text": [
      "-------------------------------------------\n",
      "Batch: 3\n",
      "-------------------------------------------\n",
      "+------------+----------+----+---+\n",
      "|start_window|end_window|word|cnt|\n",
      "+------------+----------+----+---+\n",
      "+------------+----------+----+---+\n",
      "\n"
     ]
    },
    {
     "name": "stderr",
     "output_type": "stream",
     "text": [
      "                                                                                "
     ]
    },
    {
     "name": "stdout",
     "output_type": "stream",
     "text": [
      "-------------------------------------------\n",
      "Batch: 3\n",
      "-------------------------------------------\n",
      "+-------------------+-------------------+----+---+\n",
      "|       start_window|         end_window|word|cnt|\n",
      "+-------------------+-------------------+----+---+\n",
      "|2024-04-09 12:00:00|2024-04-09 12:10:00| dog|  1|\n",
      "|2024-04-09 12:00:00|2024-04-09 12:10:00| owl|  4|\n",
      "+-------------------+-------------------+----+---+\n",
      "\n"
     ]
    },
    {
     "name": "stderr",
     "output_type": "stream",
     "text": [
      "                                                                                "
     ]
    },
    {
     "name": "stdout",
     "output_type": "stream",
     "text": [
      "-------------------------------------------\n",
      "Batch: 4\n",
      "-------------------------------------------\n",
      "+-------------------+-------------------+----+---+\n",
      "|       start_window|         end_window|word|cnt|\n",
      "+-------------------+-------------------+----+---+\n",
      "|2024-04-09 12:00:00|2024-04-09 12:10:00| owl|  4|\n",
      "+-------------------+-------------------+----+---+\n",
      "\n"
     ]
    },
    {
     "name": "stderr",
     "output_type": "stream",
     "text": [
      "                                                                                "
     ]
    },
    {
     "name": "stdout",
     "output_type": "stream",
     "text": [
      "-------------------------------------------\n",
      "Batch: 4\n",
      "-------------------------------------------\n",
      "+-------------------+-------------------+----+---+\n",
      "|       start_window|         end_window|word|cnt|\n",
      "+-------------------+-------------------+----+---+\n",
      "|2024-04-09 12:00:00|2024-04-09 12:10:00| dog|  1|\n",
      "|2024-04-09 12:10:00|2024-04-09 12:20:00| owl|  1|\n",
      "|2024-04-09 12:10:00|2024-04-09 12:20:00| dog|  1|\n",
      "|2024-04-09 12:00:00|2024-04-09 12:10:00| owl|  4|\n",
      "+-------------------+-------------------+----+---+\n",
      "\n"
     ]
    },
    {
     "name": "stderr",
     "output_type": "stream",
     "text": [
      "                                                                                "
     ]
    },
    {
     "name": "stdout",
     "output_type": "stream",
     "text": [
      "-------------------------------------------\n",
      "Batch: 5\n",
      "-------------------------------------------\n",
      "+-------------------+-------------------+----+---+\n",
      "|       start_window|         end_window|word|cnt|\n",
      "+-------------------+-------------------+----+---+\n",
      "|2024-04-09 12:10:00|2024-04-09 12:20:00| owl|  1|\n",
      "|2024-04-09 12:10:00|2024-04-09 12:20:00| dog|  1|\n",
      "+-------------------+-------------------+----+---+\n",
      "\n"
     ]
    },
    {
     "name": "stderr",
     "output_type": "stream",
     "text": [
      "                                                                                "
     ]
    },
    {
     "name": "stdout",
     "output_type": "stream",
     "text": [
      "-------------------------------------------\n",
      "Batch: 6\n",
      "-------------------------------------------\n",
      "+------------+----------+----+---+\n",
      "|start_window|end_window|word|cnt|\n",
      "+------------+----------+----+---+\n",
      "+------------+----------+----+---+\n",
      "\n"
     ]
    },
    {
     "name": "stderr",
     "output_type": "stream",
     "text": [
      "                                                                                "
     ]
    },
    {
     "name": "stdout",
     "output_type": "stream",
     "text": [
      "-------------------------------------------\n",
      "Batch: 7\n",
      "-------------------------------------------\n",
      "+------------+----------+----+---+\n",
      "|start_window|end_window|word|cnt|\n",
      "+------------+----------+----+---+\n",
      "+------------+----------+----+---+\n",
      "\n"
     ]
    },
    {
     "name": "stderr",
     "output_type": "stream",
     "text": [
      "                                                                                "
     ]
    },
    {
     "name": "stdout",
     "output_type": "stream",
     "text": [
      "-------------------------------------------\n",
      "Batch: 5\n",
      "-------------------------------------------\n",
      "+-------------------+-------------------+----+---+\n",
      "|       start_window|         end_window|word|cnt|\n",
      "+-------------------+-------------------+----+---+\n",
      "|2024-04-09 12:00:00|2024-04-09 12:10:00| dog|  1|\n",
      "|2024-04-09 11:00:00|2024-04-09 11:10:00| dog|  1|\n",
      "|2024-04-09 12:10:00|2024-04-09 12:20:00| owl|  1|\n",
      "|2024-04-09 12:10:00|2024-04-09 12:20:00| dog|  1|\n",
      "|2024-04-09 12:00:00|2024-04-09 12:10:00| owl|  4|\n",
      "+-------------------+-------------------+----+---+\n",
      "\n"
     ]
    },
    {
     "name": "stderr",
     "output_type": "stream",
     "text": [
      "                                                                                "
     ]
    },
    {
     "name": "stdout",
     "output_type": "stream",
     "text": [
      "-------------------------------------------\n",
      "Batch: 8\n",
      "-------------------------------------------\n",
      "+-------------------+-------------------+----+---+\n",
      "|       start_window|         end_window|word|cnt|\n",
      "+-------------------+-------------------+----+---+\n",
      "|2024-04-09 12:00:00|2024-04-09 12:10:00| dog|  2|\n",
      "+-------------------+-------------------+----+---+\n",
      "\n"
     ]
    },
    {
     "name": "stderr",
     "output_type": "stream",
     "text": [
      "                                                                                "
     ]
    },
    {
     "name": "stdout",
     "output_type": "stream",
     "text": [
      "-------------------------------------------\n",
      "Batch: 6\n",
      "-------------------------------------------\n",
      "+-------------------+-------------------+----+---+\n",
      "|       start_window|         end_window|word|cnt|\n",
      "+-------------------+-------------------+----+---+\n",
      "|2024-04-09 12:00:00|2024-04-09 12:10:00| dog|  2|\n",
      "|2024-04-09 11:00:00|2024-04-09 11:10:00| dog|  1|\n",
      "|2024-04-09 12:10:00|2024-04-09 12:20:00| owl|  1|\n",
      "|2024-04-09 12:10:00|2024-04-09 12:20:00| dog|  1|\n",
      "|2024-04-09 12:00:00|2024-04-09 12:10:00| owl|  4|\n",
      "+-------------------+-------------------+----+---+\n",
      "\n"
     ]
    }
   ],
   "source": [
    "query_complete = df_writer_complete.start()\n",
    "query_update = df_writer_update.start()"
   ]
  },
  {
   "cell_type": "code",
   "execution_count": 18,
   "id": "0766b3b2-f38a-4c21-b390-bcd6e49efc74",
   "metadata": {},
   "outputs": [],
   "source": [
    "query_complete.stop()\n",
    "\n",
    "query_update.stop()"
   ]
  },
  {
   "cell_type": "raw",
   "id": "f08f4f10-1fa9-4ef2-9fc1-16926371d9ac",
   "metadata": {},
   "source": []
  },
  {
   "cell_type": "code",
   "execution_count": null,
   "id": "f899bd28-2854-4422-a6c8-8b5c9982e113",
   "metadata": {},
   "outputs": [],
   "source": []
  }
 ],
 "metadata": {
  "kernelspec": {
   "display_name": "PySpark",
   "language": "python",
   "name": "pyspark"
  },
  "language_info": {
   "codemirror_mode": {
    "name": "ipython",
    "version": 3
   },
   "file_extension": ".py",
   "mimetype": "text/x-python",
   "name": "python",
   "nbconvert_exporter": "python",
   "pygments_lexer": "ipython3",
   "version": "3.12.3"
  }
 },
 "nbformat": 4,
 "nbformat_minor": 5
}
