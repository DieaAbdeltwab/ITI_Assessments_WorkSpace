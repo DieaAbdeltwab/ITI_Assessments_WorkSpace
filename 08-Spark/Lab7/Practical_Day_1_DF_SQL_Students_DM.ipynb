{
 "cells": [
  {
   "cell_type": "markdown",
   "id": "05f1e8db",
   "metadata": {},
   "source": [
    "# **Labs 1 and 2 PySpark:**\n",
    "\n",
    "In these labs we will be using the \"[[NeurIPS 2020] Data Science for COVID-19 (DS4C)](https://www.kaggle.com/datasets/kimjihoo/coronavirusdataset?select=PatientInfo.csv)\" dataset, retrieved from [Kaggle](https://www.kaggle.com/) on 1/6/2022, for educational non commercial purpose, License\n",
    "[CC BY-NC-SA 4.0\n",
    "](https://creativecommons.org/licenses/by-nc-sa/4.0/)\n",
    "\n",
    "\n",
    "The csv file that we will be using in this lab is **PatientInfo**."
   ]
  },
  {
   "cell_type": "markdown",
   "id": "3ac9bbf0",
   "metadata": {},
   "source": [
    "## PatientInfo.csv\n",
    "\n",
    "**patient_id**\n",
    "the ID of the patient\n",
    "\n",
    "**sex**\n",
    "the sex of the patient\n",
    "\n",
    "**age**\n",
    "the age of the patient\n",
    "\n",
    "**country**\n",
    "the country of the patient\n",
    "\n",
    "**province**\n",
    "the province of the patient\n",
    "\n",
    "**city**\n",
    "the city of the patient\n",
    "\n",
    "**infection_case**\n",
    "the case of infection\n",
    "\n",
    "**infected_by**\n",
    "the ID of who infected the patient\n",
    "\n",
    "\n",
    "**contact_number**\n",
    "the number of contacts with people\n",
    "\n",
    "**symptom_onset_date**\n",
    "the date of symptom onset\n",
    "\n",
    "**confirmed_date**\n",
    "the date of being confirmed\n",
    "\n",
    "**released_date**\n",
    "the date of being released\n",
    "\n",
    "**deceased_date**\n",
    "the date of being deceased\n",
    "\n",
    "**state**\n",
    "isolated / released / deceased"
   ]
  },
  {
   "cell_type": "markdown",
   "id": "34b6f619",
   "metadata": {},
   "source": [
    "### Import the pyspark and check it's version"
   ]
  },
  {
   "cell_type": "code",
   "execution_count": 2,
   "id": "29fe2ddc",
   "metadata": {},
   "outputs": [
    {
     "data": {
      "text/plain": [
       "'3.5.5'"
      ]
     },
     "execution_count": 2,
     "metadata": {},
     "output_type": "execute_result"
    }
   ],
   "source": [
    "from pyspark.sql import SparkSession\n",
    "\n",
    "spark.version"
   ]
  },
  {
   "cell_type": "markdown",
   "id": "70c0fc8e",
   "metadata": {},
   "source": [
    "### Import and create SparkSession"
   ]
  },
  {
   "cell_type": "code",
   "execution_count": 3,
   "id": "94904228",
   "metadata": {},
   "outputs": [
    {
     "name": "stderr",
     "output_type": "stream",
     "text": [
      "25/07/11 10:43:31 WARN SparkSession: Using an existing Spark session; only runtime SQL configurations will take effect.\n"
     ]
    }
   ],
   "source": [
    "spark = SparkSession.builder.appName('practical_Session').getOrCreate()"
   ]
  },
  {
   "cell_type": "markdown",
   "id": "7356d68d",
   "metadata": {},
   "source": [
    "### Load the PatientInfo.csv file and show the first 5 rows"
   ]
  },
  {
   "cell_type": "code",
   "execution_count": 5,
   "id": "0fd46885-d01e-4137-93d8-cbe71efdcdbd",
   "metadata": {},
   "outputs": [
    {
     "data": {
      "text/html": [
       "<style>pre { white-space: pre !important; } </style>"
      ],
      "text/plain": [
       "<IPython.core.display.HTML object>"
      ]
     },
     "metadata": {},
     "output_type": "display_data"
    }
   ],
   "source": [
    "\n",
    "from IPython.display import display, HTML\n",
    "display(HTML(\"<style>pre { white-space: pre !important; } </style>\"))"
   ]
  },
  {
   "cell_type": "code",
   "execution_count": 4,
   "id": "d5185728",
   "metadata": {},
   "outputs": [
    {
     "name": "stderr",
     "output_type": "stream",
     "text": [
      "                                                                                "
     ]
    },
    {
     "name": "stdout",
     "output_type": "stream",
     "text": [
      "+----------+------+---+-------+--------+-----------+--------------------+-----------+--------------+------------------+--------------+-------------+-------------+--------+\n",
      "|patient_id|   sex|age|country|province|       city|      infection_case|infected_by|contact_number|symptom_onset_date|confirmed_date|released_date|deceased_date|   state|\n",
      "+----------+------+---+-------+--------+-----------+--------------------+-----------+--------------+------------------+--------------+-------------+-------------+--------+\n",
      "|1000000001|  male|50s|  Korea|   Seoul| Gangseo-gu|     overseas inflow|       NULL|            75|        2020-01-22|    2020-01-23|   2020-02-05|         NULL|released|\n",
      "|1000000002|  male|30s|  Korea|   Seoul|Jungnang-gu|     overseas inflow|       NULL|            31|              NULL|    2020-01-30|   2020-03-02|         NULL|released|\n",
      "|1000000003|  male|50s|  Korea|   Seoul|  Jongno-gu|contact with patient| 2002000001|            17|              NULL|    2020-01-30|   2020-02-19|         NULL|released|\n",
      "|1000000004|  male|20s|  Korea|   Seoul|    Mapo-gu|     overseas inflow|       NULL|             9|        2020-01-26|    2020-01-30|   2020-02-15|         NULL|released|\n",
      "|1000000005|female|20s|  Korea|   Seoul|Seongbuk-gu|contact with patient| 1000000002|             2|              NULL|    2020-01-31|   2020-02-24|         NULL|released|\n",
      "+----------+------+---+-------+--------+-----------+--------------------+-----------+--------------+------------------+--------------+-------------+-------------+--------+\n",
      "only showing top 5 rows\n",
      "\n"
     ]
    }
   ],
   "source": [
    "df_patients = spark.read.csv(\"file:///hadoopc/ITI/practical_session/PatientInfo.csv\", header=True, inferSchema = True)\n",
    "\n",
    "df_patients.show(5)"
   ]
  },
  {
   "cell_type": "code",
   "execution_count": null,
   "id": "2196bca5",
   "metadata": {},
   "outputs": [],
   "source": []
  },
  {
   "cell_type": "code",
   "execution_count": null,
   "id": "2d859c29",
   "metadata": {},
   "outputs": [],
   "source": []
  },
  {
   "cell_type": "markdown",
   "id": "4d43bdca",
   "metadata": {},
   "source": [
    "### Display the schema of the dataset"
   ]
  },
  {
   "cell_type": "code",
   "execution_count": 7,
   "id": "c51a2507",
   "metadata": {},
   "outputs": [
    {
     "name": "stdout",
     "output_type": "stream",
     "text": [
      "root\n",
      " |-- patient_id: long (nullable = true)\n",
      " |-- sex: string (nullable = true)\n",
      " |-- age: string (nullable = true)\n",
      " |-- country: string (nullable = true)\n",
      " |-- province: string (nullable = true)\n",
      " |-- city: string (nullable = true)\n",
      " |-- infection_case: string (nullable = true)\n",
      " |-- infected_by: string (nullable = true)\n",
      " |-- contact_number: string (nullable = true)\n",
      " |-- symptom_onset_date: string (nullable = true)\n",
      " |-- confirmed_date: date (nullable = true)\n",
      " |-- released_date: date (nullable = true)\n",
      " |-- deceased_date: date (nullable = true)\n",
      " |-- state: string (nullable = true)\n",
      "\n"
     ]
    }
   ],
   "source": [
    "df_patients.printSchema()"
   ]
  },
  {
   "cell_type": "markdown",
   "id": "3114e1dd",
   "metadata": {},
   "source": [
    "### Display the statistical summary"
   ]
  },
  {
   "cell_type": "code",
   "execution_count": 8,
   "id": "18d63947",
   "metadata": {},
   "outputs": [],
   "source": [
    "df_summary = df_patients.summary()"
   ]
  },
  {
   "cell_type": "code",
   "execution_count": 9,
   "id": "ef602279-1b31-4be1-b729-8ff6fe6149e0",
   "metadata": {},
   "outputs": [
    {
     "name": "stderr",
     "output_type": "stream",
     "text": [
      "25/07/11 10:47:06 WARN SparkStringUtils: Truncated the string representation of a plan since it was too large. This behavior can be adjusted by setting 'spark.sql.debug.maxToStringFields'.\n",
      "[Stage 3:>                                                          (0 + 1) / 1]"
     ]
    },
    {
     "name": "stdout",
     "output_type": "stream",
     "text": [
      "+-------+--------------------+------+----+----------+--------+--------------+--------------------+--------------------+--------------------+------------------+--------+\n",
      "|summary|          patient_id|   sex| age|   country|province|          city|      infection_case|         infected_by|      contact_number|symptom_onset_date|   state|\n",
      "+-------+--------------------+------+----+----------+--------+--------------+--------------------+--------------------+--------------------+------------------+--------+\n",
      "|  count|                5165|  4043|3785|      5165|    5165|          5071|                4246|                1346|                 791|               690|    5165|\n",
      "|   mean|2.8636345618679576E9|  NULL|NULL|      NULL|    NULL|          NULL|                NULL|2.2845944015643125E9|1.6772572523506988E7|              NULL|    NULL|\n",
      "| stddev| 2.074210725277473E9|  NULL|NULL|      NULL|    NULL|          NULL|                NULL|1.5265072953383324E9| 3.093097580985502E8|              NULL|    NULL|\n",
      "|    min|          1000000001|female|  0s|Bangladesh|   Busan|     Andong-si|Anyang Gunpo Past...|          1000000002|                   -|                  |deceased|\n",
      "|    25%|          1000001291|  NULL|NULL|      NULL|    NULL|          NULL|                NULL|       1.400000102E9|                 2.0|              NULL|    NULL|\n",
      "|    50%|          2000000369|  NULL|NULL|      NULL|    NULL|          NULL|                NULL|       2.000000167E9|                 4.0|              NULL|    NULL|\n",
      "|    75%|          6001000115|  NULL|NULL|      NULL|    NULL|          NULL|                NULL|       2.000000975E9|                14.0|              NULL|    NULL|\n",
      "|    max|          7000000019|  male| 90s|   Vietnam|   Ulsan|sankyeock-dong|     overseas inflow|          7000000009|                  95|        2020-06-28|released|\n",
      "+-------+--------------------+------+----+----------+--------+--------------+--------------------+--------------------+--------------------+------------------+--------+\n",
      "\n"
     ]
    },
    {
     "name": "stderr",
     "output_type": "stream",
     "text": [
      "                                                                                "
     ]
    }
   ],
   "source": [
    "df_summary.show()"
   ]
  },
  {
   "cell_type": "markdown",
   "id": "c78859b9",
   "metadata": {},
   "source": [
    "### Using the state column.\n",
    "### How many people survived (released), and how many didn't survive (isolated/deceased)?"
   ]
  },
  {
   "cell_type": "code",
   "execution_count": 10,
   "id": "7230e9d6",
   "metadata": {},
   "outputs": [
    {
     "name": "stdout",
     "output_type": "stream",
     "text": [
      "+--------+-----+\n",
      "|   state|count|\n",
      "+--------+-----+\n",
      "|isolated| 2158|\n",
      "|released| 2929|\n",
      "|deceased|   78|\n",
      "+--------+-----+\n",
      "\n"
     ]
    }
   ],
   "source": [
    "df_patients.groupBy('state').count().show()"
   ]
  },
  {
   "cell_type": "code",
   "execution_count": 12,
   "id": "63e84045",
   "metadata": {},
   "outputs": [
    {
     "name": "stdout",
     "output_type": "stream",
     "text": [
      "+--------+----+\n",
      "|   state| cnt|\n",
      "+--------+----+\n",
      "|isolated|2158|\n",
      "|released|2929|\n",
      "|deceased|  78|\n",
      "+--------+----+\n",
      "\n"
     ]
    }
   ],
   "source": [
    "from pyspark.sql.functions import count\n",
    "df_patients.groupBy('state').agg(count('state').alias('cnt')).show()"
   ]
  },
  {
   "cell_type": "markdown",
   "id": "59c16346",
   "metadata": {},
   "source": [
    "### Display the number of null values in each column"
   ]
  },
  {
   "cell_type": "code",
   "execution_count": 13,
   "id": "4adc0ab6",
   "metadata": {
    "scrolled": true
   },
   "outputs": [
    {
     "ename": "TypeError",
     "evalue": "'module' object is not callable",
     "output_type": "error",
     "traceback": [
      "\u001b[31m---------------------------------------------------------------------------\u001b[39m",
      "\u001b[31mTypeError\u001b[39m                                 Traceback (most recent call last)",
      "\u001b[36mCell\u001b[39m\u001b[36m \u001b[39m\u001b[32mIn[13]\u001b[39m\u001b[32m, line 2\u001b[39m\n\u001b[32m      1\u001b[39m df_patients.createOrReplaceTempView(\u001b[33m\"\u001b[39m\u001b[33mpatients\u001b[39m\u001b[33m\"\u001b[39m)\n\u001b[32m----> \u001b[39m\u001b[32m2\u001b[39m \u001b[43mpyspark\u001b[49m\u001b[43m.\u001b[49m\u001b[43msql\u001b[49m\u001b[43m(\u001b[49m\u001b[33;43m\"\"\"\u001b[39;49m\n\u001b[32m      3\u001b[39m \u001b[33;43m    SELECT COUNT(*)\u001b[39;49m\n\u001b[32m      4\u001b[39m \u001b[33;43m\"\"\"\u001b[39;49m\u001b[43m)\u001b[49m\n",
      "\u001b[31mTypeError\u001b[39m: 'module' object is not callable"
     ]
    }
   ],
   "source": [
    "df_patients.createOrReplaceTempView(\"patients\")\n",
    "pyspark.sql(\"\"\"\n",
    "    SELECT COUNT(*)-\n",
    "    FROM patients\n",
    "\"\"\")\n"
   ]
  },
  {
   "cell_type": "code",
   "execution_count": 15,
   "id": "4a95199c",
   "metadata": {},
   "outputs": [],
   "source": [
    "lst = df_patients.columns"
   ]
  },
  {
   "cell_type": "code",
   "execution_count": 31,
   "id": "c266a59c-7cdf-4296-a254-dbe1ff402f7a",
   "metadata": {},
   "outputs": [
    {
     "name": "stdout",
     "output_type": "stream",
     "text": [
      "+----------+----+----+-------+--------+----+--------------+-----------+--------------+------------------+--------------+-------------+-------------+-----+\n",
      "|patient_id| sex| age|country|province|city|infection_case|infected_by|contact_number|symptom_onset_date|confirmed_date|released_date|deceased_date|state|\n",
      "+----------+----+----+-------+--------+----+--------------+-----------+--------------+------------------+--------------+-------------+-------------+-----+\n",
      "|         0|1122|1380|      0|       0|  94|           919|       3819|          4374|              4475|             3|         3578|         5099|    0|\n",
      "+----------+----+----+-------+--------+----+--------------+-----------+--------------+------------------+--------------+-------------+-------------+-----+\n",
      "\n"
     ]
    }
   ],
   "source": [
    "from pyspark.sql.functions import col\n",
    "import pyspark.sql.functions as F\n",
    "\n",
    "emp_lst=[]\n",
    "\n",
    "for colm in lst:\n",
    "    expr = (F.count('*')-F.count(colm)).alias(colm)\n",
    "    emp_lst.append(expr)\n",
    "    \n",
    "df_new = df_patients.select(*emp_lst)\n",
    "df_new.show()"
   ]
  },
  {
   "cell_type": "markdown",
   "id": "c3133f5a",
   "metadata": {},
   "source": [
    "## Data preprocessing"
   ]
  },
  {
   "cell_type": "markdown",
   "id": "ec32fa0c",
   "metadata": {},
   "source": [
    "### Fill the nulls in the deceased_date with the released_date. \n",
    "- You can use <b>coalesce</b> function"
   ]
  },
  {
   "cell_type": "code",
   "execution_count": 32,
   "id": "ee4a1f44",
   "metadata": {},
   "outputs": [
    {
     "name": "stdout",
     "output_type": "stream",
     "text": [
      "+----------+------+---+-------+--------+------------+--------------------+-----------+--------------+------------------+--------------+-------------+-------------+--------+\n",
      "|patient_id|   sex|age|country|province|        city|      infection_case|infected_by|contact_number|symptom_onset_date|confirmed_date|released_date|deceased_date|   state|\n",
      "+----------+------+---+-------+--------+------------+--------------------+-----------+--------------+------------------+--------------+-------------+-------------+--------+\n",
      "|1000000001|  male|50s|  Korea|   Seoul|  Gangseo-gu|     overseas inflow|       NULL|            75|        2020-01-22|    2020-01-23|   2020-02-05|         NULL|released|\n",
      "|1000000002|  male|30s|  Korea|   Seoul| Jungnang-gu|     overseas inflow|       NULL|            31|              NULL|    2020-01-30|   2020-03-02|         NULL|released|\n",
      "|1000000003|  male|50s|  Korea|   Seoul|   Jongno-gu|contact with patient| 2002000001|            17|              NULL|    2020-01-30|   2020-02-19|         NULL|released|\n",
      "|1000000004|  male|20s|  Korea|   Seoul|     Mapo-gu|     overseas inflow|       NULL|             9|        2020-01-26|    2020-01-30|   2020-02-15|         NULL|released|\n",
      "|1000000005|female|20s|  Korea|   Seoul| Seongbuk-gu|contact with patient| 1000000002|             2|              NULL|    2020-01-31|   2020-02-24|         NULL|released|\n",
      "|1000000006|female|50s|  Korea|   Seoul|   Jongno-gu|contact with patient| 1000000003|            43|              NULL|    2020-01-31|   2020-02-19|         NULL|released|\n",
      "|1000000007|  male|20s|  Korea|   Seoul|   Jongno-gu|contact with patient| 1000000003|             0|              NULL|    2020-01-31|   2020-02-10|         NULL|released|\n",
      "|1000000008|  male|20s|  Korea|   Seoul|         etc|     overseas inflow|       NULL|             0|              NULL|    2020-02-02|   2020-02-24|         NULL|released|\n",
      "|1000000009|  male|30s|  Korea|   Seoul|   Songpa-gu|     overseas inflow|       NULL|            68|              NULL|    2020-02-05|   2020-02-21|         NULL|released|\n",
      "|1000000010|female|60s|  Korea|   Seoul| Seongbuk-gu|contact with patient| 1000000003|             6|              NULL|    2020-02-05|   2020-02-29|         NULL|released|\n",
      "|1000000011|female|50s|  China|   Seoul|Seodaemun-gu|     overseas inflow|       NULL|            23|              NULL|    2020-02-06|   2020-02-29|         NULL|released|\n",
      "|1000000012|  male|20s|  Korea|   Seoul|         etc|     overseas inflow|       NULL|             0|              NULL|    2020-02-07|   2020-02-27|         NULL|released|\n",
      "|1000000013|  male|80s|  Korea|   Seoul|   Jongno-gu|contact with patient| 1000000017|           117|              NULL|    2020-02-16|         NULL|         NULL|deceased|\n",
      "|1000000014|female|60s|  Korea|   Seoul|   Jongno-gu|contact with patient| 1000000013|            27|        2020-02-06|    2020-02-16|   2020-03-12|         NULL|released|\n",
      "|1000000015|  male|70s|  Korea|   Seoul|Seongdong-gu|    Seongdong-gu APT|       NULL|             8|        2020-02-11|    2020-02-19|         NULL|         NULL|released|\n",
      "|1000000016|  male|70s|  Korea|   Seoul|   Jongno-gu|contact with patient| 1000000017|          NULL|              NULL|    2020-02-19|   2020-03-11|         NULL|released|\n",
      "|1000000017|  male|70s|  Korea|   Seoul|   Jongno-gu|contact with patient| 1000000003|          NULL|              NULL|    2020-02-20|   2020-03-01|         NULL|released|\n",
      "|1000000018|  male|20s|  Korea|   Seoul|         etc|                 etc|       NULL|          NULL|              NULL|    2020-02-20|         NULL|         NULL|released|\n",
      "|1000000019|female|70s|  Korea|   Seoul|   Jongno-gu|contact with patient| 1000000021|          NULL|              NULL|    2020-02-20|   2020-03-08|         NULL|released|\n",
      "|1000000020|female|70s|  Korea|   Seoul|Seongdong-gu|    Seongdong-gu APT| 1000000015|          NULL|              NULL|    2020-02-20|         NULL|         NULL|released|\n",
      "+----------+------+---+-------+--------+------------+--------------------+-----------+--------------+------------------+--------------+-------------+-------------+--------+\n",
      "only showing top 20 rows\n",
      "\n"
     ]
    }
   ],
   "source": [
    "df_patients.show()"
   ]
  },
  {
   "cell_type": "code",
   "execution_count": 33,
   "id": "25b74962",
   "metadata": {},
   "outputs": [
    {
     "name": "stdout",
     "output_type": "stream",
     "text": [
      "+----------+------+---+-------+--------+------------+--------------------+-----------+--------------+------------------+--------------+-------------+-------------+--------+\n",
      "|patient_id|   sex|age|country|province|        city|      infection_case|infected_by|contact_number|symptom_onset_date|confirmed_date|released_date|deceased_date|   state|\n",
      "+----------+------+---+-------+--------+------------+--------------------+-----------+--------------+------------------+--------------+-------------+-------------+--------+\n",
      "|1000000001|  male|50s|  Korea|   Seoul|  Gangseo-gu|     overseas inflow|       NULL|            75|        2020-01-22|    2020-01-23|   2020-02-05|   2020-02-05|released|\n",
      "|1000000002|  male|30s|  Korea|   Seoul| Jungnang-gu|     overseas inflow|       NULL|            31|              NULL|    2020-01-30|   2020-03-02|   2020-03-02|released|\n",
      "|1000000003|  male|50s|  Korea|   Seoul|   Jongno-gu|contact with patient| 2002000001|            17|              NULL|    2020-01-30|   2020-02-19|   2020-02-19|released|\n",
      "|1000000004|  male|20s|  Korea|   Seoul|     Mapo-gu|     overseas inflow|       NULL|             9|        2020-01-26|    2020-01-30|   2020-02-15|   2020-02-15|released|\n",
      "|1000000005|female|20s|  Korea|   Seoul| Seongbuk-gu|contact with patient| 1000000002|             2|              NULL|    2020-01-31|   2020-02-24|   2020-02-24|released|\n",
      "|1000000006|female|50s|  Korea|   Seoul|   Jongno-gu|contact with patient| 1000000003|            43|              NULL|    2020-01-31|   2020-02-19|   2020-02-19|released|\n",
      "|1000000007|  male|20s|  Korea|   Seoul|   Jongno-gu|contact with patient| 1000000003|             0|              NULL|    2020-01-31|   2020-02-10|   2020-02-10|released|\n",
      "|1000000008|  male|20s|  Korea|   Seoul|         etc|     overseas inflow|       NULL|             0|              NULL|    2020-02-02|   2020-02-24|   2020-02-24|released|\n",
      "|1000000009|  male|30s|  Korea|   Seoul|   Songpa-gu|     overseas inflow|       NULL|            68|              NULL|    2020-02-05|   2020-02-21|   2020-02-21|released|\n",
      "|1000000010|female|60s|  Korea|   Seoul| Seongbuk-gu|contact with patient| 1000000003|             6|              NULL|    2020-02-05|   2020-02-29|   2020-02-29|released|\n",
      "|1000000011|female|50s|  China|   Seoul|Seodaemun-gu|     overseas inflow|       NULL|            23|              NULL|    2020-02-06|   2020-02-29|   2020-02-29|released|\n",
      "|1000000012|  male|20s|  Korea|   Seoul|         etc|     overseas inflow|       NULL|             0|              NULL|    2020-02-07|   2020-02-27|   2020-02-27|released|\n",
      "|1000000013|  male|80s|  Korea|   Seoul|   Jongno-gu|contact with patient| 1000000017|           117|              NULL|    2020-02-16|         NULL|         NULL|deceased|\n",
      "|1000000014|female|60s|  Korea|   Seoul|   Jongno-gu|contact with patient| 1000000013|            27|        2020-02-06|    2020-02-16|   2020-03-12|   2020-03-12|released|\n",
      "|1000000015|  male|70s|  Korea|   Seoul|Seongdong-gu|    Seongdong-gu APT|       NULL|             8|        2020-02-11|    2020-02-19|         NULL|         NULL|released|\n",
      "|1000000016|  male|70s|  Korea|   Seoul|   Jongno-gu|contact with patient| 1000000017|          NULL|              NULL|    2020-02-19|   2020-03-11|   2020-03-11|released|\n",
      "|1000000017|  male|70s|  Korea|   Seoul|   Jongno-gu|contact with patient| 1000000003|          NULL|              NULL|    2020-02-20|   2020-03-01|   2020-03-01|released|\n",
      "|1000000018|  male|20s|  Korea|   Seoul|         etc|                 etc|       NULL|          NULL|              NULL|    2020-02-20|         NULL|         NULL|released|\n",
      "|1000000019|female|70s|  Korea|   Seoul|   Jongno-gu|contact with patient| 1000000021|          NULL|              NULL|    2020-02-20|   2020-03-08|   2020-03-08|released|\n",
      "|1000000020|female|70s|  Korea|   Seoul|Seongdong-gu|    Seongdong-gu APT| 1000000015|          NULL|              NULL|    2020-02-20|         NULL|         NULL|released|\n",
      "+----------+------+---+-------+--------+------------+--------------------+-----------+--------------+------------------+--------------+-------------+-------------+--------+\n",
      "only showing top 20 rows\n",
      "\n"
     ]
    }
   ],
   "source": [
    "df_col = df_patients.withColumn(\"deceased_date\", F.coalesce('deceased_date','released_date'))\n",
    "df_col.show()"
   ]
  },
  {
   "cell_type": "markdown",
   "id": "4ec324f5",
   "metadata": {},
   "source": [
    "### Add a column named no_days which is difference between the deceased_date and the confirmed_date then show the top 5 rows. Print the schema.\n",
    "- <b> Hint: You need to typecast these columns as date first <b>"
   ]
  },
  {
   "cell_type": "code",
   "execution_count": 34,
   "id": "338b1d82",
   "metadata": {},
   "outputs": [
    {
     "name": "stdout",
     "output_type": "stream",
     "text": [
      "root\n",
      " |-- patient_id: long (nullable = true)\n",
      " |-- sex: string (nullable = true)\n",
      " |-- age: string (nullable = true)\n",
      " |-- country: string (nullable = true)\n",
      " |-- province: string (nullable = true)\n",
      " |-- city: string (nullable = true)\n",
      " |-- infection_case: string (nullable = true)\n",
      " |-- infected_by: string (nullable = true)\n",
      " |-- contact_number: string (nullable = true)\n",
      " |-- symptom_onset_date: string (nullable = true)\n",
      " |-- confirmed_date: date (nullable = true)\n",
      " |-- released_date: date (nullable = true)\n",
      " |-- deceased_date: date (nullable = true)\n",
      " |-- state: string (nullable = true)\n",
      "\n"
     ]
    }
   ],
   "source": [
    "df_col.printSchema()"
   ]
  },
  {
   "cell_type": "code",
   "execution_count": 37,
   "id": "d065e472",
   "metadata": {
    "scrolled": true
   },
   "outputs": [
    {
     "name": "stdout",
     "output_type": "stream",
     "text": [
      "+----------+------+---+-------+--------+------------+--------------------+-----------+--------------+------------------+--------------+-------------+-------------+--------+-------+\n",
      "|patient_id|   sex|age|country|province|        city|      infection_case|infected_by|contact_number|symptom_onset_date|confirmed_date|released_date|deceased_date|   state|no_days|\n",
      "+----------+------+---+-------+--------+------------+--------------------+-----------+--------------+------------------+--------------+-------------+-------------+--------+-------+\n",
      "|1000000001|  male|50s|  Korea|   Seoul|  Gangseo-gu|     overseas inflow|       NULL|            75|        2020-01-22|    2020-01-23|   2020-02-05|   2020-02-05|released|     13|\n",
      "|1000000002|  male|30s|  Korea|   Seoul| Jungnang-gu|     overseas inflow|       NULL|            31|              NULL|    2020-01-30|   2020-03-02|   2020-03-02|released|     32|\n",
      "|1000000003|  male|50s|  Korea|   Seoul|   Jongno-gu|contact with patient| 2002000001|            17|              NULL|    2020-01-30|   2020-02-19|   2020-02-19|released|     20|\n",
      "|1000000004|  male|20s|  Korea|   Seoul|     Mapo-gu|     overseas inflow|       NULL|             9|        2020-01-26|    2020-01-30|   2020-02-15|   2020-02-15|released|     16|\n",
      "|1000000005|female|20s|  Korea|   Seoul| Seongbuk-gu|contact with patient| 1000000002|             2|              NULL|    2020-01-31|   2020-02-24|   2020-02-24|released|     24|\n",
      "|1000000006|female|50s|  Korea|   Seoul|   Jongno-gu|contact with patient| 1000000003|            43|              NULL|    2020-01-31|   2020-02-19|   2020-02-19|released|     19|\n",
      "|1000000007|  male|20s|  Korea|   Seoul|   Jongno-gu|contact with patient| 1000000003|             0|              NULL|    2020-01-31|   2020-02-10|   2020-02-10|released|     10|\n",
      "|1000000008|  male|20s|  Korea|   Seoul|         etc|     overseas inflow|       NULL|             0|              NULL|    2020-02-02|   2020-02-24|   2020-02-24|released|     22|\n",
      "|1000000009|  male|30s|  Korea|   Seoul|   Songpa-gu|     overseas inflow|       NULL|            68|              NULL|    2020-02-05|   2020-02-21|   2020-02-21|released|     16|\n",
      "|1000000010|female|60s|  Korea|   Seoul| Seongbuk-gu|contact with patient| 1000000003|             6|              NULL|    2020-02-05|   2020-02-29|   2020-02-29|released|     24|\n",
      "|1000000011|female|50s|  China|   Seoul|Seodaemun-gu|     overseas inflow|       NULL|            23|              NULL|    2020-02-06|   2020-02-29|   2020-02-29|released|     23|\n",
      "|1000000012|  male|20s|  Korea|   Seoul|         etc|     overseas inflow|       NULL|             0|              NULL|    2020-02-07|   2020-02-27|   2020-02-27|released|     20|\n",
      "|1000000013|  male|80s|  Korea|   Seoul|   Jongno-gu|contact with patient| 1000000017|           117|              NULL|    2020-02-16|         NULL|         NULL|deceased|   NULL|\n",
      "|1000000014|female|60s|  Korea|   Seoul|   Jongno-gu|contact with patient| 1000000013|            27|        2020-02-06|    2020-02-16|   2020-03-12|   2020-03-12|released|     25|\n",
      "|1000000015|  male|70s|  Korea|   Seoul|Seongdong-gu|    Seongdong-gu APT|       NULL|             8|        2020-02-11|    2020-02-19|         NULL|         NULL|released|   NULL|\n",
      "|1000000016|  male|70s|  Korea|   Seoul|   Jongno-gu|contact with patient| 1000000017|          NULL|              NULL|    2020-02-19|   2020-03-11|   2020-03-11|released|     21|\n",
      "|1000000017|  male|70s|  Korea|   Seoul|   Jongno-gu|contact with patient| 1000000003|          NULL|              NULL|    2020-02-20|   2020-03-01|   2020-03-01|released|     10|\n",
      "|1000000018|  male|20s|  Korea|   Seoul|         etc|                 etc|       NULL|          NULL|              NULL|    2020-02-20|         NULL|         NULL|released|   NULL|\n",
      "|1000000019|female|70s|  Korea|   Seoul|   Jongno-gu|contact with patient| 1000000021|          NULL|              NULL|    2020-02-20|   2020-03-08|   2020-03-08|released|     17|\n",
      "|1000000020|female|70s|  Korea|   Seoul|Seongdong-gu|    Seongdong-gu APT| 1000000015|          NULL|              NULL|    2020-02-20|         NULL|         NULL|released|   NULL|\n",
      "+----------+------+---+-------+--------+------------+--------------------+-----------+--------------+------------------+--------------+-------------+-------------+--------+-------+\n",
      "only showing top 20 rows\n",
      "\n"
     ]
    }
   ],
   "source": [
    "from pyspark.sql.functions import datediff\n",
    "df_diff = df_col.withColumn(\"no_days\", datediff(\"deceased_date\", \"confirmed_date\"))\n",
    "df_diff.show()"
   ]
  },
  {
   "cell_type": "code",
   "execution_count": null,
   "id": "98837de8",
   "metadata": {},
   "outputs": [],
   "source": []
  },
  {
   "cell_type": "markdown",
   "id": "967b2466",
   "metadata": {},
   "source": [
    "### Add a is_male column if male then it should yield true, else then False"
   ]
  },
  {
   "cell_type": "code",
   "execution_count": 39,
   "id": "8efe03b5",
   "metadata": {},
   "outputs": [],
   "source": [
    "from pyspark.sql.functions import when\n",
    "df_new = df_diff.withColumn(\"is_male\", when(col(\"sex\") == 'male', True).otherwise(False))"
   ]
  },
  {
   "cell_type": "code",
   "execution_count": 40,
   "id": "50a60330-5ec2-4d3b-a387-ff1a8b3c5af8",
   "metadata": {},
   "outputs": [
    {
     "name": "stdout",
     "output_type": "stream",
     "text": [
      "+----------+------+---+-------+--------+------------+--------------------+-----------+--------------+------------------+--------------+-------------+-------------+--------+-------+-------+\n",
      "|patient_id|   sex|age|country|province|        city|      infection_case|infected_by|contact_number|symptom_onset_date|confirmed_date|released_date|deceased_date|   state|no_days|is_male|\n",
      "+----------+------+---+-------+--------+------------+--------------------+-----------+--------------+------------------+--------------+-------------+-------------+--------+-------+-------+\n",
      "|1000000001|  male|50s|  Korea|   Seoul|  Gangseo-gu|     overseas inflow|       NULL|            75|        2020-01-22|    2020-01-23|   2020-02-05|   2020-02-05|released|     13|   true|\n",
      "|1000000002|  male|30s|  Korea|   Seoul| Jungnang-gu|     overseas inflow|       NULL|            31|              NULL|    2020-01-30|   2020-03-02|   2020-03-02|released|     32|   true|\n",
      "|1000000003|  male|50s|  Korea|   Seoul|   Jongno-gu|contact with patient| 2002000001|            17|              NULL|    2020-01-30|   2020-02-19|   2020-02-19|released|     20|   true|\n",
      "|1000000004|  male|20s|  Korea|   Seoul|     Mapo-gu|     overseas inflow|       NULL|             9|        2020-01-26|    2020-01-30|   2020-02-15|   2020-02-15|released|     16|   true|\n",
      "|1000000005|female|20s|  Korea|   Seoul| Seongbuk-gu|contact with patient| 1000000002|             2|              NULL|    2020-01-31|   2020-02-24|   2020-02-24|released|     24|  false|\n",
      "|1000000006|female|50s|  Korea|   Seoul|   Jongno-gu|contact with patient| 1000000003|            43|              NULL|    2020-01-31|   2020-02-19|   2020-02-19|released|     19|  false|\n",
      "|1000000007|  male|20s|  Korea|   Seoul|   Jongno-gu|contact with patient| 1000000003|             0|              NULL|    2020-01-31|   2020-02-10|   2020-02-10|released|     10|   true|\n",
      "|1000000008|  male|20s|  Korea|   Seoul|         etc|     overseas inflow|       NULL|             0|              NULL|    2020-02-02|   2020-02-24|   2020-02-24|released|     22|   true|\n",
      "|1000000009|  male|30s|  Korea|   Seoul|   Songpa-gu|     overseas inflow|       NULL|            68|              NULL|    2020-02-05|   2020-02-21|   2020-02-21|released|     16|   true|\n",
      "|1000000010|female|60s|  Korea|   Seoul| Seongbuk-gu|contact with patient| 1000000003|             6|              NULL|    2020-02-05|   2020-02-29|   2020-02-29|released|     24|  false|\n",
      "|1000000011|female|50s|  China|   Seoul|Seodaemun-gu|     overseas inflow|       NULL|            23|              NULL|    2020-02-06|   2020-02-29|   2020-02-29|released|     23|  false|\n",
      "|1000000012|  male|20s|  Korea|   Seoul|         etc|     overseas inflow|       NULL|             0|              NULL|    2020-02-07|   2020-02-27|   2020-02-27|released|     20|   true|\n",
      "|1000000013|  male|80s|  Korea|   Seoul|   Jongno-gu|contact with patient| 1000000017|           117|              NULL|    2020-02-16|         NULL|         NULL|deceased|   NULL|   true|\n",
      "|1000000014|female|60s|  Korea|   Seoul|   Jongno-gu|contact with patient| 1000000013|            27|        2020-02-06|    2020-02-16|   2020-03-12|   2020-03-12|released|     25|  false|\n",
      "|1000000015|  male|70s|  Korea|   Seoul|Seongdong-gu|    Seongdong-gu APT|       NULL|             8|        2020-02-11|    2020-02-19|         NULL|         NULL|released|   NULL|   true|\n",
      "|1000000016|  male|70s|  Korea|   Seoul|   Jongno-gu|contact with patient| 1000000017|          NULL|              NULL|    2020-02-19|   2020-03-11|   2020-03-11|released|     21|   true|\n",
      "|1000000017|  male|70s|  Korea|   Seoul|   Jongno-gu|contact with patient| 1000000003|          NULL|              NULL|    2020-02-20|   2020-03-01|   2020-03-01|released|     10|   true|\n",
      "|1000000018|  male|20s|  Korea|   Seoul|         etc|                 etc|       NULL|          NULL|              NULL|    2020-02-20|         NULL|         NULL|released|   NULL|   true|\n",
      "|1000000019|female|70s|  Korea|   Seoul|   Jongno-gu|contact with patient| 1000000021|          NULL|              NULL|    2020-02-20|   2020-03-08|   2020-03-08|released|     17|  false|\n",
      "|1000000020|female|70s|  Korea|   Seoul|Seongdong-gu|    Seongdong-gu APT| 1000000015|          NULL|              NULL|    2020-02-20|         NULL|         NULL|released|   NULL|  false|\n",
      "+----------+------+---+-------+--------+------------+--------------------+-----------+--------------+------------------+--------------+-------------+-------------+--------+-------+-------+\n",
      "only showing top 20 rows\n",
      "\n"
     ]
    }
   ],
   "source": [
    "df_new.show()"
   ]
  },
  {
   "cell_type": "markdown",
   "id": "8603d7c0",
   "metadata": {},
   "source": [
    "### Add a is_dead column if patient state is not released then it should yield true, else then False\n",
    "\n",
    "- Use <b>UDF</b> to perform this task. \n",
    "- However, UDF is not recommended there is no built in function can do the required operation.\n",
    "- UDF is slower than built in functions."
   ]
  },
  {
   "cell_type": "code",
   "execution_count": 50,
   "id": "4e56ba7a",
   "metadata": {},
   "outputs": [],
   "source": [
    "def is_dead(state):\n",
    "    if state == 'released':\n",
    "        return False\n",
    "    else:\n",
    "        return True"
   ]
  },
  {
   "cell_type": "code",
   "execution_count": 51,
   "id": "d35d7dee-6e9c-4acc-8864-10fb74368bcb",
   "metadata": {},
   "outputs": [],
   "source": [
    "def is_dead_2(state):\n",
    "    return state != 'released'"
   ]
  },
  {
   "cell_type": "code",
   "execution_count": 52,
   "id": "ee499bf5-3fc7-4ef1-a8a8-3dd1b0c4245e",
   "metadata": {},
   "outputs": [],
   "source": [
    "from pyspark.sql.functions import udf\n",
    "from pyspark.sql.types import BooleanType\n",
    "is_dead = udf(is_dead, BooleanType())\n",
    "is_dead_2 = udf(is_dead_2, BooleanType())"
   ]
  },
  {
   "cell_type": "code",
   "execution_count": 54,
   "id": "c8f28ee7",
   "metadata": {},
   "outputs": [],
   "source": [
    "df_new_3 = df_new.withColumn(\"is_dead\", is_dead(col(\"state\")))\\\n",
    "                .withColumn(\"is_dead_2\", is_dead_2(col(\"state\")))"
   ]
  },
  {
   "cell_type": "code",
   "execution_count": 56,
   "id": "de95063e-cb4a-4545-b4d0-d745754b9cc2",
   "metadata": {},
   "outputs": [
    {
     "name": "stdout",
     "output_type": "stream",
     "text": [
      "+----------+------+---+-------+--------+------------+--------------------+-----------+--------------+------------------+--------------+-------------+-------------+--------+-------+-------+-------+---------+\n",
      "|patient_id|   sex|age|country|province|        city|      infection_case|infected_by|contact_number|symptom_onset_date|confirmed_date|released_date|deceased_date|   state|no_days|is_male|is_dead|is_dead_2|\n",
      "+----------+------+---+-------+--------+------------+--------------------+-----------+--------------+------------------+--------------+-------------+-------------+--------+-------+-------+-------+---------+\n",
      "|1000000001|  male|50s|  Korea|   Seoul|  Gangseo-gu|     overseas inflow|       NULL|            75|        2020-01-22|    2020-01-23|   2020-02-05|   2020-02-05|released|     13|   true|  false|    false|\n",
      "|1000000002|  male|30s|  Korea|   Seoul| Jungnang-gu|     overseas inflow|       NULL|            31|              NULL|    2020-01-30|   2020-03-02|   2020-03-02|released|     32|   true|  false|    false|\n",
      "|1000000003|  male|50s|  Korea|   Seoul|   Jongno-gu|contact with patient| 2002000001|            17|              NULL|    2020-01-30|   2020-02-19|   2020-02-19|released|     20|   true|  false|    false|\n",
      "|1000000004|  male|20s|  Korea|   Seoul|     Mapo-gu|     overseas inflow|       NULL|             9|        2020-01-26|    2020-01-30|   2020-02-15|   2020-02-15|released|     16|   true|  false|    false|\n",
      "|1000000005|female|20s|  Korea|   Seoul| Seongbuk-gu|contact with patient| 1000000002|             2|              NULL|    2020-01-31|   2020-02-24|   2020-02-24|released|     24|  false|  false|    false|\n",
      "|1000000006|female|50s|  Korea|   Seoul|   Jongno-gu|contact with patient| 1000000003|            43|              NULL|    2020-01-31|   2020-02-19|   2020-02-19|released|     19|  false|  false|    false|\n",
      "|1000000007|  male|20s|  Korea|   Seoul|   Jongno-gu|contact with patient| 1000000003|             0|              NULL|    2020-01-31|   2020-02-10|   2020-02-10|released|     10|   true|  false|    false|\n",
      "|1000000008|  male|20s|  Korea|   Seoul|         etc|     overseas inflow|       NULL|             0|              NULL|    2020-02-02|   2020-02-24|   2020-02-24|released|     22|   true|  false|    false|\n",
      "|1000000009|  male|30s|  Korea|   Seoul|   Songpa-gu|     overseas inflow|       NULL|            68|              NULL|    2020-02-05|   2020-02-21|   2020-02-21|released|     16|   true|  false|    false|\n",
      "|1000000010|female|60s|  Korea|   Seoul| Seongbuk-gu|contact with patient| 1000000003|             6|              NULL|    2020-02-05|   2020-02-29|   2020-02-29|released|     24|  false|  false|    false|\n",
      "|1000000011|female|50s|  China|   Seoul|Seodaemun-gu|     overseas inflow|       NULL|            23|              NULL|    2020-02-06|   2020-02-29|   2020-02-29|released|     23|  false|  false|    false|\n",
      "|1000000012|  male|20s|  Korea|   Seoul|         etc|     overseas inflow|       NULL|             0|              NULL|    2020-02-07|   2020-02-27|   2020-02-27|released|     20|   true|  false|    false|\n",
      "|1000000013|  male|80s|  Korea|   Seoul|   Jongno-gu|contact with patient| 1000000017|           117|              NULL|    2020-02-16|         NULL|         NULL|deceased|   NULL|   true|   true|     true|\n",
      "|1000000014|female|60s|  Korea|   Seoul|   Jongno-gu|contact with patient| 1000000013|            27|        2020-02-06|    2020-02-16|   2020-03-12|   2020-03-12|released|     25|  false|  false|    false|\n",
      "|1000000015|  male|70s|  Korea|   Seoul|Seongdong-gu|    Seongdong-gu APT|       NULL|             8|        2020-02-11|    2020-02-19|         NULL|         NULL|released|   NULL|   true|  false|    false|\n",
      "|1000000016|  male|70s|  Korea|   Seoul|   Jongno-gu|contact with patient| 1000000017|          NULL|              NULL|    2020-02-19|   2020-03-11|   2020-03-11|released|     21|   true|  false|    false|\n",
      "|1000000017|  male|70s|  Korea|   Seoul|   Jongno-gu|contact with patient| 1000000003|          NULL|              NULL|    2020-02-20|   2020-03-01|   2020-03-01|released|     10|   true|  false|    false|\n",
      "|1000000018|  male|20s|  Korea|   Seoul|         etc|                 etc|       NULL|          NULL|              NULL|    2020-02-20|         NULL|         NULL|released|   NULL|   true|  false|    false|\n",
      "|1000000019|female|70s|  Korea|   Seoul|   Jongno-gu|contact with patient| 1000000021|          NULL|              NULL|    2020-02-20|   2020-03-08|   2020-03-08|released|     17|  false|  false|    false|\n",
      "|1000000020|female|70s|  Korea|   Seoul|Seongdong-gu|    Seongdong-gu APT| 1000000015|          NULL|              NULL|    2020-02-20|         NULL|         NULL|released|   NULL|  false|  false|    false|\n",
      "|1000000021|  male|80s|  Korea|   Seoul|   Jongno-gu|contact with patient| 1000000016|          NULL|              NULL|    2020-02-20|   2020-03-08|   2020-03-08|released|     17|   true|  false|    false|\n",
      "|1000000022|  male|30s|  Korea|   Seoul|Seodaemun-gu|Eunpyeong St. Mar...|       NULL|          NULL|              NULL|    2020-02-21|         NULL|         NULL|released|   NULL|   true|  false|    false|\n",
      "|1000000023|  male|50s|  Korea|   Seoul|   Seocho-gu|  Shincheonji Church|       NULL|          NULL|              NULL|    2020-02-21|         NULL|         NULL|released|   NULL|   true|  false|    false|\n",
      "|1000000024|  male|40s|  Korea|   Seoul|     Guro-gu|contact with patient|       NULL|          NULL|              NULL|    2020-02-22|   2020-03-14|   2020-03-14|released|     21|   true|  false|    false|\n",
      "|1000000025|  male|60s|  Korea|   Seoul| Gangdong-gu|Eunpyeong St. Mar...| 1000000022|          NULL|              NULL|    2020-02-22|         NULL|         NULL|released|   NULL|   true|  false|    false|\n",
      "|1000000026|  male|30s|  Korea|   Seoul|   Seocho-gu|                 etc|       NULL|          NULL|        2020-02-21|    2020-02-22|   2020-03-11|   2020-03-11|released|     18|   true|  false|    false|\n",
      "|1000000027|  male|50s|  Korea|   Seoul|  Gangseo-gu|     overseas inflow|       NULL|          NULL|              NULL|    2020-02-23|   2020-03-04|   2020-03-04|released|     10|   true|  false|    false|\n",
      "|1000000028|female|70s|  Korea|   Seoul|   Jongno-gu|Eunpyeong St. Mar...|       NULL|          NULL|              NULL|    2020-02-23|   2020-03-11|   2020-03-11|released|     17|  false|  false|    false|\n",
      "|1000000029|female|20s|  Korea|   Seoul|   Jongno-gu|Eunpyeong St. Mar...| 1000000028|          NULL|        2020-02-11|    2020-02-26|   2020-03-11|   2020-03-11|released|     14|  false|  false|    false|\n",
      "|1000000030|  male|60s|  China|   Seoul| Gangdong-gu|Eunpyeong St. Mar...|       NULL|          NULL|              NULL|    2020-02-23|         NULL|         NULL|released|   NULL|   true|  false|    false|\n",
      "|1000000031|  male|50s|  Korea|   Seoul|   Songpa-gu|                 etc|       NULL|          NULL|              NULL|    2020-02-22|   2020-03-19|   2020-03-19|released|     26|   true|  false|    false|\n",
      "|1000000032|  male|50s|  Korea|   Seoul|   Seocho-gu|contact with patient|       NULL|          NULL|              NULL|    2020-02-23|         NULL|         NULL|released|   NULL|   true|  false|    false|\n",
      "|1000000033|female|50s|  Korea|   Seoul|   Songpa-gu|contact with patient| 1000000031|          NULL|              NULL|    2020-02-24|   2020-03-10|   2020-03-10|released|     15|  false|  false|    false|\n",
      "|1000000034|  male|20s|  Korea|   Seoul|   Songpa-gu|contact with patient| 1000000031|          NULL|              NULL|    2020-02-24|   2020-03-17|   2020-03-17|released|     22|   true|  false|    false|\n",
      "|1000000035|  male|30s|  Korea|   Seoul|         etc|                 etc|       NULL|          NULL|        2020-02-19|    2020-02-25|   2020-03-20|   2020-03-20|released|     24|   true|  false|    false|\n",
      "|1000000036|female|50s|  Korea|   Seoul|Eunpyeong-gu|Eunpyeong St. Mar...|       NULL|          NULL|              NULL|    2020-02-25|         NULL|         NULL|released|   NULL|  false|  false|    false|\n",
      "|1000000037|female|40s|  Korea|   Seoul|   Songpa-gu|contact with patient| 1000000031|          NULL|              NULL|    2020-02-25|   2020-03-11|   2020-03-11|released|     15|  false|  false|    false|\n",
      "|1000000038|  male|60s|  Korea|   Seoul|         etc|                 etc|       NULL|          NULL|        2020-02-24|    2020-02-25|         NULL|         NULL|released|   NULL|   true|  false|    false|\n",
      "|1000000039|female|70s|  China|   Seoul|Geumcheon-gu|     overseas inflow|       NULL|          NULL|              NULL|    2020-02-25|         NULL|         NULL|released|   NULL|  false|  false|    false|\n",
      "|1000000040|female|60s|  Korea|   Seoul|   Gwanak-gu|     overseas inflow| 1500000002|          NULL|              NULL|    2020-02-25|         NULL|         NULL|released|   NULL|  false|  false|    false|\n",
      "|1000000041|  male|50s|  Korea|   Seoul| Gangdong-gu|                 etc|       NULL|          NULL|              NULL|    2020-02-25|   2020-03-04|   2020-03-04|released|      8|   true|  false|    false|\n",
      "|1000000042|  male|40s|  Korea|   Seoul|    Nowon-gu|                 etc|       NULL|          NULL|              NULL|    2020-02-26|         NULL|         NULL|released|   NULL|   true|  false|    false|\n",
      "|1000000043|female|20s|  Korea|   Seoul|   Songpa-gu|     overseas inflow|       NULL|          NULL|              NULL|    2020-02-26|         NULL|         NULL|released|   NULL|  false|  false|    false|\n",
      "|1000000044|  male|60s|  Korea|   Seoul|  Dongjak-gu|contact with patient|       NULL|          NULL|              NULL|    2020-02-26|         NULL|         NULL|released|   NULL|   true|  false|    false|\n",
      "|1000000045|  male|40s|  Korea|   Seoul|   Songpa-gu|contact with patient| 1000000033|          NULL|              NULL|    2020-02-26|   2020-03-04|   2020-03-04|released|      7|   true|  false|    false|\n",
      "|1000000046|female|20s|  Korea|   Seoul|         etc|contact with patient| 1000000041|          NULL|              NULL|    2020-02-26|   2020-03-03|   2020-03-03|released|      6|  false|  false|    false|\n",
      "|1000000047|  male|20s|  Korea|   Seoul|  Gangnam-gu|  Shincheonji Church|       NULL|          NULL|              NULL|    2020-02-26|   2020-03-11|   2020-03-11|released|     14|   true|  false|    false|\n",
      "|1000000048|female|20s|  Korea|   Seoul|Eunpyeong-gu|                 etc|       NULL|          NULL|              NULL|    2020-02-26|   2020-03-13|   2020-03-13|released|     16|  false|  false|    false|\n",
      "|1000000049|  male|60s|  Korea|   Seoul|Eunpyeong-gu|Eunpyeong St. Mar...|       NULL|          NULL|              NULL|    2020-02-26|         NULL|         NULL|released|   NULL|   true|  false|    false|\n",
      "|1000000050|  male|20s|  Korea|   Seoul|   Gwanak-gu|                 etc|       NULL|          NULL|        2020-02-24|    2020-02-27|         NULL|         NULL|released|   NULL|   true|  false|    false|\n",
      "+----------+------+---+-------+--------+------------+--------------------+-----------+--------------+------------------+--------------+-------------+-------------+--------+-------+-------+-------+---------+\n",
      "only showing top 50 rows\n",
      "\n"
     ]
    }
   ],
   "source": [
    "df_new_3.show(50)"
   ]
  },
  {
   "cell_type": "markdown",
   "id": "e15264a9",
   "metadata": {},
   "source": [
    "### Change the ages to bins from 10s, 0s, 10s, 20s,.etc to 0,10, 20"
   ]
  },
  {
   "cell_type": "code",
   "execution_count": 69,
   "id": "7a2b57ed",
   "metadata": {},
   "outputs": [],
   "source": [
    "from pyspark.sql.functions import regexp_replace\n",
    "df_new3 = df_new.withColumn(\"age\", regexp_replace(\"age\", 's', '').cast('INTEGER'))"
   ]
  },
  {
   "cell_type": "code",
   "execution_count": 70,
   "id": "a85030aa-c21e-4c11-8164-0e032ca46d26",
   "metadata": {},
   "outputs": [
    {
     "name": "stdout",
     "output_type": "stream",
     "text": [
      "root\n",
      " |-- patient_id: long (nullable = true)\n",
      " |-- sex: string (nullable = true)\n",
      " |-- age: integer (nullable = true)\n",
      " |-- country: string (nullable = true)\n",
      " |-- province: string (nullable = true)\n",
      " |-- city: string (nullable = true)\n",
      " |-- infection_case: string (nullable = true)\n",
      " |-- infected_by: string (nullable = true)\n",
      " |-- contact_number: string (nullable = true)\n",
      " |-- symptom_onset_date: string (nullable = true)\n",
      " |-- confirmed_date: date (nullable = true)\n",
      " |-- released_date: date (nullable = true)\n",
      " |-- deceased_date: date (nullable = true)\n",
      " |-- state: string (nullable = true)\n",
      " |-- no_days: integer (nullable = true)\n",
      " |-- is_male: boolean (nullable = false)\n",
      "\n"
     ]
    }
   ],
   "source": [
    "df_new3.printSchema()"
   ]
  },
  {
   "cell_type": "code",
   "execution_count": 60,
   "id": "086d5654-65c3-4672-8e6a-e00011c5618d",
   "metadata": {},
   "outputs": [],
   "source": [
    "df_new.createOrReplaceTempView('df')"
   ]
  },
  {
   "cell_type": "code",
   "execution_count": 67,
   "id": "dd3a5877-3d03-4470-b8c9-beb9ad019a95",
   "metadata": {},
   "outputs": [
    {
     "name": "stdout",
     "output_type": "stream",
     "text": [
      "+-------+\n",
      "|new_Age|\n",
      "+-------+\n",
      "|     50|\n",
      "|     30|\n",
      "|     50|\n",
      "|     20|\n",
      "|     20|\n",
      "|     50|\n",
      "|     20|\n",
      "|     20|\n",
      "|     30|\n",
      "|     60|\n",
      "|     50|\n",
      "|     20|\n",
      "|     80|\n",
      "|     60|\n",
      "|     70|\n",
      "|     70|\n",
      "|     70|\n",
      "|     20|\n",
      "|     70|\n",
      "|     70|\n",
      "+-------+\n",
      "only showing top 20 rows\n",
      "\n"
     ]
    }
   ],
   "source": [
    "spark.sql(\"\"\"\n",
    "    SELECT CAST(regexp_replace(age, 's', '')AS INT) new_Age\n",
    "    from df\n",
    "\"\"\").show()"
   ]
  },
  {
   "cell_type": "code",
   "execution_count": 59,
   "id": "23fb5701-558d-4856-a061-b774072f8b0d",
   "metadata": {},
   "outputs": [
    {
     "name": "stdout",
     "output_type": "stream",
     "text": [
      "+----------+------+---+-------+--------+------------+--------------------+-----------+--------------+------------------+--------------+-------------+-------------+--------+-------+-------+\n",
      "|patient_id|   sex|age|country|province|        city|      infection_case|infected_by|contact_number|symptom_onset_date|confirmed_date|released_date|deceased_date|   state|no_days|is_male|\n",
      "+----------+------+---+-------+--------+------------+--------------------+-----------+--------------+------------------+--------------+-------------+-------------+--------+-------+-------+\n",
      "|1000000001|  male| 50|  Korea|   Seoul|  Gangseo-gu|     overseas inflow|       NULL|            75|        2020-01-22|    2020-01-23|   2020-02-05|   2020-02-05|released|     13|   true|\n",
      "|1000000002|  male| 30|  Korea|   Seoul| Jungnang-gu|     overseas inflow|       NULL|            31|              NULL|    2020-01-30|   2020-03-02|   2020-03-02|released|     32|   true|\n",
      "|1000000003|  male| 50|  Korea|   Seoul|   Jongno-gu|contact with patient| 2002000001|            17|              NULL|    2020-01-30|   2020-02-19|   2020-02-19|released|     20|   true|\n",
      "|1000000004|  male| 20|  Korea|   Seoul|     Mapo-gu|     overseas inflow|       NULL|             9|        2020-01-26|    2020-01-30|   2020-02-15|   2020-02-15|released|     16|   true|\n",
      "|1000000005|female| 20|  Korea|   Seoul| Seongbuk-gu|contact with patient| 1000000002|             2|              NULL|    2020-01-31|   2020-02-24|   2020-02-24|released|     24|  false|\n",
      "|1000000006|female| 50|  Korea|   Seoul|   Jongno-gu|contact with patient| 1000000003|            43|              NULL|    2020-01-31|   2020-02-19|   2020-02-19|released|     19|  false|\n",
      "|1000000007|  male| 20|  Korea|   Seoul|   Jongno-gu|contact with patient| 1000000003|             0|              NULL|    2020-01-31|   2020-02-10|   2020-02-10|released|     10|   true|\n",
      "|1000000008|  male| 20|  Korea|   Seoul|         etc|     overseas inflow|       NULL|             0|              NULL|    2020-02-02|   2020-02-24|   2020-02-24|released|     22|   true|\n",
      "|1000000009|  male| 30|  Korea|   Seoul|   Songpa-gu|     overseas inflow|       NULL|            68|              NULL|    2020-02-05|   2020-02-21|   2020-02-21|released|     16|   true|\n",
      "|1000000010|female| 60|  Korea|   Seoul| Seongbuk-gu|contact with patient| 1000000003|             6|              NULL|    2020-02-05|   2020-02-29|   2020-02-29|released|     24|  false|\n",
      "|1000000011|female| 50|  China|   Seoul|Seodaemun-gu|     overseas inflow|       NULL|            23|              NULL|    2020-02-06|   2020-02-29|   2020-02-29|released|     23|  false|\n",
      "|1000000012|  male| 20|  Korea|   Seoul|         etc|     overseas inflow|       NULL|             0|              NULL|    2020-02-07|   2020-02-27|   2020-02-27|released|     20|   true|\n",
      "|1000000013|  male| 80|  Korea|   Seoul|   Jongno-gu|contact with patient| 1000000017|           117|              NULL|    2020-02-16|         NULL|         NULL|deceased|   NULL|   true|\n",
      "|1000000014|female| 60|  Korea|   Seoul|   Jongno-gu|contact with patient| 1000000013|            27|        2020-02-06|    2020-02-16|   2020-03-12|   2020-03-12|released|     25|  false|\n",
      "|1000000015|  male| 70|  Korea|   Seoul|Seongdong-gu|    Seongdong-gu APT|       NULL|             8|        2020-02-11|    2020-02-19|         NULL|         NULL|released|   NULL|   true|\n",
      "|1000000016|  male| 70|  Korea|   Seoul|   Jongno-gu|contact with patient| 1000000017|          NULL|              NULL|    2020-02-19|   2020-03-11|   2020-03-11|released|     21|   true|\n",
      "|1000000017|  male| 70|  Korea|   Seoul|   Jongno-gu|contact with patient| 1000000003|          NULL|              NULL|    2020-02-20|   2020-03-01|   2020-03-01|released|     10|   true|\n",
      "|1000000018|  male| 20|  Korea|   Seoul|         etc|                 etc|       NULL|          NULL|              NULL|    2020-02-20|         NULL|         NULL|released|   NULL|   true|\n",
      "|1000000019|female| 70|  Korea|   Seoul|   Jongno-gu|contact with patient| 1000000021|          NULL|              NULL|    2020-02-20|   2020-03-08|   2020-03-08|released|     17|  false|\n",
      "|1000000020|female| 70|  Korea|   Seoul|Seongdong-gu|    Seongdong-gu APT| 1000000015|          NULL|              NULL|    2020-02-20|         NULL|         NULL|released|   NULL|  false|\n",
      "+----------+------+---+-------+--------+------------+--------------------+-----------+--------------+------------------+--------------+-------------+-------------+--------+-------+-------+\n",
      "only showing top 20 rows\n",
      "\n"
     ]
    }
   ],
   "source": [
    "df_new3.show()"
   ]
  },
  {
   "cell_type": "markdown",
   "id": "43cdf846",
   "metadata": {},
   "source": [
    "### Change age, and no_days  to be typecasted as Double"
   ]
  },
  {
   "cell_type": "code",
   "execution_count": 71,
   "id": "aabcdb1a",
   "metadata": {},
   "outputs": [],
   "source": [
    "df_new3 = df_new_3.withColumn(\"age\", col(\"age\").cast(\"DOUBLE\"))\\\n",
    "                    .withColumn(\"no_days\", col(\"no_days\").cast(\"DOUBLE\"))"
   ]
  },
  {
   "cell_type": "code",
   "execution_count": 72,
   "id": "998a9457",
   "metadata": {},
   "outputs": [
    {
     "name": "stdout",
     "output_type": "stream",
     "text": [
      "root\n",
      " |-- patient_id: long (nullable = true)\n",
      " |-- sex: string (nullable = true)\n",
      " |-- age: double (nullable = true)\n",
      " |-- country: string (nullable = true)\n",
      " |-- province: string (nullable = true)\n",
      " |-- city: string (nullable = true)\n",
      " |-- infection_case: string (nullable = true)\n",
      " |-- infected_by: string (nullable = true)\n",
      " |-- contact_number: string (nullable = true)\n",
      " |-- symptom_onset_date: string (nullable = true)\n",
      " |-- confirmed_date: date (nullable = true)\n",
      " |-- released_date: date (nullable = true)\n",
      " |-- deceased_date: date (nullable = true)\n",
      " |-- state: string (nullable = true)\n",
      " |-- no_days: double (nullable = true)\n",
      " |-- is_male: boolean (nullable = false)\n",
      " |-- is_dead: boolean (nullable = true)\n",
      " |-- is_dead_2: boolean (nullable = true)\n",
      "\n"
     ]
    }
   ],
   "source": [
    "df_new3.printSchema()"
   ]
  },
  {
   "cell_type": "code",
   "execution_count": 74,
   "id": "cf37afc9",
   "metadata": {},
   "outputs": [],
   "source": [
    "df_new3 = df_new_3.withColumns({\"age\": col(\"age\").cast(\"INTEGER\"), \"no_days\": col(\"no_days\").cast(\"INTEGER\")})"
   ]
  },
  {
   "cell_type": "code",
   "execution_count": 75,
   "id": "dfea7fcb",
   "metadata": {},
   "outputs": [
    {
     "name": "stdout",
     "output_type": "stream",
     "text": [
      "root\n",
      " |-- patient_id: long (nullable = true)\n",
      " |-- sex: string (nullable = true)\n",
      " |-- age: integer (nullable = true)\n",
      " |-- country: string (nullable = true)\n",
      " |-- province: string (nullable = true)\n",
      " |-- city: string (nullable = true)\n",
      " |-- infection_case: string (nullable = true)\n",
      " |-- infected_by: string (nullable = true)\n",
      " |-- contact_number: string (nullable = true)\n",
      " |-- symptom_onset_date: string (nullable = true)\n",
      " |-- confirmed_date: date (nullable = true)\n",
      " |-- released_date: date (nullable = true)\n",
      " |-- deceased_date: date (nullable = true)\n",
      " |-- state: string (nullable = true)\n",
      " |-- no_days: integer (nullable = true)\n",
      " |-- is_male: boolean (nullable = false)\n",
      " |-- is_dead: boolean (nullable = true)\n",
      " |-- is_dead_2: boolean (nullable = true)\n",
      "\n"
     ]
    }
   ],
   "source": [
    "df_new3.printSchema()"
   ]
  },
  {
   "cell_type": "markdown",
   "id": "d31e3a87",
   "metadata": {},
   "source": [
    "### Drop the columns\n",
    "[\"patient_id\",\"sex\",\"infected_by\",\"contact_number\",\"released_date\",\"state\",\n",
    "\"symptom_onset_date\",\"confirmed_date\",\"deceased_date\",\"country\",\"no_days\",\n",
    "\"city\",\"infection_case\"]"
   ]
  },
  {
   "cell_type": "code",
   "execution_count": 76,
   "id": "3ae0c428",
   "metadata": {},
   "outputs": [
    {
     "name": "stdout",
     "output_type": "stream",
     "text": [
      "root\n",
      " |-- age: string (nullable = true)\n",
      " |-- province: string (nullable = true)\n",
      " |-- is_male: boolean (nullable = false)\n",
      " |-- is_dead: boolean (nullable = true)\n",
      " |-- is_dead_2: boolean (nullable = true)\n",
      "\n"
     ]
    }
   ],
   "source": [
    "lst = [\"patient_id\",\"sex\",\"infected_by\",\"contact_number\",\"released_date\",\"state\", \"symptom_onset_date\",\"confirmed_date\",\"deceased_date\",\"country\",\"no_days\", \"city\",\"infection_case\"]\n",
    "\n",
    "df = df_new_3.drop(*lst)\n",
    "\n",
    "df.printSchema()"
   ]
  },
  {
   "cell_type": "markdown",
   "id": "32df47a6",
   "metadata": {},
   "source": [
    "### Recount the number of nulls now"
   ]
  },
  {
   "cell_type": "code",
   "execution_count": 80,
   "id": "6d66eaa7",
   "metadata": {},
   "outputs": [],
   "source": [
    "new_lst=[]\n",
    "for colm in df.columns:\n",
    "    expr = (F.count('*')- F.count(col(colm))).alias(colm)\n",
    "    new_lst.append(expr)\n",
    "\n",
    "df_nullls = df.select(*new_lst)"
   ]
  },
  {
   "cell_type": "code",
   "execution_count": 81,
   "id": "97d8c537",
   "metadata": {},
   "outputs": [
    {
     "name": "stdout",
     "output_type": "stream",
     "text": [
      "+----+--------+-------+-------+---------+\n",
      "| age|province|is_male|is_dead|is_dead_2|\n",
      "+----+--------+-------+-------+---------+\n",
      "|1380|       0|      0|      0|        0|\n",
      "+----+--------+-------+-------+---------+\n",
      "\n"
     ]
    },
    {
     "name": "stderr",
     "output_type": "stream",
     "text": [
      "                                                                                "
     ]
    }
   ],
   "source": [
    "df_nullls.show()"
   ]
  },
  {
   "cell_type": "markdown",
   "id": "cc71f158",
   "metadata": {},
   "source": [
    "## Now do the same but using SQL select statement"
   ]
  },
  {
   "cell_type": "markdown",
   "id": "1d540282",
   "metadata": {},
   "source": [
    "### From the original Patient DataFrame, Create a temporary view (table)."
   ]
  },
  {
   "cell_type": "code",
   "execution_count": 82,
   "id": "cf56099f",
   "metadata": {},
   "outputs": [],
   "source": [
    "df_patients.createOrReplaceTempView(\"df_patients\")"
   ]
  },
  {
   "cell_type": "markdown",
   "id": "cb004277",
   "metadata": {},
   "source": [
    "### Use SELECT statement to select all columns from the dataframe and show the output."
   ]
  },
  {
   "cell_type": "code",
   "execution_count": 83,
   "id": "12ae8226",
   "metadata": {},
   "outputs": [
    {
     "name": "stdout",
     "output_type": "stream",
     "text": [
      "+----------+------+---+-------+--------+------------+--------------------+-----------+--------------+------------------+--------------+-------------+-------------+--------+\n",
      "|patient_id|   sex|age|country|province|        city|      infection_case|infected_by|contact_number|symptom_onset_date|confirmed_date|released_date|deceased_date|   state|\n",
      "+----------+------+---+-------+--------+------------+--------------------+-----------+--------------+------------------+--------------+-------------+-------------+--------+\n",
      "|1000000001|  male|50s|  Korea|   Seoul|  Gangseo-gu|     overseas inflow|       NULL|            75|        2020-01-22|    2020-01-23|   2020-02-05|         NULL|released|\n",
      "|1000000002|  male|30s|  Korea|   Seoul| Jungnang-gu|     overseas inflow|       NULL|            31|              NULL|    2020-01-30|   2020-03-02|         NULL|released|\n",
      "|1000000003|  male|50s|  Korea|   Seoul|   Jongno-gu|contact with patient| 2002000001|            17|              NULL|    2020-01-30|   2020-02-19|         NULL|released|\n",
      "|1000000004|  male|20s|  Korea|   Seoul|     Mapo-gu|     overseas inflow|       NULL|             9|        2020-01-26|    2020-01-30|   2020-02-15|         NULL|released|\n",
      "|1000000005|female|20s|  Korea|   Seoul| Seongbuk-gu|contact with patient| 1000000002|             2|              NULL|    2020-01-31|   2020-02-24|         NULL|released|\n",
      "|1000000006|female|50s|  Korea|   Seoul|   Jongno-gu|contact with patient| 1000000003|            43|              NULL|    2020-01-31|   2020-02-19|         NULL|released|\n",
      "|1000000007|  male|20s|  Korea|   Seoul|   Jongno-gu|contact with patient| 1000000003|             0|              NULL|    2020-01-31|   2020-02-10|         NULL|released|\n",
      "|1000000008|  male|20s|  Korea|   Seoul|         etc|     overseas inflow|       NULL|             0|              NULL|    2020-02-02|   2020-02-24|         NULL|released|\n",
      "|1000000009|  male|30s|  Korea|   Seoul|   Songpa-gu|     overseas inflow|       NULL|            68|              NULL|    2020-02-05|   2020-02-21|         NULL|released|\n",
      "|1000000010|female|60s|  Korea|   Seoul| Seongbuk-gu|contact with patient| 1000000003|             6|              NULL|    2020-02-05|   2020-02-29|         NULL|released|\n",
      "|1000000011|female|50s|  China|   Seoul|Seodaemun-gu|     overseas inflow|       NULL|            23|              NULL|    2020-02-06|   2020-02-29|         NULL|released|\n",
      "|1000000012|  male|20s|  Korea|   Seoul|         etc|     overseas inflow|       NULL|             0|              NULL|    2020-02-07|   2020-02-27|         NULL|released|\n",
      "|1000000013|  male|80s|  Korea|   Seoul|   Jongno-gu|contact with patient| 1000000017|           117|              NULL|    2020-02-16|         NULL|         NULL|deceased|\n",
      "|1000000014|female|60s|  Korea|   Seoul|   Jongno-gu|contact with patient| 1000000013|            27|        2020-02-06|    2020-02-16|   2020-03-12|         NULL|released|\n",
      "|1000000015|  male|70s|  Korea|   Seoul|Seongdong-gu|    Seongdong-gu APT|       NULL|             8|        2020-02-11|    2020-02-19|         NULL|         NULL|released|\n",
      "|1000000016|  male|70s|  Korea|   Seoul|   Jongno-gu|contact with patient| 1000000017|          NULL|              NULL|    2020-02-19|   2020-03-11|         NULL|released|\n",
      "|1000000017|  male|70s|  Korea|   Seoul|   Jongno-gu|contact with patient| 1000000003|          NULL|              NULL|    2020-02-20|   2020-03-01|         NULL|released|\n",
      "|1000000018|  male|20s|  Korea|   Seoul|         etc|                 etc|       NULL|          NULL|              NULL|    2020-02-20|         NULL|         NULL|released|\n",
      "|1000000019|female|70s|  Korea|   Seoul|   Jongno-gu|contact with patient| 1000000021|          NULL|              NULL|    2020-02-20|   2020-03-08|         NULL|released|\n",
      "|1000000020|female|70s|  Korea|   Seoul|Seongdong-gu|    Seongdong-gu APT| 1000000015|          NULL|              NULL|    2020-02-20|         NULL|         NULL|released|\n",
      "+----------+------+---+-------+--------+------------+--------------------+-----------+--------------+------------------+--------------+-------------+-------------+--------+\n",
      "only showing top 20 rows\n",
      "\n"
     ]
    }
   ],
   "source": [
    "spark.sql(\"SELECT * FROM df_patients\").show()"
   ]
  },
  {
   "cell_type": "markdown",
   "id": "e0da4318",
   "metadata": {},
   "source": [
    "### *Using SQL commands*, limit the output to only 5 rows "
   ]
  },
  {
   "cell_type": "code",
   "execution_count": 84,
   "id": "97911bdd",
   "metadata": {},
   "outputs": [
    {
     "name": "stdout",
     "output_type": "stream",
     "text": [
      "+----------+------+---+-------+--------+-----------+--------------------+-----------+--------------+------------------+--------------+-------------+-------------+--------+\n",
      "|patient_id|   sex|age|country|province|       city|      infection_case|infected_by|contact_number|symptom_onset_date|confirmed_date|released_date|deceased_date|   state|\n",
      "+----------+------+---+-------+--------+-----------+--------------------+-----------+--------------+------------------+--------------+-------------+-------------+--------+\n",
      "|1000000001|  male|50s|  Korea|   Seoul| Gangseo-gu|     overseas inflow|       NULL|            75|        2020-01-22|    2020-01-23|   2020-02-05|         NULL|released|\n",
      "|1000000002|  male|30s|  Korea|   Seoul|Jungnang-gu|     overseas inflow|       NULL|            31|              NULL|    2020-01-30|   2020-03-02|         NULL|released|\n",
      "|1000000003|  male|50s|  Korea|   Seoul|  Jongno-gu|contact with patient| 2002000001|            17|              NULL|    2020-01-30|   2020-02-19|         NULL|released|\n",
      "|1000000004|  male|20s|  Korea|   Seoul|    Mapo-gu|     overseas inflow|       NULL|             9|        2020-01-26|    2020-01-30|   2020-02-15|         NULL|released|\n",
      "|1000000005|female|20s|  Korea|   Seoul|Seongbuk-gu|contact with patient| 1000000002|             2|              NULL|    2020-01-31|   2020-02-24|         NULL|released|\n",
      "+----------+------+---+-------+--------+-----------+--------------------+-----------+--------------+------------------+--------------+-------------+-------------+--------+\n",
      "\n"
     ]
    }
   ],
   "source": [
    "spark.sql(\"SELECT * FROM df_patients LIMIT 5\").show()"
   ]
  },
  {
   "cell_type": "markdown",
   "id": "b70edf17",
   "metadata": {},
   "source": [
    "### Select the count of males and females in the dataset"
   ]
  },
  {
   "cell_type": "code",
   "execution_count": 87,
   "id": "00e9fd65",
   "metadata": {},
   "outputs": [
    {
     "name": "stdout",
     "output_type": "stream",
     "text": [
      "+------+--------+\n",
      "|   SEX|count(1)|\n",
      "+------+--------+\n",
      "|  NULL|    1122|\n",
      "|female|    2218|\n",
      "|  male|    1825|\n",
      "+------+--------+\n",
      "\n"
     ]
    }
   ],
   "source": [
    "spark.sql(\"\"\"\n",
    "\n",
    "SELECT SEX ,COUNT(*) \n",
    "FROM df_patients\n",
    "GROUP BY SEX\n",
    "\n",
    "\"\"\").show()"
   ]
  },
  {
   "cell_type": "markdown",
   "id": "73683674",
   "metadata": {},
   "source": [
    "### How many people did survive, and how many didn't?"
   ]
  },
  {
   "cell_type": "code",
   "execution_count": 88,
   "id": "1e5a3908",
   "metadata": {},
   "outputs": [
    {
     "name": "stdout",
     "output_type": "stream",
     "text": [
      "+--------+--------+\n",
      "|   state|count(1)|\n",
      "+--------+--------+\n",
      "|isolated|    2158|\n",
      "|released|    2929|\n",
      "|deceased|      78|\n",
      "+--------+--------+\n",
      "\n"
     ]
    }
   ],
   "source": [
    "spark.sql(\"\"\"\n",
    "\n",
    "SELECT state ,COUNT(*) \n",
    "FROM df_patients\n",
    "GROUP BY state\n",
    "\n",
    "\"\"\").show()"
   ]
  },
  {
   "cell_type": "markdown",
   "id": "d4424228",
   "metadata": {},
   "source": [
    "### Now, let's perform some preprocessing using SQL:\n",
    "1. Convert *age* column to double after removing the 's' at the end -- *hint: check SUBSTRING method*\n",
    "2. Select only the following columns: `['sex', 'age', 'province', 'state']`\n",
    "3. Store the result of the query in a new dataframe"
   ]
  },
  {
   "cell_type": "code",
   "execution_count": null,
   "id": "16994e4d",
   "metadata": {},
   "outputs": [],
   "source": []
  },
  {
   "cell_type": "code",
   "execution_count": null,
   "id": "d3cf4f0f",
   "metadata": {
    "scrolled": true
   },
   "outputs": [],
   "source": []
  },
  {
   "cell_type": "code",
   "execution_count": null,
   "id": "791ec1b8",
   "metadata": {},
   "outputs": [],
   "source": [
    "df = pyspark.sql ()"
   ]
  },
  {
   "cell_type": "code",
   "execution_count": null,
   "id": "61c70bc8",
   "metadata": {},
   "outputs": [],
   "source": []
  },
  {
   "cell_type": "code",
   "execution_count": null,
   "id": "7a71806f",
   "metadata": {},
   "outputs": [],
   "source": []
  },
  {
   "cell_type": "code",
   "execution_count": null,
   "id": "5687d075",
   "metadata": {},
   "outputs": [],
   "source": []
  },
  {
   "cell_type": "code",
   "execution_count": null,
   "id": "168f28e3",
   "metadata": {},
   "outputs": [],
   "source": []
  },
  {
   "cell_type": "code",
   "execution_count": null,
   "id": "21036ad3",
   "metadata": {},
   "outputs": [],
   "source": []
  },
  {
   "cell_type": "code",
   "execution_count": null,
   "id": "dbf8272d",
   "metadata": {},
   "outputs": [],
   "source": []
  }
 ],
 "metadata": {
  "kernelspec": {
   "display_name": "Python 3 (ipykernel)",
   "language": "python",
   "name": "python3"
  },
  "language_info": {
   "codemirror_mode": {
    "name": "ipython",
    "version": 3
   },
   "file_extension": ".py",
   "mimetype": "text/x-python",
   "name": "python",
   "nbconvert_exporter": "python",
   "pygments_lexer": "ipython3",
   "version": "3.12.7"
  }
 },
 "nbformat": 4,
 "nbformat_minor": 5
}
